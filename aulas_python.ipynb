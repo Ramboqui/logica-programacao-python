{
  "nbformat": 4,
  "nbformat_minor": 0,
  "metadata": {
    "colab": {
      "provenance": [],
      "toc_visible": true,
      "include_colab_link": true
    },
    "kernelspec": {
      "name": "python3",
      "display_name": "Python 3"
    },
    "language_info": {
      "name": "python"
    }
  },
  "cells": [
    {
      "cell_type": "markdown",
      "metadata": {
        "id": "view-in-github",
        "colab_type": "text"
      },
      "source": [
        "<a href=\"https://colab.research.google.com/github/Ramboqui/logica-programacao-python/blob/feature%2Fmari-desafio-3/aulas_python.ipynb\" target=\"_parent\"><img src=\"https://colab.research.google.com/assets/colab-badge.svg\" alt=\"Open In Colab\"/></a>"
      ]
    },
    {
      "cell_type": "markdown",
      "source": [
        "# **Introdução à computação**"
      ],
      "metadata": {
        "id": "YNY3blTEL6hj"
      }
    },
    {
      "cell_type": "markdown",
      "source": [
        "## **O que é programação?**"
      ],
      "metadata": {
        "id": "UgJ4uodhLqz4"
      }
    },
    {
      "cell_type": "markdown",
      "source": [
        "## **Por que é importante?**"
      ],
      "metadata": {
        "id": "MOxrFcDWMFNe"
      }
    },
    {
      "cell_type": "markdown",
      "source": [
        "1. **Solução de Problemas:** A programação ensina a abordar problemas de forma lógica e a dividir grandes problemas em partes menores e gerenciáveis. Isso ajuda não apenas na programação, mas também em muitos aspectos da vida.\n",
        "\n",
        "2. **Inovação:** A programação é a espinha dorsal da inovação tecnológica. Todas as inovações tecnológicas, desde aplicativos de smartphone até sistemas complexos de inteligência artificial, são possíveis devido à programação.\n",
        "\n",
        "3. **Empregabilidade:** A demanda por profissionais de programação está em alta. A habilidade de programar é valiosa em muitos campos, desde desenvolvimento de software até ciência de dados e engenharia.\n",
        "\n",
        "4. **Criatividade:** Programação permite que você crie suas próprias aplicações, jogos, websites e muito mais. É uma forma de expressar criatividade e imaginação digitalmente.\n",
        "\n",
        "5. **Compreensão Tecnológica:** Em um mundo cada vez mais digital, entender como os computadores funcionam e como os programas são escritos é essencial para ser um usuário eficaz da tecnologia.\n",
        "\n",
        "6. **Automação:** A programação permite automatizar tarefas repetitivas. Isso é útil tanto em tarefas diárias quanto em ambientes industriais, onde a automação aumenta a eficiência.\n",
        "\n",
        "7. **Colaboração Global:** A comunidade de programadores é global. Através da programação, as pessoas podem colaborar em projetos, resolver problemas em conjunto e criar coisas incríveis, independentemente de onde estejam no mundo.\n",
        "\n",
        "8. **Pensamento Computacional:** A programação ensina a pensar de forma lógica e a entender como as máquinas processam informações. Essa habilidade é útil mesmo fora do campo da tecnologia, ajudando na resolução de problemas em muitos contextos.\n",
        "\n",
        "Em resumo, a programação é uma habilidade poderosa e versátil que não apenas abre portas para oportunidades de carreira, mas também ajuda a desenvolver habilidades essenciais para o século 21, como pensamento crítico, resolução de problemas e criatividade."
      ],
      "metadata": {
        "id": "jZ56FZpzMH9m"
      }
    },
    {
      "cell_type": "markdown",
      "source": [
        "## **Compreensão dos Algoritmos: Como os Computadores Seguem Instruções**"
      ],
      "metadata": {
        "id": "LaTjj1_FMb3s"
      }
    },
    {
      "cell_type": "markdown",
      "source": [
        "Imagine que você está ensinando um robô a fazer um sanduíche. Você não pode apenas dizer \"faça um sanduíche\", você precisa dizer passo a passo o que fazer: pegue o pão, passe a manteiga, coloque o queijo, etc. Isso é como um algoritmo!\n",
        "\n",
        "Um algoritmo é um conjunto de passos claros e específicos para realizar uma tarefa ou resolver um problema. Nos computadores, os algoritmos são como receitas que os dizem exatamente o que fazer. Eles são essenciais porque os computadores não entendem o que queremos da mesma forma que os humanos. Precisamos ser muito específicos.\n",
        "\n",
        "Por exemplo, pense em uma busca na internet. Quando você digita algo no Google, ele não sabe instantaneamente o que você quer. Ele segue um algoritmo: primeiro, ele procura pelos sites que correspondem à sua pesquisa, depois classifica esses sites para mostrar os mais relevantes primeiro. Isso é feito seguindo passos precisos e lógicos - é o algoritmo do Google.\n",
        "\n",
        "Entender algoritmos é como entender as receitas para fazer um bolo. Se você seguir os passos na ordem certa, você terá um bolo delicioso no final. Da mesma forma, os computadores precisam de algoritmos bem definidos para realizar tarefas complexas, desde buscas na internet até simulações científicas.\n",
        "\n",
        "Portanto, a compreensão dos algoritmos é fundamental na programação, porque os programadores escrevem algoritmos para que os computadores possam seguir instruções e realizar todas as tarefas incríveis que fazemos com eles!"
      ],
      "metadata": {
        "id": "1nvor-DZMg0r"
      }
    },
    {
      "cell_type": "markdown",
      "source": [
        "# **Python: Módulo 1 - Primeiros Passos**\n"
      ],
      "metadata": {
        "id": "u0s_AiE1ZfeP"
      }
    },
    {
      "cell_type": "markdown",
      "source": [
        "## **O que é Python?**\n",
        "\n"
      ],
      "metadata": {
        "id": "HO1VAYP5JxEq"
      }
    },
    {
      "cell_type": "markdown",
      "source": [
        "Python é uma linguagem de programação. Isso significa que é uma ferramenta que os computadores entendem para fazer coisas. Imagine que você está dando instruções para um robô: Python é a linguagem que usamos para falar com esse robô, que, no caso, é um computador.\n",
        "\n",
        "**Uma linguagem de alto nível:**\n",
        "\n",
        "Pense em uma linguagem de programação como uma língua que nós, humanos, usamos para falar uns com os outros. Algumas linguagens de programação são \"baixo nível\", o que significa que são muito detalhadas e complicadas, como falar em código morse, onde cada ponto e traço importa muito. Python, por outro lado, é de \"alto nível\". Isso significa que é mais parecido com o inglês que você usa todos os dias, muito mais fácil de entender e escrever.\n",
        "\n",
        "**Uma linguagem interpretada:**\n",
        "\n",
        "Agora, pense em um tradutor que ajuda você a conversar com alguém que fala outra língua. Em algumas linguagens de programação, você primeiro escreve o código e, em seguida, precisa de um processo chamado compilação para transformar esse código em algo que o computador entende. Python não precisa desse passo extra. É como se o seu tradutor (intérprete) entendesse você diretamente, sem precisar traduzir primeiro.\n",
        "\n",
        "**Uma linguagem de propósito geral:**\n",
        "\n",
        "Python não é especializado em apenas uma coisa. Alguns idiomas são como ferramentas muito específicas, como uma chave de fenda usada apenas para parafusos pequenos. Python é mais como uma caixa de ferramentas com muitas ferramentas diferentes, servindo para várias finalidades. Você pode usá-lo para criar sites, jogos, fazer cálculos complexos, automatizar tarefas chatas e até mesmo ensinar outras pessoas a programar.\n",
        "\n",
        "Então, resumindo, Python é uma linguagem de programação que é fácil de entender e escrever, funciona como um tradutor instantâneo para o computador e pode ser usado para fazer uma grande variedade de coisas legais!"
      ],
      "metadata": {
        "id": "c5rw0qfKKnIG"
      }
    },
    {
      "cell_type": "markdown",
      "source": [
        "## **Configurar Ambiente**"
      ],
      "metadata": {
        "id": "cLugw4GJNefb"
      }
    },
    {
      "cell_type": "markdown",
      "source": [
        "Configurar um ambiente Python no Windows usando o Visual Studio Code (VS Code) como IDE e o PowerShell para executar scripts é uma ótima escolha para começar a programar em Python. Aqui está um guia passo a passo para configurar esse ambiente:"
      ],
      "metadata": {
        "id": "n-hmlKV9Ntbb"
      }
    },
    {
      "cell_type": "markdown",
      "source": [
        "### **Passo 1: Instalar o Python**"
      ],
      "metadata": {
        "id": "KaTGz67tN0bL"
      }
    },
    {
      "cell_type": "markdown",
      "source": [
        "1. **Baixe o Python:** Vá para o site oficial do Python em [python.org](https://www.python.org/downloads/) e clique em \"Download\". Escolha a versão mais recente para Windows e execute o instalador.\n",
        "\n",
        "2. **Adicione o Python ao PATH:** Durante a instalação, marque a opção \"Add Python to PATH\". Isso permite que o sistema encontre o Python facilmente."
      ],
      "metadata": {
        "id": "JUSRWQOON6i8"
      }
    },
    {
      "cell_type": "markdown",
      "source": [
        "### **Passo 2: Instalar o Visual Studio Code**"
      ],
      "metadata": {
        "id": "6gH3NYl-N9xS"
      }
    },
    {
      "cell_type": "markdown",
      "source": [
        "1. **Baixe e Instale o VS Code:** Vá para [code.visualstudio.com](https://code.visualstudio.com/) e baixe o instalador do VS Code para Windows. Execute o instalador.\n",
        "\n",
        "2. **Instale Extensões Python:** Abra o VS Code. Clique na barra lateral à esquerda, no ícone de quadrado (Extensões) e pesquise por \"Python\". Instale a extensão oferecida pela Microsoft, que é geralmente a primeira da lista."
      ],
      "metadata": {
        "id": "tij9jMTmOBl8"
      }
    },
    {
      "cell_type": "markdown",
      "source": [
        "### **Passo 3: Configurar o PowerShell para Executar Scripts Python**"
      ],
      "metadata": {
        "id": "kSqgDoKROHfO"
      }
    },
    {
      "cell_type": "markdown",
      "source": [
        "1. **Verifique se o PowerShell está Habilitado:** O PowerShell está habilitado por padrão no Windows. Para verificar, digite \"PowerShell\" no menu Iniciar e abra o aplicativo.\n",
        "\n",
        "2. **Configurar Execução de Scripts:** Para permitir a execução de scripts no PowerShell, você precisa definir a política de execução. Abra o PowerShell como administrador (clique com o botão direito do mouse no ícone do PowerShell no menu Iniciar e escolha \"Executar como Administrador\"). Em seguida, execute o seguinte comando para permitir a execução de scripts:\n",
        "\n",
        "   ```powershell\n",
        "   Set-ExecutionPolicy RemoteSigned\n",
        "   ```\n",
        "\n",
        "   Responda \"Y\" (Yes) quando for solicitado a confirmar."
      ],
      "metadata": {
        "id": "v4T7vZX4OKwA"
      }
    },
    {
      "cell_type": "markdown",
      "source": [
        "### **Passo 4: Criar e Executar um Script Python no VS Code usando o PowerShell**"
      ],
      "metadata": {
        "id": "uJ8SYOiCOPUk"
      }
    },
    {
      "cell_type": "markdown",
      "source": [
        "1. **Abra o VS Code:** Abra o Visual Studio Code.\n",
        "\n",
        "2. **Criar um Novo Arquivo Python:** Crie um novo arquivo clicando em \"File\" (Arquivo) > \"New File\" (Novo Arquivo) e salve com a extensão \".py\", por exemplo, \"meu_script.py\".\n",
        "\n",
        "3. **Escreva Seu Código Python:** Escreva seu código Python no arquivo. Por exemplo:\n",
        "\n",
        "   ```python\n",
        "   print(\"Olá, mundo!\")\n",
        "   ```\n",
        "\n",
        "4. **Executar o Script:** Abra o terminal no VS Code clicando em \"Terminal\" > \"New Terminal\" (Terminal > Novo Terminal). Certifique-se de que o terminal esteja usando o PowerShell. Navegue até o diretório onde você salvou o arquivo Python usando o comando `cd` e, em seguida, execute o script usando o comando `python`:\n",
        "\n",
        "   ```powershell\n",
        "   python meu_script.py\n",
        "   ```\n",
        "\n",
        "Agora você configurou com sucesso um ambiente Python no Windows usando o Visual Studio Code como sua IDE e o PowerShell para executar scripts Python!"
      ],
      "metadata": {
        "id": "Fuzq2SmAOSwG"
      }
    },
    {
      "cell_type": "markdown",
      "source": [
        "## **Variáveis**"
      ],
      "metadata": {
        "id": "uEjQ0r8UO5m0"
      }
    },
    {
      "cell_type": "markdown",
      "source": [
        "Vamos falar sobre variáveis em Python de uma forma fácil de entender."
      ],
      "metadata": {
        "id": "MdreNreUO_Uo"
      }
    },
    {
      "cell_type": "markdown",
      "source": [
        "### **O que são Variáveis?**"
      ],
      "metadata": {
        "id": "uOMAlQnxPGnj"
      }
    },
    {
      "cell_type": "markdown",
      "source": [
        "Em programação, uma variável é como uma caixa que você pode usar para armazenar informações. Imagine que você tem uma caixa chamada \"idade\" e quer guardar a sua idade nela. Em Python, você faria isso usando uma variável."
      ],
      "metadata": {
        "id": "HSOgjYujPL95"
      }
    },
    {
      "cell_type": "markdown",
      "source": [
        "### **Como Funcionam as Variáveis em Python?**"
      ],
      "metadata": {
        "id": "xRQDoYm_PZVH"
      }
    },
    {
      "cell_type": "markdown",
      "source": [
        "Em Python, criar uma variável é muito simples. Você escolhe um nome para sua variável (como \"idade\") e atribui um valor a ela usando o sinal de igual/recebe (`=`). Por exemplo:"
      ],
      "metadata": {
        "id": "ASxeQrq5PbWq"
      }
    },
    {
      "cell_type": "code",
      "source": [
        "idade = 15 # leitura: idade recebe 15"
      ],
      "metadata": {
        "id": "DE3tCLW0P1AW"
      },
      "execution_count": null,
      "outputs": []
    },
    {
      "cell_type": "markdown",
      "source": [
        "Agora, a variável `idade` contém o valor `15`."
      ],
      "metadata": {
        "id": "smSZ_4n4P9_z"
      }
    },
    {
      "cell_type": "markdown",
      "source": [
        "### **Tipos de Dados das Variáveis:**"
      ],
      "metadata": {
        "id": "PoDnfR50QCi7"
      }
    },
    {
      "cell_type": "markdown",
      "source": [
        "As variáveis em Python podem armazenar diferentes tipos de dados, incluindo:"
      ],
      "metadata": {
        "id": "lBogHADEQFSZ"
      }
    },
    {
      "cell_type": "markdown",
      "source": [
        "**1. Números:**\n",
        "   - **Inteiros (int):** São números inteiros, como -1, 0, 1, 2, 3, etc. Usados para contar coisas sem decimais.\n",
        "   - **Números de ponto flutuante (float):** São números com decimais, como 3.14, 2.0, 0.5, etc. Usados quando precisamos de precisão decimal, como em dinheiro ou medidas de peso.\n",
        "\n",
        "**2. Texto:**\n",
        "   - **String (str):** São usadas para representar texto. Por exemplo, \"Olá, mundo!\" é uma string. Strings são como frases que o computador pode entender.\n",
        "\n",
        "**3. Booleanos:**\n",
        "   - **Booleano (bool):** Pode ser True (verdadeiro) ou False (falso). Usado para fazer comparações e tomar decisões. Por exemplo, podemos dizer que é verdadeiro que o céu é azul ou falso que os peixes podem voar.\n",
        "\n",
        "**4. Listas:**\n",
        "   - **Lista (list):** É uma coleção ordenada de itens. Por exemplo, uma lista de números como [1, 2, 3] ou uma lista de nomes como [\"Ana\", \"João\", \"Maria\"]. As listas são flexíveis e podem conter diferentes tipos de dados.\n",
        "\n",
        "**5. Tuplas:**\n",
        "   - **Tupla (tuple):** Semelhante a uma lista, mas imutável, o que significa que não pode ser alterada depois de criada. Por exemplo, (1, 2, 3) é uma tupla.\n",
        "\n",
        "**6. Dicionários:**\n",
        "   - **Dicionário (dict):** É uma coleção de pares chave-valor. Cada elemento no dicionário tem uma chave única associada a um valor. É como um dicionário real, onde você tem uma palavra (chave) e a definição dela (valor). Por exemplo, {\"maçã\": 3, \"banana\": 5, \"laranja\": 2} é um dicionário."
      ],
      "metadata": {
        "id": "7rXd63O3KsuM"
      }
    },
    {
      "cell_type": "markdown",
      "source": [
        "**Por exemplo:**"
      ],
      "metadata": {
        "id": "c4TtOji-QeS4"
      }
    },
    {
      "cell_type": "code",
      "source": [
        "nome = \"Alice\"  # Uma string\n",
        "nota = 9.5     # Um número de ponto flutuante\n",
        "tem_cachorro = True  # Um valor booleano"
      ],
      "metadata": {
        "id": "DY75hiyfQlg-"
      },
      "execution_count": null,
      "outputs": []
    },
    {
      "cell_type": "markdown",
      "source": [
        "### **Reatribuição de Variáveis:**"
      ],
      "metadata": {
        "id": "Ed_zPnjRQpbp"
      }
    },
    {
      "cell_type": "markdown",
      "source": [
        "Em Python, você pode mudar o valor de uma variável a qualquer momento. Por exemplo:"
      ],
      "metadata": {
        "id": "jVQGVBcmQtrm"
      }
    },
    {
      "cell_type": "code",
      "source": [
        "idade = 15  # Agora idade é 15\n",
        "idade = 16  # Agora idade é 16, pois foi reatribuída"
      ],
      "metadata": {
        "id": "1Lc2yMliQ0pc"
      },
      "execution_count": null,
      "outputs": []
    },
    {
      "cell_type": "markdown",
      "source": [
        "### **Usando Variáveis em Operações:**"
      ],
      "metadata": {
        "id": "j7dd5FUdQy-K"
      }
    },
    {
      "cell_type": "markdown",
      "source": [
        "Você também pode usar variáveis em operações matemáticas ou com strings:"
      ],
      "metadata": {
        "id": "ew1Twr6hQ7Ew"
      }
    },
    {
      "cell_type": "code",
      "source": [
        "a = 10\n",
        "b = 5\n",
        "soma = a + b  # soma agora é 15\n",
        "mensagem = \"Olá, \" + nome  # mensagem agora é \"Olá, Alice\""
      ],
      "metadata": {
        "id": "6M73mRhtQ6Md"
      },
      "execution_count": null,
      "outputs": []
    },
    {
      "cell_type": "markdown",
      "source": [
        "Variáveis são fundamentais na programação, pois permitem que você armazene dados e faça operações com esses dados de maneira dinâmica e flexível. Elas são como os \"potinhos\" onde você guarda as informações que seu programa precisa usar."
      ],
      "metadata": {
        "id": "YXCr9v4KRB_p"
      }
    },
    {
      "cell_type": "markdown",
      "source": [],
      "metadata": {
        "id": "ZUum00iKa3LT"
      }
    },
    {
      "cell_type": "markdown",
      "source": [
        "## **Operadores**"
      ],
      "metadata": {
        "id": "bmrNSWRfRh_b"
      }
    },
    {
      "cell_type": "markdown",
      "source": [
        "Em Python, existem diferentes tipos de operadores que você pode usar para realizar várias operações. Vou explicar os principais tipos de operadores: aritméticos, de comparação e lógicos."
      ],
      "metadata": {
        "id": "frSEwDUVRk5V"
      }
    },
    {
      "cell_type": "markdown",
      "source": [
        "### **1. Operadores Aritméticos:**"
      ],
      "metadata": {
        "id": "V76csMJlRx2W"
      }
    },
    {
      "cell_type": "markdown",
      "source": [
        "Os operadores aritméticos são usados para realizar operações matemáticas básicas."
      ],
      "metadata": {
        "id": "lCwOvyZaR1CT"
      }
    },
    {
      "cell_type": "markdown",
      "source": [
        "\n",
        "- **`+` (Adição):** Soma dois valores."
      ],
      "metadata": {
        "id": "FXWsW2e1R6Oz"
      }
    },
    {
      "cell_type": "code",
      "source": [
        "resultado = 5 + 3  # resultado é 8"
      ],
      "metadata": {
        "id": "KkfVKS5SSChl"
      },
      "execution_count": null,
      "outputs": []
    },
    {
      "cell_type": "markdown",
      "source": [
        "- **`-` (Subtração):** Subtrai um valor de outro."
      ],
      "metadata": {
        "id": "oR6VzEUASHM5"
      }
    },
    {
      "cell_type": "code",
      "source": [
        "resultado = 7 - 4  # resultado é 3"
      ],
      "metadata": {
        "id": "vEsA4fTRSYg-"
      },
      "execution_count": null,
      "outputs": []
    },
    {
      "cell_type": "markdown",
      "source": [
        "- **`*` (Multiplicação):** Multiplica dois valores."
      ],
      "metadata": {
        "id": "KHkXW8aESbpY"
      }
    },
    {
      "cell_type": "code",
      "source": [
        "resultado = 2 * 6  # resultado é 12"
      ],
      "metadata": {
        "id": "PGY4E1SXSkhV"
      },
      "execution_count": null,
      "outputs": []
    },
    {
      "cell_type": "markdown",
      "source": [
        "- **`/` (Divisão):** Divide um valor pelo outro (resulta em um número de ponto flutuante)."
      ],
      "metadata": {
        "id": "bYf7PF1xSnTM"
      }
    },
    {
      "cell_type": "code",
      "source": [
        "resultado = 8 / 2  # resultado é 4.0"
      ],
      "metadata": {
        "id": "zTZMQIGUSsWx"
      },
      "execution_count": null,
      "outputs": []
    },
    {
      "cell_type": "markdown",
      "source": [
        "- **`//` (Divisão Inteira):** Divide um valor pelo outro, resultando em um número inteiro (descarta a parte decimal)."
      ],
      "metadata": {
        "id": "hFK8tnnSSvF8"
      }
    },
    {
      "cell_type": "code",
      "source": [
        "resultado = 8 // 3  # resultado é 2"
      ],
      "metadata": {
        "id": "gOHBYE7RSzkG"
      },
      "execution_count": null,
      "outputs": []
    },
    {
      "cell_type": "markdown",
      "source": [
        "- **`%` (Módulo):** Retorna o resto da divisão."
      ],
      "metadata": {
        "id": "U7wSGd6zS2of"
      }
    },
    {
      "cell_type": "code",
      "source": [
        "resultado = 10 % 3  # resultado é 1 (porque 10 dividido por 3 é 3 com um resto de 1)"
      ],
      "metadata": {
        "id": "xZ09U7LYS7LR"
      },
      "execution_count": null,
      "outputs": []
    },
    {
      "cell_type": "markdown",
      "source": [
        "- ** `**` (Exponenciação):** Calcula um número elevado a uma potência."
      ],
      "metadata": {
        "id": "r4TFWTZuS6bL"
      }
    },
    {
      "cell_type": "code",
      "source": [
        "resultado = 2 ** 3  # resultado é 8 (porque 2 elevado à 3ª potência é 8)"
      ],
      "metadata": {
        "id": "sZIojNAxTB02"
      },
      "execution_count": null,
      "outputs": []
    },
    {
      "cell_type": "markdown",
      "source": [
        "### **2. Operadores de Comparação:**"
      ],
      "metadata": {
        "id": "hmzkZ7orTEJH"
      }
    },
    {
      "cell_type": "markdown",
      "source": [
        "Os operadores de comparação são usados para comparar dois valores."
      ],
      "metadata": {
        "id": "FNPAo8dfTG5U"
      }
    },
    {
      "cell_type": "markdown",
      "source": [
        "- **`==` (Igual a):** Verifica se dois valores são iguais."
      ],
      "metadata": {
        "id": "723ELHz-TJPU"
      }
    },
    {
      "cell_type": "code",
      "source": [
        "resultado = (5 == 5)  # resultado é True"
      ],
      "metadata": {
        "id": "lTQ4szP0TNgT"
      },
      "execution_count": null,
      "outputs": []
    },
    {
      "cell_type": "markdown",
      "source": [
        "- **`!=` (Diferente de):** Verifica se dois valores são diferentes."
      ],
      "metadata": {
        "id": "ux2jgB7YTYAc"
      }
    },
    {
      "cell_type": "code",
      "source": [
        "resultado = (5 != 2)  # resultado é True"
      ],
      "metadata": {
        "id": "JLPf-kikTeua"
      },
      "execution_count": null,
      "outputs": []
    },
    {
      "cell_type": "markdown",
      "source": [
        "- **`>` (Maior que):** Verifica se um valor é maior que outro."
      ],
      "metadata": {
        "id": "hjSrDueQTgai"
      }
    },
    {
      "cell_type": "code",
      "source": [
        "resultado = (7 > 3)  # resultado é True"
      ],
      "metadata": {
        "id": "j_ZO90whTqrB"
      },
      "execution_count": null,
      "outputs": []
    },
    {
      "cell_type": "markdown",
      "source": [
        "- **`<` (Menor que):** Verifica se um valor é menor que outro."
      ],
      "metadata": {
        "id": "knrOcYq4TuSs"
      }
    },
    {
      "cell_type": "code",
      "source": [
        "resultado = (4 < 9)  # resultado é True"
      ],
      "metadata": {
        "id": "D_kw9t65Tz47"
      },
      "execution_count": null,
      "outputs": []
    },
    {
      "cell_type": "markdown",
      "source": [
        "- **`>=` (Maior ou igual a):** Verifica se um valor é maior ou igual a outro."
      ],
      "metadata": {
        "id": "QaKo9Kp9T4iq"
      }
    },
    {
      "cell_type": "code",
      "source": [
        "resultado = (6 >= 6)  # resultado é True"
      ],
      "metadata": {
        "id": "S-9aq2kUT-of"
      },
      "execution_count": null,
      "outputs": []
    },
    {
      "cell_type": "markdown",
      "source": [
        "- **`<=` (Menor ou igual a):** Verifica se um valor é menor ou igual a outro."
      ],
      "metadata": {
        "id": "tJdCzhRaUAUE"
      }
    },
    {
      "cell_type": "code",
      "source": [
        "resultado = (3 <= 5)  # resultado é True"
      ],
      "metadata": {
        "id": "hehCMONGUDYS"
      },
      "execution_count": null,
      "outputs": []
    },
    {
      "cell_type": "markdown",
      "source": [
        "### **3. Operadores Lógicos:**"
      ],
      "metadata": {
        "id": "-1r19ruuUG57"
      }
    },
    {
      "cell_type": "markdown",
      "source": [
        "Os operadores lógicos são usados para combinar expressões condicionais."
      ],
      "metadata": {
        "id": "GcBCun-DUJZK"
      }
    },
    {
      "cell_type": "markdown",
      "source": [
        "- **`and` (E lógico):** Retorna True se ambas as condições forem verdadeiras."
      ],
      "metadata": {
        "id": "PAXtkHn4UNDZ"
      }
    },
    {
      "cell_type": "code",
      "source": [
        "resultado = (True and False)  # resultado é False"
      ],
      "metadata": {
        "id": "5bLLpUw2UQHM"
      },
      "execution_count": null,
      "outputs": []
    },
    {
      "cell_type": "markdown",
      "source": [
        "- **`or` (OU lógico):** Retorna True se pelo menos uma das condições for verdadeira."
      ],
      "metadata": {
        "id": "UyF9r9FkUSkH"
      }
    },
    {
      "cell_type": "code",
      "source": [
        "resultado = (True or False)  # resultado é True"
      ],
      "metadata": {
        "id": "TjtT5B6ZUVcu"
      },
      "execution_count": null,
      "outputs": []
    },
    {
      "cell_type": "markdown",
      "source": [
        "- **`not` (NÃO lógico):** Inverte o valor de uma expressão."
      ],
      "metadata": {
        "id": "k8zppQhyUaY7"
      }
    },
    {
      "cell_type": "code",
      "source": [
        "resultado = not True  # resultado é False"
      ],
      "metadata": {
        "id": "R46Tg7aFUgGN"
      },
      "execution_count": null,
      "outputs": []
    },
    {
      "cell_type": "markdown",
      "source": [
        "Esses operadores são fundamentais para criar lógica e tomar decisões em programas Python. Eles permitem que você realize cálculos, compare valores e crie condições para controlar o fluxo do seu código."
      ],
      "metadata": {
        "id": "nqBVKccVUieD"
      }
    },
    {
      "cell_type": "markdown",
      "source": [
        "## **Saída de Dados em Python usando `print()`:**"
      ],
      "metadata": {
        "id": "Xqmvr3IjcWNe"
      }
    },
    {
      "cell_type": "markdown",
      "source": [
        "Em Python, a função `print()` é usada para mostrar informações na tela do computador. É como quando você escreve algo em um papel para mostrar a outras pessoas."
      ],
      "metadata": {
        "id": "ct3-3bQZcgxy"
      }
    },
    {
      "cell_type": "markdown",
      "source": [
        "### **Como Usar `print()`:**"
      ],
      "metadata": {
        "id": "pGP-BJzgc4oT"
      }
    },
    {
      "cell_type": "markdown",
      "source": [
        "Para usar `print()`, você escreve a palavra `print`, seguida por parênteses `( )`. Dentro desses parênteses, você coloca o que deseja mostrar. Por exemplo:"
      ],
      "metadata": {
        "id": "jB-ZOBOAc70R"
      }
    },
    {
      "cell_type": "code",
      "source": [
        "print(\"Olá, mundo!\")"
      ],
      "metadata": {
        "id": "Yu0V3p1bdFXL"
      },
      "execution_count": null,
      "outputs": []
    },
    {
      "cell_type": "markdown",
      "source": [
        "Neste caso, `print()` está mostrando a frase \"Olá, mundo!\" na tela.\n",
        "\n",
        "Você também pode imprimir múltiplas coisas na mesma linha, separando-as por vírgulas:"
      ],
      "metadata": {
        "id": "MHR2bcaRdHb1"
      }
    },
    {
      "cell_type": "code",
      "source": [
        "nome = \"Alice\"\n",
        "idade = 15\n",
        "print(\"Olá, meu nome é\", nome, \"e eu tenho\", idade, \"anos.\")"
      ],
      "metadata": {
        "id": "6K09NMaTdN4o"
      },
      "execution_count": null,
      "outputs": []
    },
    {
      "cell_type": "markdown",
      "source": [
        "Nesse exemplo, `print()` está mostrando uma mensagem que inclui o valor da variável `nome` e `idade`."
      ],
      "metadata": {
        "id": "SGh0127MdPFh"
      }
    },
    {
      "cell_type": "markdown",
      "source": [
        "### **Usando Variáveis com `print()`:**"
      ],
      "metadata": {
        "id": "XHXmX8ZfdRp2"
      }
    },
    {
      "cell_type": "markdown",
      "source": [
        "Você pode imprimir o valor de uma variável usando `print()`. Por exemplo:"
      ],
      "metadata": {
        "id": "2jvtTE2IdUi-"
      }
    },
    {
      "cell_type": "code",
      "source": [
        "numero = 42\n",
        "print(numero)"
      ],
      "metadata": {
        "id": "1QgBiafWdXwu"
      },
      "execution_count": null,
      "outputs": []
    },
    {
      "cell_type": "markdown",
      "source": [
        "Neste caso, `print()` mostra o valor da variável `numero`, que é 42."
      ],
      "metadata": {
        "id": "pWSBCfHTdZHG"
      }
    },
    {
      "cell_type": "markdown",
      "source": [
        "### **Quebras de Linha com `print()`:**"
      ],
      "metadata": {
        "id": "om5xXOqjdbV1"
      }
    },
    {
      "cell_type": "markdown",
      "source": [
        "Você também pode usar `\\n` para criar uma nova linha, como um \"pular linha\". Por exemplo:"
      ],
      "metadata": {
        "id": "qxGxCWYrdc_4"
      }
    },
    {
      "cell_type": "code",
      "source": [
        "print(\"Primeira linha.\\nSegunda linha.\")"
      ],
      "metadata": {
        "id": "LxK9aFabdfnR"
      },
      "execution_count": null,
      "outputs": []
    },
    {
      "cell_type": "markdown",
      "source": [
        "Neste caso, `print()` mostra \"Primeira linha.\" em uma linha e \"Segunda linha.\" em uma nova linha abaixo.\n",
        "\n",
        "Essa é a maneira básica de usar a função `print()` para mostrar informações na tela em Python. É uma maneira importante de ver os resultados do seu código!"
      ],
      "metadata": {
        "id": "uPGiHIzidgnW"
      }
    },
    {
      "cell_type": "markdown",
      "source": [
        "## **Entrada de Dados em Python usando `input()`:**"
      ],
      "metadata": {
        "id": "jViWZKeaemw4"
      }
    },
    {
      "cell_type": "markdown",
      "source": [
        "A entrada de dados é uma parte crucial da programação. Às vezes, queremos que o usuário forneça informações para o nosso programa, como um nome ou uma idade. Em Python, usamos a função `input()` para receber dados do usuário."
      ],
      "metadata": {
        "id": "9IxzNoepexIW"
      }
    },
    {
      "cell_type": "markdown",
      "source": [
        "### **Como Usar `input()`:**"
      ],
      "metadata": {
        "id": "S_bZ1Ad3ezuo"
      }
    },
    {
      "cell_type": "markdown",
      "source": [
        "Quando você usa `input()`, o programa para e espera que o usuário digite alguma coisa. Por exemplo:"
      ],
      "metadata": {
        "id": "DRhb21XXe1ac"
      }
    },
    {
      "cell_type": "code",
      "source": [
        "nome = input(\"Digite seu nome: \")\n",
        "print(\"Olá\", nome + \", como vai?\")"
      ],
      "metadata": {
        "id": "dGdwrg4be4-D"
      },
      "execution_count": null,
      "outputs": []
    },
    {
      "cell_type": "markdown",
      "source": [
        "Neste exemplo, o programa mostrará \"Digite seu nome: \" na tela. O usuário então digita seu nome e pressiona Enter. O que foi digitado é armazenado na variável `nome`.\n",
        "\n",
        "Você pode usar a entrada fornecida pelo `input()` da mesma forma que usa qualquer outra variável. Por exemplo:"
      ],
      "metadata": {
        "id": "YhloaHvpe54C"
      }
    },
    {
      "cell_type": "code",
      "source": [
        "idade = input(\"Digite sua idade: \")\n",
        "print(\"Você tem\", idade, \"anos.\")"
      ],
      "metadata": {
        "id": "bBVXTrVce-N6"
      },
      "execution_count": null,
      "outputs": []
    },
    {
      "cell_type": "markdown",
      "source": [
        "Nesse caso, o programa pedirá que o usuário digite sua idade. O que for digitado será armazenado na variável `idade` e depois será impresso na tela."
      ],
      "metadata": {
        "id": "eYPbT0v2e-2q"
      }
    },
    {
      "cell_type": "markdown",
      "source": [
        "**Importante:** É importante notar que a função `input()` sempre retorna uma string (sequência de caracteres), mesmo que o usuário digite números. Se você precisar usar a entrada como um número inteiro ou um número de ponto flutuante, você precisará convertê-la usando `int()` ou `float()`. Por exemplo:"
      ],
      "metadata": {
        "id": "z6mVtvHqfDAo"
      }
    },
    {
      "cell_type": "code",
      "source": [
        "idade_str = input(\"Digite sua idade: \")\n",
        "print(type(idade_str))\n",
        "idade = int(idade_str)  # Converte a string para um número inteiro\n",
        "print(type(idade))"
      ],
      "metadata": {
        "id": "i-ZW4gZ8fF58"
      },
      "execution_count": null,
      "outputs": []
    },
    {
      "cell_type": "markdown",
      "source": [
        "Assim, você pode receber informações do usuário e usá-las em seu programa, permitindo uma interação dinâmica e personalizada com os usuários."
      ],
      "metadata": {
        "id": "WS-_f8pefGmZ"
      }
    },
    {
      "cell_type": "markdown",
      "source": [
        "## **Exercícios**"
      ],
      "metadata": {
        "id": "Ouvbvd7FfyAW"
      }
    },
    {
      "cell_type": "markdown",
      "source": [
        "### **Exercícios de Variáveis:**"
      ],
      "metadata": {
        "id": "yu8Y2Szbg0Ur"
      }
    },
    {
      "cell_type": "markdown",
      "source": [
        "1.   Declare uma variável chamada `idade` e atribua seu próprio número de idade a ela. Em seguida, imprima a mensagem: \"Você tem X anos.\" substituindo X pelo valor de `idade`."
      ],
      "metadata": {
        "id": "cTopyzTCg42S"
      }
    },
    {
      "cell_type": "code",
      "source": [
        "# prompt: Declare uma variável chamada idade e atribua seu próprio número de idade a ela. Em seguida, imprima a mensagem: \"Você tem X anos.\" substituindo X pelo valor de idade.\n",
        "\n",
        "idade = 25\n",
        "print(\"Você tem\", idade, \"anos.\")\n"
      ],
      "metadata": {
        "id": "dn1-FFj4g9xu"
      },
      "execution_count": null,
      "outputs": []
    },
    {
      "cell_type": "markdown",
      "source": [
        "2.   Declare duas variáveis `numero1` e `numero2` com valores inteiros. Calcule a soma desses números e imprima o resultado."
      ],
      "metadata": {
        "id": "9rqSsnxZhaVD"
      }
    },
    {
      "cell_type": "code",
      "source": [
        "# prompt: Declare duas variáveis numero1 e numero2 com valores inteiros. Calcule a soma desses números e imprima o resultado.\n",
        "\n",
        "numero1 = 10\n",
        "numero2 = 20\n",
        "\n",
        "soma = numero1 + numero2\n",
        "\n",
        "print(\"A soma dos números é:\", soma)\n"
      ],
      "metadata": {
        "id": "z1-YY6-khnng"
      },
      "execution_count": null,
      "outputs": []
    },
    {
      "cell_type": "markdown",
      "source": [
        "3.   Declare uma variável chamada `nome` e atribua seu nome a ela. Imprima uma mensagem de boas-vindas, incluindo o nome: \"Bem-vindo(a), Nome!\"."
      ],
      "metadata": {
        "id": "ndeeAp0NhoIW"
      }
    },
    {
      "cell_type": "code",
      "source": [
        "# prompt: Declare uma variável chamada nome e atribua seu nome a ela. Imprima uma mensagem de boas-vindas, incluindo o nome: \"Bem-vindo(a), Nome!\".\n",
        "\n",
        "nome = \"João\"\n",
        "print(\"Bem-vindo(a),\", nome + \"!\")\n"
      ],
      "metadata": {
        "id": "ESHw9rpihp_H"
      },
      "execution_count": null,
      "outputs": []
    },
    {
      "cell_type": "markdown",
      "source": [
        "4.   Declare uma variável com o seu filme favorito e outra com o ano de lançamento. Imprima a mensagem: \"Meu filme favorito é 'NomeDoFilme', lançado em AnoDeLançamento.\""
      ],
      "metadata": {
        "id": "uYh9KSrthqsR"
      }
    },
    {
      "cell_type": "code",
      "source": [
        "# prompt: Declare uma variável com o seu filme favorito e outra com o ano de lançamento. Imprima a mensagem: \"Meu filme favorito é 'NomeDoFilme', lançado em AnoDeLançamento.\"\n",
        "\n",
        "filme_favorito = \"O Senhor dos Anéis: A Sociedade do Anel\"\n",
        "ano_lancamento = 2001\n",
        "\n",
        "print(\"Meu filme favorito é\", filme_favorito, \"lançado em\", ano_lancamento)\n"
      ],
      "metadata": {
        "id": "og2NqW38htF4"
      },
      "execution_count": null,
      "outputs": []
    },
    {
      "cell_type": "markdown",
      "source": [
        "### **Exercícios de Operadores:**"
      ],
      "metadata": {
        "id": "zwZhoyWYhtgI"
      }
    },
    {
      "cell_type": "markdown",
      "source": [
        "1.   Solicite ao usuário que digite dois números inteiros. Multiplique esses números e imprima o resultado."
      ],
      "metadata": {
        "id": "ObHKa6BEhxX9"
      }
    },
    {
      "cell_type": "code",
      "source": [
        "# prompt: Solicite ao usuário que digite dois números inteiros. Multiplique esses números e imprima o resultado.\n",
        "\n",
        "numero1 = int(input(\"Digite o primeiro número inteiro: \"))\n",
        "numero2 = int(input(\"Digite o segundo número inteiro: \"))\n",
        "\n",
        "multiplicacao = numero1 * numero2\n",
        "\n",
        "print(\"O resultado da multiplicação é:\", multiplicacao)\n"
      ],
      "metadata": {
        "id": "Q4NcxVtuhz0v"
      },
      "execution_count": null,
      "outputs": []
    },
    {
      "cell_type": "markdown",
      "source": [
        "2.   Peça ao usuário para inserir um número. Imprima se o número é par ou ímpar."
      ],
      "metadata": {
        "id": "0GXFsuFwh0VV"
      }
    },
    {
      "cell_type": "code",
      "source": [
        "# prompt: Peça ao usuário para inserir um número. Imprima se o número é par ou ímpar.\n",
        "\n",
        "numero = int(input(\"Digite um número: \"))\n",
        "\n",
        "if numero % 2 == 0:\n",
        "    print(f\"{numero} é um número par.\")\n",
        "else:\n",
        "    print(f\"{numero} é um número ímpar.\")\n"
      ],
      "metadata": {
        "id": "WNA_65Vgh2Zf"
      },
      "execution_count": null,
      "outputs": []
    },
    {
      "cell_type": "markdown",
      "source": [
        "3.   Peça ao usuário para inserir sua idade. Imprima se a pessoa é menor de idade (menos de 18 anos) ou maior de idade."
      ],
      "metadata": {
        "id": "GrZKS360h2vp"
      }
    },
    {
      "cell_type": "code",
      "source": [
        "# prompt: Peça ao usuário para inserir sua idade. Imprima se a pessoa é menor de idade (menos de 18 anos) ou maior de idade.\n",
        "\n",
        "idade = int(input(\"Digite sua idade: \"))\n",
        "\n",
        "if idade < 18:\n",
        "    print(\"Você é menor de idade.\")\n",
        "else:\n",
        "    print(\"Você é maior de idade.\")\n"
      ],
      "metadata": {
        "id": "e1HxoBpxh3--"
      },
      "execution_count": null,
      "outputs": []
    },
    {
      "cell_type": "markdown",
      "source": [
        "### **Exercícios de Saída de Dados e Entrada de Dados:**"
      ],
      "metadata": {
        "id": "uTw_6wZnh4jF"
      }
    },
    {
      "cell_type": "markdown",
      "source": [
        "1.   Solicite ao usuário que insira seu nome. Em seguida, imprima uma saudação personalizada, como: \"Olá, Nome!\"."
      ],
      "metadata": {
        "id": "ysuxOzbYh9eP"
      }
    },
    {
      "cell_type": "code",
      "source": [
        "# prompt: Solicite ao usuário que insira seu nome. Em seguida, imprima uma saudação personalizada, como: \"Olá, Nome!\".\n",
        "\n",
        "nome = input(\"Digite seu nome: \")\n",
        "print(\"Olá,\", nome + \"!\")\n"
      ],
      "metadata": {
        "id": "t7auPp5Eh-ug"
      },
      "execution_count": null,
      "outputs": []
    },
    {
      "cell_type": "markdown",
      "source": [
        "2.   Pergunte ao usuário qual é sua cor favorita e armazene a resposta em uma variável. Em seguida, imprima: \"Sua cor favorita é CorFavorita!\"."
      ],
      "metadata": {
        "id": "9yQgrd27iCVN"
      }
    },
    {
      "cell_type": "code",
      "source": [
        "# prompt: Pergunte ao usuário qual é sua cor favorita e armazene a resposta em uma variável. Em seguida, imprima: \"Sua cor favorita é CorFavorita!\".\n",
        "\n",
        "cor_favorita = input(\"Qual é a sua cor favorita? \")\n",
        "print(\"Sua cor favorita é\", cor_favorita + \"!\")\n"
      ],
      "metadata": {
        "id": "We1rOXTaiD0F"
      },
      "execution_count": null,
      "outputs": []
    },
    {
      "cell_type": "markdown",
      "source": [
        "3.   Peça ao usuário para inserir um número. Multiplique esse número por 2 e imprima o resultado."
      ],
      "metadata": {
        "id": "Fskox-E8iEQX"
      }
    },
    {
      "cell_type": "code",
      "source": [
        "# prompt: Peça ao usuário para inserir um número. Multiplique esse número por 2 e imprima o resultado.\n",
        "\n",
        "number = int(input(\"Enter a number: \"))\n",
        "result = number * 2\n",
        "print(\"The result is:\", result)\n"
      ],
      "metadata": {
        "id": "GUE4lrbWiGM3"
      },
      "execution_count": null,
      "outputs": []
    },
    {
      "cell_type": "markdown",
      "source": [
        "4.   Peça ao usuário para inserir seu nome e idade. Imprima uma mensagem dizendo em quantos anos ele terá 100 anos."
      ],
      "metadata": {
        "id": "NIRDGaEOiHEU"
      }
    },
    {
      "cell_type": "code",
      "source": [
        "# prompt: Peça ao usuário para inserir seu nome e idade. Imprima uma mensagem dizendo em quantos anos ele terá 100 anos.\n",
        "\n",
        "nome = input(\"Digite seu nome: \")\n",
        "idade = int(input(\"Digite sua idade: \"))\n",
        "anos_para_100 = 100 - idade\n",
        "print(nome + \", você terá 100 anos em\", anos_para_100, \"anos.\")\n"
      ],
      "metadata": {
        "id": "YLtiM-0ciILn"
      },
      "execution_count": null,
      "outputs": []
    },
    {
      "cell_type": "markdown",
      "source": [
        "5.   Peça ao usuário dois números e imprima a média deles."
      ],
      "metadata": {
        "id": "6ECGZ4noiIoz"
      }
    },
    {
      "cell_type": "code",
      "source": [
        "# prompt: Peça ao usuário dois números e imprima a média deles.\n",
        "\n",
        "num1 = float(input(\"Digite o primeiro número: \"))\n",
        "num2 = float(input(\"Digite o segundo número: \"))\n",
        "media = (num1 + num2) / 2\n",
        "print(\"A média dos dois números é:\", media)\n"
      ],
      "metadata": {
        "id": "fWCkignOiJ-u"
      },
      "execution_count": null,
      "outputs": []
    },
    {
      "cell_type": "markdown",
      "source": [
        "### **Exercícios Combinados:**"
      ],
      "metadata": {
        "id": "d8QoUzwLiKQ4"
      }
    },
    {
      "cell_type": "markdown",
      "source": [
        "1.   Crie uma calculadora simples. Peça ao usuário para inserir dois números e uma operação (+, -, *, /). Realize a operação e imprima o resultado."
      ],
      "metadata": {
        "id": "BLbxQKfciMEa"
      }
    },
    {
      "cell_type": "code",
      "source": [
        "# prompt: Crie uma calculadora simples. Peça ao usuário para inserir dois números e uma operação (+, -, *, /). Realize a operação e imprima o resultado.\n",
        "\n",
        "# Solicitar os dois números ao usuário\n",
        "num1 = float(input(\"Digite o primeiro número: \"))\n",
        "num2 = float(input(\"Digite o segundo número: \"))\n",
        "\n",
        "# Solicitar a operação ao usuário\n",
        "operacao = input(\"Digite a operação (+, -, *, /): \")\n",
        "\n",
        "# Realizar a operação\n",
        "if operacao == \"+\":\n",
        "    resultado = num1 + num2\n",
        "elif operacao == \"-\":\n",
        "    resultado = num1 - num2\n",
        "elif operacao == \"*\":\n",
        "    resultado = num1 * num2\n",
        "elif operacao == \"/\":\n",
        "    resultado = num1 / num2\n",
        "else:\n",
        "    print(\"Operação inválida\")\n",
        "    exit()\n",
        "\n",
        "# Imprimir o resultado\n",
        "print(\"O resultado é:\", resultado)\n"
      ],
      "metadata": {
        "id": "EHArdVIdiSg4"
      },
      "execution_count": null,
      "outputs": []
    },
    {
      "cell_type": "markdown",
      "source": [
        "2.   Peça ao usuário para inserir seu nome, idade e cor favorita. Em seguida, imprima uma mensagem completa usando essas informações."
      ],
      "metadata": {
        "id": "e5sw-5PziTAM"
      }
    },
    {
      "cell_type": "code",
      "source": [
        "# prompt: Peça ao usuário para inserir seu nome, idade e cor favorita. Em seguida, imprima uma mensagem completa usando essas informações.\n",
        "\n",
        "# Solicitar informações ao usuário\n",
        "nome = input(\"Digite seu nome: \")\n",
        "idade = int(input(\"Digite sua idade: \"))\n",
        "cor_favorita = input(\"Digite sua cor favorita: \")\n",
        "\n",
        "# Imprimir mensagem completa\n",
        "print(f\"Olá, {nome}. Você tem {idade} anos e sua cor favorita é {cor_favorita}.\")\n"
      ],
      "metadata": {
        "id": "eyQObAWniUUQ"
      },
      "execution_count": null,
      "outputs": []
    },
    {
      "cell_type": "markdown",
      "source": [
        "3.   Peça ao usuário para inserir dois números inteiros. Divida o primeiro número pelo segundo e imprima tanto o resultado quanto o resto da divisão."
      ],
      "metadata": {
        "id": "QoKi2KQhiUje"
      }
    },
    {
      "cell_type": "code",
      "source": [
        "# prompt: Peça ao usuário para inserir dois números inteiros. Divida o primeiro número pelo segundo e imprima tanto o resultado quanto o resto da divisão.\n",
        "\n",
        "num1 = int(input(\"Digite o primeiro número inteiro: \"))\n",
        "num2 = int(input(\"Digite o segundo número inteiro: \"))\n",
        "\n",
        "divisao = num1 // num2\n",
        "resto = num1 % num2\n",
        "\n",
        "print(\"O resultado da divisão é:\", divisao)\n",
        "print(\"O resto da divisão é:\", resto)\n"
      ],
      "metadata": {
        "id": "xMgRhySGiWEP"
      },
      "execution_count": null,
      "outputs": []
    },
    {
      "cell_type": "markdown",
      "source": [
        "4.   Crie um programa que calcule a área de um retângulo. Peça ao usuário para inserir a largura e a altura e imprima a área."
      ],
      "metadata": {
        "id": "hNiHjXdciWUk"
      }
    },
    {
      "cell_type": "code",
      "source": [
        "# prompt: Crie um programa que calcule a área de um retângulo. Peça ao usuário para inserir a largura e a altura e imprima a área.\n",
        "\n",
        "# Peça ao usuário para inserir a largura e a altura\n",
        "largura = float(input(\"Digite a largura do retângulo: \"))\n",
        "altura = float(input(\"Digite a altura do retângulo: \"))\n",
        "\n",
        "# Calcule a área do retângulo\n",
        "area = largura * altura\n",
        "\n",
        "# Imprima a área\n",
        "print(\"A área do retângulo é:\", area)\n"
      ],
      "metadata": {
        "id": "XfRn3O3viXjv"
      },
      "execution_count": null,
      "outputs": []
    },
    {
      "cell_type": "markdown",
      "source": [
        "5.   Peça ao usuário para inserir três números. Calcule a média desses números e imprima o resultado com duas casas decimais."
      ],
      "metadata": {
        "id": "gEeswo62iXxe"
      }
    },
    {
      "cell_type": "code",
      "source": [
        "# prompt: Peça ao usuário para inserir três números. Calcule a média desses números e imprima o resultado com duas casas decimais.\n",
        "\n",
        "num1 = float(input(\"Digite o primeiro número: \"))\n",
        "num2 = float(input(\"Digite o segundo número: \"))\n",
        "num3 = float(input(\"Digite o terceiro número: \"))\n",
        "\n",
        "media = (num1 + num2 + num3) / 3\n",
        "print(\"A média dos três números é: {:.2f}\".format(media))\n"
      ],
      "metadata": {
        "id": "zPdJaN2YiZVI"
      },
      "execution_count": null,
      "outputs": []
    },
    {
      "cell_type": "markdown",
      "source": [
        "### **Exercícios Desafiadores:**"
      ],
      "metadata": {
        "id": "9wZLcMINiZnS"
      }
    },
    {
      "cell_type": "markdown",
      "source": [
        "1.   Peça ao usuário para inserir uma temperatura em Celsius. Converta para Fahrenheit usando a fórmula: `F = (C × 9/5) + 32` e imprima o resultado."
      ],
      "metadata": {
        "id": "e5uZVPaWib6Q"
      }
    },
    {
      "cell_type": "code",
      "source": [
        "# prompt: Peça ao usuário para inserir uma temperatura em Celsius. Converta para Fahrenheit usando a fórmula: F = (C × 9/5) + 32 e imprima o resultado.\n",
        "\n",
        "# Peça ao usuário para inserir uma temperatura em Celsius\n",
        "celsius = float(input(\"Digite a temperatura em Celsius: \"))\n",
        "\n",
        "# Converta para Fahrenheit usando a fórmula: F = (C × 9/5) + 32\n",
        "fahrenheit = (celsius * 9/5) + 32\n",
        "\n",
        "# Imprima o resultado\n",
        "print(\"A temperatura em Fahrenheit é:\", fahrenheit)\n"
      ],
      "metadata": {
        "id": "m2tY0f1Mii2H"
      },
      "execution_count": null,
      "outputs": []
    },
    {
      "cell_type": "markdown",
      "source": [
        "2.   Crie um programa que peça ao usuário para inserir um número e imprima se é positivo, negativo ou zero."
      ],
      "metadata": {
        "id": "bkTtxJOsij0P"
      }
    },
    {
      "cell_type": "code",
      "source": [
        "# prompt: Crie um programa que peça ao usuário para inserir um número e imprima se é positivo, negativo ou zero.\n",
        "\n",
        "# Peça ao usuário para inserir um número\n",
        "numero = float(input(\"Digite um número: \"))\n",
        "\n",
        "# Verifique se o número é positivo, negativo ou zero\n",
        "if numero > 0:\n",
        "    print(\"O número é positivo.\")\n",
        "elif numero < 0:\n",
        "    print(\"O número é negativo.\")\n",
        "else:\n",
        "    print(\"O número é zero.\")\n"
      ],
      "metadata": {
        "id": "8TaK5DQ5ilBh"
      },
      "execution_count": null,
      "outputs": []
    },
    {
      "cell_type": "markdown",
      "source": [
        "3.   Peça ao usuário para inserir um número de 1 a 7. Imprima o dia da semana correspondente (1 = domingo, 2 = segunda-feira, etc.)."
      ],
      "metadata": {
        "id": "POyZdZCHilTV"
      }
    },
    {
      "cell_type": "code",
      "source": [
        "# prompt: Peça ao usuário para inserir um número de 1 a 7. Imprima o dia da semana correspondente (1 = domingo, 2 = segunda-feira, etc.).\n",
        "\n",
        "numero = int(input(\"Digite um número de 1 a 7: \"))\n",
        "if numero == 1:\n",
        "    print(\"Domingo\")\n",
        "elif numero == 2:\n",
        "    print(\"Segunda-feira\")\n",
        "elif numero == 3:\n",
        "    print(\"Terça-feira\")\n",
        "elif numero == 4:\n",
        "    print(\"Quarta-feira\")\n",
        "elif numero == 5:\n",
        "    print(\"Quinta-feira\")\n",
        "elif numero == 6:\n",
        "    print(\"Sexta-feira\")\n",
        "elif numero == 7:\n",
        "    print(\"Sábado\")\n",
        "else:\n",
        "    print(\"Número inválido\")\n"
      ],
      "metadata": {
        "id": "oVfTRT1FimXf"
      },
      "execution_count": null,
      "outputs": []
    },
    {
      "cell_type": "markdown",
      "source": [
        "4.   Peça ao usuário para inserir um número inteiro grande. Em seguida, divida esse número por 2 repetidamente até que o resultado seja menor que 1. Imprima quantas vezes foi possível dividir."
      ],
      "metadata": {
        "id": "ZP2fJX7Zimjo"
      }
    },
    {
      "cell_type": "code",
      "source": [
        "# prompt: Peça ao usuário para inserir um número inteiro grande. Em seguida, divida esse número por 2 repetidamente até que o resultado seja menor que 1. Imprima quantas vezes foi possível dividir.\n",
        "\n",
        "num = int(input(\"Insira um número inteiro grande: \"))\n",
        "count = 0\n",
        "while num >= 1:\n",
        "    num = num // 2\n",
        "    count += 1\n",
        "print(f\"O número foi dividido {count} vezes.\")\n"
      ],
      "metadata": {
        "id": "CG8U5oHNiof4"
      },
      "execution_count": null,
      "outputs": []
    },
    {
      "cell_type": "markdown",
      "source": [
        "5.   Peça ao usuário para inserir um número inteiro. Verifique se é divisível por 2 e por 3 e imprima uma mensagem correspondente."
      ],
      "metadata": {
        "id": "nPz9pTjeiouB"
      }
    },
    {
      "cell_type": "code",
      "source": [
        "# prompt: Peça ao usuário para inserir um número inteiro. Verifique se é divisível por 2 e por 3 e imprima uma mensagem correspondente.\n",
        "\n",
        "# Peça ao usuário para inserir um número inteiro\n",
        "numero = int(input(\"Digite um número inteiro: \"))\n",
        "\n",
        "# Verifique se é divisível por 2 e por 3\n",
        "if numero % 2 == 0 and numero % 3 == 0:\n",
        "    print(\"O número é divisível por 2 e por 3.\")\n",
        "elif numero % 2 == 0:\n",
        "    print(\"O número é divisível por 2, mas não por 3.\")\n",
        "elif numero % 3 == 0:\n",
        "    print(\"O número é divisível por 3, mas não por 2.\")\n",
        "else:\n",
        "    print(\"O número não é divisível por 2 nem por 3.\")\n"
      ],
      "metadata": {
        "id": "96IoExgaipyn"
      },
      "execution_count": null,
      "outputs": []
    },
    {
      "cell_type": "markdown",
      "source": [
        "6.   Crie um programa que peça ao usuário para inserir um número. Se for positivo, imprima sua raiz quadrada. Se for negativo, imprima \"Número inválido\"."
      ],
      "metadata": {
        "id": "rOwExJOYip_0"
      }
    },
    {
      "cell_type": "code",
      "source": [
        "# prompt: Crie um programa que peça ao usuário para inserir um número. Se for positivo, imprima sua raiz quadrada. Se for negativo, imprima \"Número inválido\".\n",
        "\n",
        "num = float(input(\"Digite um número: \"))\n",
        "\n",
        "if num >= 0:\n",
        "    raiz_quadrada = num ** 0.5\n",
        "    print(f\"A raiz quadrada de {num} é: {raiz_quadrada}\")\n",
        "else:\n",
        "    print(\"Número inválido\")\n"
      ],
      "metadata": {
        "id": "aV7xkx6Dirhw"
      },
      "execution_count": null,
      "outputs": []
    },
    {
      "cell_type": "markdown",
      "source": [
        "7.   Peça ao usuário para inserir um número inteiro. Verifique se é um número primo (divisível apenas por 1 e por ele mesmo) e imprima uma mensagem correspondente."
      ],
      "metadata": {
        "id": "wg3qfDVLiruY"
      }
    },
    {
      "cell_type": "code",
      "source": [
        "# prompt: Peça ao usuário para inserir um número inteiro. Verifique se é um número primo (divisível apenas por 1 e por ele mesmo) e imprima uma mensagem correspondente.\n",
        "\n",
        "# Peça ao usuário para inserir um número inteiro\n",
        "numero = int(input(\"Digite um número inteiro: \"))\n",
        "\n",
        "# Verifique se é um número primo\n",
        "primo = True\n",
        "for i in range(2, numero):\n",
        "    if numero % i == 0:\n",
        "        primo = False\n",
        "        break\n",
        "\n",
        "# Imprima uma mensagem correspondente\n",
        "if primo:\n",
        "    print(f\"O número {numero} é primo.\")\n",
        "else:\n",
        "    print(f\"O número {numero} não é primo.\")\n"
      ],
      "metadata": {
        "id": "qPoZoDFWjKk_"
      },
      "execution_count": null,
      "outputs": []
    },
    {
      "cell_type": "markdown",
      "source": [
        "8.   Peça ao usuário para inserir uma string. Verifique se é um palíndromo (lê-se da mesma forma de trás para frente) e imprima uma mensagem correspondente."
      ],
      "metadata": {
        "id": "qxLCUpQIjLEK"
      }
    },
    {
      "cell_type": "code",
      "source": [
        "# prompt: Peça ao usuário para inserir uma string. Verifique se é um palíndromo (lê-se da mesma forma de trás para frente) e imprima uma mensagem correspondente.\n",
        "\n",
        "string = input(\"Digite uma string: \")\n",
        "string_invertida = string[::-1]\n",
        "\n",
        "if string == string_invertida:\n",
        "    print(f\"A string '{string}' é um palíndromo.\")\n",
        "else:\n",
        "    print(f\"A string '{string}' não é um palíndromo.\")\n"
      ],
      "metadata": {
        "id": "pCUPMtBhjhMf"
      },
      "execution_count": null,
      "outputs": []
    },
    {
      "cell_type": "markdown",
      "source": [
        "9.   Crie um programa que peça ao usuário para inserir uma frase. Conte quantas vogais (a, e, i, o, u) existem na frase e imprima o resultado."
      ],
      "metadata": {
        "id": "1kwJ5gfrjhts"
      }
    },
    {
      "cell_type": "code",
      "source": [
        "# prompt: Crie um programa que peça ao usuário para inserir uma frase. Conte quantas vogais (a, e, i, o, u) existem na frase e imprima o resultado.\n",
        "\n",
        "frase = input(\"Digite uma frase: \")\n",
        "vogais = \"aeiou\"\n",
        "contagem_vogais = 0\n",
        "\n",
        "for letra in frase:\n",
        "    if letra.lower() in vogais:\n",
        "        contagem_vogais += 1\n",
        "\n",
        "print(f\"A frase '{frase}' contém {contagem_vogais} vogais.\")\n"
      ],
      "metadata": {
        "id": "21_4Cf-uji6f"
      },
      "execution_count": null,
      "outputs": []
    },
    {
      "cell_type": "markdown",
      "source": [
        "10.   Peça ao usuário para inserir uma frase e uma palavra. Verifique se a palavra está na frase e imprima uma mensagem correspondente."
      ],
      "metadata": {
        "id": "YeTtkRxwjjSl"
      }
    },
    {
      "cell_type": "code",
      "source": [
        "# prompt: Peça ao usuário para inserir uma frase e uma palavra. Verifique se a palavra está na frase e imprima uma mensagem correspondente.\n",
        "\n",
        "frase = input(\"Digite uma frase: \")\n",
        "palavra = input(\"Digite uma palavra: \")\n",
        "\n",
        "if palavra in frase:\n",
        "    print(f\"A palavra '{palavra}' está na frase '{frase}'.\")\n",
        "else:\n",
        "    print(f\"A palavra '{palavra}' não está na frase '{frase}'.\")\n"
      ],
      "metadata": {
        "id": "q_46Jx_QjkgQ"
      },
      "execution_count": null,
      "outputs": []
    },
    {
      "cell_type": "markdown",
      "source": [
        "11.   Peça ao usuário para inserir um número. Se for um número primo, imprima \"Primo\". Caso contrário, imprima \"Não primo\"."
      ],
      "metadata": {
        "id": "c3aJER06jk9w"
      }
    },
    {
      "cell_type": "code",
      "source": [
        "# prompt: Peça ao usuário para inserir um número. Se for um número primo, imprima \"Primo\". Caso contrário, imprima \"Não primo\".\n",
        "\n",
        "num = int(input(\"Digite um número: \"))\n",
        "\n",
        "# Verifique se é um número primo\n",
        "primo = True\n",
        "for i in range(2, num):\n",
        "    if num % i == 0:\n",
        "        primo = False\n",
        "        break\n",
        "\n",
        "# Imprima uma mensagem correspondente\n",
        "if primo:\n",
        "    print(f\"O número {num} é primo.\")\n",
        "else:\n",
        "    print(f\"O número {num} não é primo.\")\n"
      ],
      "metadata": {
        "id": "IEaL6GFFjmHq"
      },
      "execution_count": null,
      "outputs": []
    },
    {
      "cell_type": "markdown",
      "source": [
        "12.   Peça ao usuário para inserir uma sequência de números separados por vírgula. Converta essa sequência em uma lista de números inteiros e imprima a soma de todos os números na lista."
      ],
      "metadata": {
        "id": "CMexu1ZEjmaB"
      }
    },
    {
      "cell_type": "code",
      "source": [
        "# prompt: Peça ao usuário para inserir uma sequência de números separados por vírgula. Converta essa sequência em uma lista de números inteiros e imprima a soma de todos os números na lista.\n",
        "\n",
        "# Peça ao usuário para inserir uma sequência de números separados por vírgula\n",
        "numeros_str = input(\"Digite uma sequência de números separados por vírgula: \")\n",
        "\n",
        "# Converta a sequência de números em uma lista de números inteiros\n",
        "numeros_int = [int(numero) for numero in numeros_str.split(',')]\n",
        "\n",
        "# Calcule a soma de todos os números na lista\n",
        "soma = sum(numeros_int)\n",
        "\n",
        "# Imprima a soma\n",
        "print(f\"A soma dos números é: {soma}\")\n"
      ],
      "metadata": {
        "id": "bzJcJo8djnv3"
      },
      "execution_count": null,
      "outputs": []
    },
    {
      "cell_type": "markdown",
      "source": [
        "13.   Peça ao usuário para inserir uma sequência de palavras separadas por espaço. Converta essa sequência em uma lista de palavras e imprima a palavra mais longa na lista."
      ],
      "metadata": {
        "id": "sK40wntLjn-z"
      }
    },
    {
      "cell_type": "code",
      "source": [
        "# prompt: Peça ao usuário para inserir uma sequência de palavras separadas por espaço. Converta essa sequência em uma lista de palavras e imprima a palavra mais longa na lista.\n",
        "\n",
        "# Peça ao usuário para inserir uma sequência de palavras separadas por espaço\n",
        "palavras_str = input(\"Digite uma sequência de palavras separadas por espaço: \")\n",
        "\n",
        "# Converta a sequência de palavras em uma lista de palavras\n",
        "palavras = palavras_str.split()\n",
        "\n",
        "# Encontre a palavra mais longa na lista\n",
        "palavra_mais_longa = \"\"\n",
        "for palavra in palavras:\n",
        "    if len(palavra) > len(palavra_mais_longa):\n",
        "        palavra_mais_longa = palavra\n",
        "\n",
        "# Imprima a palavra mais longa\n",
        "print(f\"A palavra mais longa é: {palavra_mais_longa}\")\n"
      ],
      "metadata": {
        "id": "vVefnM1ujok5"
      },
      "execution_count": null,
      "outputs": []
    },
    {
      "cell_type": "markdown",
      "source": [
        "# **Python: Módulo 2 - Controle de Fluxo**"
      ],
      "metadata": {
        "id": "4vUUT5PKfVq0"
      }
    },
    {
      "cell_type": "markdown",
      "source": [
        "## **Controle de Fluxo: Tomando Decisões e Direcionando o Programa**"
      ],
      "metadata": {
        "id": "A4rSqeMNgzhw"
      }
    },
    {
      "cell_type": "markdown",
      "source": [
        "Em programação, o controle de fluxo se refere à maneira como as instruções em um programa são executadas com base em determinadas condições. Em outras palavras, é a capacidade de direcionar o fluxo de execução do programa, permitindo que ele faça decisões com base em diferentes circunstâncias.\n",
        "\n",
        "Existem duas estruturas principais de controle de fluxo: **estruturas condicionais** e **estruturas de repetição**."
      ],
      "metadata": {
        "id": "wn3YFQyWg7E7"
      }
    },
    {
      "cell_type": "markdown",
      "source": [
        "### **Estruturas Condicionais:**"
      ],
      "metadata": {
        "id": "FxWKCk1Sg9rY"
      }
    },
    {
      "cell_type": "markdown",
      "source": [
        "As estruturas condicionais permitem que você tome decisões em seu código. A mais comum é a estrutura `if-else`."
      ],
      "metadata": {
        "id": "Hy_yS1k4g_VL"
      }
    },
    {
      "cell_type": "markdown",
      "source": [
        "- **`if` (Se):** Permite que você execute um bloco de código se uma condição for verdadeira."
      ],
      "metadata": {
        "id": "e95stsn4hCEk"
      }
    },
    {
      "cell_type": "code",
      "source": [
        "idade = 18\n",
        "if idade >= 18:\n",
        "  print(\"Você é maior de idade.\")"
      ],
      "metadata": {
        "id": "hGrbCBWKhIFA"
      },
      "execution_count": null,
      "outputs": []
    },
    {
      "cell_type": "markdown",
      "source": [
        "- **`else` (Senão):** Pode ser combinado com `if` para executar um bloco de código se a condição do `if` for falsa."
      ],
      "metadata": {
        "id": "CSH2NNnAhMgv"
      }
    },
    {
      "cell_type": "code",
      "source": [
        "idade = 15\n",
        "if idade >= 18:\n",
        "  print(\"Você é maior de idade.\")\n",
        "else:\n",
        "  print(\"Você é menor de idade.\")"
      ],
      "metadata": {
        "id": "JvwG-AL4hR7y"
      },
      "execution_count": null,
      "outputs": []
    },
    {
      "cell_type": "markdown",
      "source": [
        "- **`elif` (Senão Se):** Permite adicionar várias condições intermediárias entre `if` e `else`."
      ],
      "metadata": {
        "id": "iP8nLF0OhQx2"
      }
    },
    {
      "cell_type": "code",
      "source": [
        "nota = 85\n",
        "if nota >= 90:\n",
        "  print(\"Você tirou A.\")\n",
        "elif nota >= 80:\n",
        "  print(\"Você tirou B.\")\n",
        "else:\n",
        "  print(\"Você tirou C ou menos.\")"
      ],
      "metadata": {
        "id": "sSSryRf7hZib"
      },
      "execution_count": null,
      "outputs": []
    },
    {
      "cell_type": "markdown",
      "source": [
        "### **Estruturas de Repetição:**"
      ],
      "metadata": {
        "id": "ueCRfaXJhcpi"
      }
    },
    {
      "cell_type": "markdown",
      "source": [
        "As estruturas de repetição permitem que você execute um bloco de código várias vezes. A mais comum é o loop `for` e o loop `while`."
      ],
      "metadata": {
        "id": "XnQAUg79heJ6"
      }
    },
    {
      "cell_type": "markdown",
      "source": [
        "- **`for` Loop:** Permite que você itere sobre uma sequência de itens (como uma lista ou uma string)."
      ],
      "metadata": {
        "id": "Tzf6Qmmlhg3s"
      }
    },
    {
      "cell_type": "code",
      "source": [
        "for i in range(5):\n",
        "  print(i)  # Isso imprimirá números de 0 a 4"
      ],
      "metadata": {
        "id": "Qk4CvKw_hjnC"
      },
      "execution_count": null,
      "outputs": []
    },
    {
      "cell_type": "markdown",
      "source": [
        "- **`while` Loop:** Executa um bloco de código enquanto uma condição é verdadeira."
      ],
      "metadata": {
        "id": "aFyfu0_XhkrH"
      }
    },
    {
      "cell_type": "code",
      "source": [
        "contador = 0\n",
        "while contador < 5:\n",
        "  print(contador)  # Isso imprimirá números de 0 a 4\n",
        "  contador += 1"
      ],
      "metadata": {
        "id": "mELnqY9choyw"
      },
      "execution_count": null,
      "outputs": []
    },
    {
      "cell_type": "markdown",
      "source": [
        "### **Importância do Controle de Fluxo:**"
      ],
      "metadata": {
        "id": "CSiWYu5ShrGN"
      }
    },
    {
      "cell_type": "markdown",
      "source": [
        "O controle de fluxo é essencial porque permite que os programas se adaptem a diferentes situações. Por exemplo, em um jogo, as ações dos personagens podem mudar com base nas decisões do jogador. Em um programa de gerenciamento, as ações podem variar com base em entradas do usuário.\n",
        "\n",
        "Em resumo, o controle de fluxo é fundamental para a lógica e a tomada de decisões em programação, permitindo que os programas sejam dinâmicos e capazes de lidar com diversas situações de maneira eficaz."
      ],
      "metadata": {
        "id": "rEMPM7sPht3s"
      }
    },
    {
      "cell_type": "markdown",
      "source": [
        "## **Listas e Tuplas**"
      ],
      "metadata": {
        "id": "2iP8TuD9gZKP"
      }
    },
    {
      "cell_type": "markdown",
      "source": [
        "### **Listas: Coleções de Itens Ordenados**"
      ],
      "metadata": {
        "id": "qBmN9T9-gu7t"
      }
    },
    {
      "cell_type": "markdown",
      "source": [
        "Pense em uma lista como uma mochila onde você pode guardar várias coisas. Cada coisa é um \"item\" na mochila, e você pode ter diferentes tipos de coisas nela. Por exemplo, pode haver uma maçã, um livro, uma caneta e assim por diante.\n",
        "\n",
        "Em Python, uma lista é como essa mochila. É uma coleção de itens que você pode armazenar juntos, e cada item tem uma posição específica, como os itens na sua mochila. Podemos criar listas assim:\n",
        "\n",
        "```python\n",
        "mochila = [\"maçã\", \"livro\", \"caneta\"]\n",
        "```\n",
        "\n",
        "Você pode acessar os itens na lista usando suas posições. Mas lembre-se, em programação, começamos a contar do zero! Então, para pegar o primeiro item, você usaria `mochila[0]`, que seria \"maçã\"."
      ],
      "metadata": {
        "id": "nw0uLr3Zg_Yw"
      }
    },
    {
      "cell_type": "markdown",
      "source": [
        "### **Manipulação de Listas: Adição, Remoção, Fatiamento**"
      ],
      "metadata": {
        "id": "ZyVn00eyd1xy"
      }
    },
    {
      "cell_type": "markdown",
      "source": [
        "\n",
        "A grande flexibilidade das listas em Python permite que você faça muitas coisas úteis. Por exemplo, você pode adicionar um novo item ao final da lista usando o método `append()`:\n",
        "\n",
        "```python\n",
        "mochila.append(\"laptop\")\n",
        "```\n",
        "\n",
        "Você pode remover um item da lista usando o método `remove()`:\n",
        "\n",
        "```python\n",
        "mochila.remove(\"livro\")\n",
        "```\n",
        "\n",
        "E, se precisar apenas de uma parte da lista, você pode \"fatiá-la\" usando a notação de índice:\n",
        "\n",
        "```python\n",
        "parte_da_mochila = mochila[1:3]\n",
        "```\n",
        "\n",
        "Aqui, `mochila[1:3]` retorna uma nova lista contendo os itens nas posições 1 e 2 da mochila original.\n",
        "\n",
        "Lembre-se, em programação, a indexação começa do zero, então `mochila[1]` representa o segundo item da lista."
      ],
      "metadata": {
        "id": "qv5RJJymeDv_"
      }
    },
    {
      "cell_type": "markdown",
      "source": [
        "### **Fatiamento de Listas em Python: Explorando Partes Específicas**"
      ],
      "metadata": {
        "id": "4ijLWL8KFJr8"
      }
    },
    {
      "cell_type": "markdown",
      "source": [
        "O fatiamento de listas é uma poderosa funcionalidade em Python que permite extrair partes específicas de uma lista. Vamos explorar como funciona essa técnica:"
      ],
      "metadata": {
        "id": "THYQC4XJFP84"
      }
    },
    {
      "cell_type": "markdown",
      "source": [
        "#### **Sintaxe do Fatiamento:**\n",
        "```python\n",
        "lista[início:fim]\n",
        "```\n",
        "\n",
        "- **`início:`**: Índice onde o fatiamento começa. A lista incluirá o elemento no índice `início`.\n",
        "- **`:fim`**: Índice onde o fatiamento termina. A lista não incluirá o elemento no índice `fim`.\n",
        "\n",
        "**Exemplo:**\n",
        "```python\n",
        "numeros = [0, 1, 2, 3, 4, 5, 6, 7, 8, 9]\n",
        "parte_da_lista = numeros[2:6]\n",
        "print(parte_da_lista)\n",
        "```\n",
        "\n",
        "**Resultado:**\n",
        "```\n",
        "[2, 3, 4, 5]\n",
        "```"
      ],
      "metadata": {
        "id": "8h6_YglmFaew"
      }
    },
    {
      "cell_type": "markdown",
      "source": [
        "#### **Entendendo os Índices:**"
      ],
      "metadata": {
        "id": "kAJ733o-FfEh"
      }
    },
    {
      "cell_type": "markdown",
      "source": [
        "- O índice `2` representa o terceiro elemento da lista (`0` é o primeiro, `1` é o segundo, `2` é o terceiro).\n",
        "- O índice `6` representa o sétimo elemento da lista.\n",
        "\n",
        "Portanto, o fatiamento retorna a parte da lista que começa no terceiro elemento (índice `2`) e vai até o sexto elemento (índice `5`), incluindo o primeiro índice e excluindo o último."
      ],
      "metadata": {
        "id": "mWkLeVA7FjhD"
      }
    },
    {
      "cell_type": "markdown",
      "source": [
        "#### **Índices Positivos:**"
      ],
      "metadata": {
        "id": "dpAuN7WUFtLI"
      }
    },
    {
      "cell_type": "markdown",
      "source": [
        "Os índices positivos começam do zero, representando o primeiro elemento da lista, e aumentam sequencialmente.\n",
        "\n",
        "```python\n",
        "frutas = [\"maçã\", \"banana\", \"laranja\", \"uva\", \"morango\"]\n",
        "```\n",
        "\n",
        "- Para acessar o primeiro elemento (índice 0):\n",
        "\n",
        "  ```python\n",
        "  primeira_fruta = frutas[0]  # Isso retorna \"maçã\"\n",
        "  ```\n",
        "\n",
        "- Para acessar os três primeiros elementos:\n",
        "\n",
        "  ```python\n",
        "  tres_primeiras_frutas = frutas[0:3]  # Isso retorna [\"maçã\", \"banana\", \"laranja\"]\n",
        "  ```\n",
        "\n",
        "- Para acessar todos os elementos a partir do segundo:\n",
        "\n",
        "  ```python\n",
        "  do_segundo_em_diante = frutas[1:]  # Isso retorna [\"banana\", \"laranja\", \"uva\", \"morango\"]\n",
        "  ```"
      ],
      "metadata": {
        "id": "9G2b_BvUGEvI"
      }
    },
    {
      "cell_type": "markdown",
      "source": [
        "#### **Índices Negativos:**"
      ],
      "metadata": {
        "id": "sFOWkhO8GHRY"
      }
    },
    {
      "cell_type": "markdown",
      "source": [
        "Os índices negativos começam do final da lista, representando o último elemento com `-1` e diminuem sequencialmente.\n",
        "\n",
        "- Para acessar o último elemento:\n",
        "\n",
        "  ```python\n",
        "  ultima_fruta = frutas[-1]  # Isso retorna \"morango\"\n",
        "  ```\n",
        "\n",
        "- Para acessar os três últimos elementos:\n",
        "\n",
        "  ```python\n",
        "  tres_ultimas_frutas = frutas[-3:]  # Isso retorna [\"uva\", \"morango\"]\n",
        "  ```\n",
        "\n",
        "- Para acessar todos os elementos, exceto o último:\n",
        "\n",
        "  ```python\n",
        "  todos_menos_o_ultimo = frutas[:-1]  # Isso retorna [\"maçã\", \"banana\", \"laranja\", \"uva\"]\n",
        "  ```\n",
        "\n",
        "Essa técnica é valiosa ao trabalhar com grandes conjuntos de dados, facilitando a manipulação e extração de informações específicas de listas em Python. Lembre-se de que o índice negativo `-1` sempre representa o último elemento da lista."
      ],
      "metadata": {
        "id": "HIcNtV9pGIy1"
      }
    },
    {
      "cell_type": "markdown",
      "source": [
        "#### **Valores Padrão:**"
      ],
      "metadata": {
        "id": "rO97cfgWGks2"
      }
    },
    {
      "cell_type": "markdown",
      "source": [
        "Se omitirmos `início` ou `fim` em `[início:fim]`, Python usará valores padrão. Se `início` não for fornecido, será considerado `0`. Se `fim` não for fornecido, será considerado o comprimento total da lista.\n",
        "\n",
        "**Exemplo com Valores Padrão:**\n",
        "```python\n",
        "numeros = [0, 1, 2, 3, 4, 5, 6, 7, 8, 9]\n",
        "parte_da_lista = numeros[:4]\n",
        "print(parte_da_lista)\n",
        "```\n",
        "\n",
        "**Resultado:**\n",
        "```\n",
        "[0, 1, 2, 3]\n",
        "```\n",
        "\n",
        "Aqui, o fatiamento retorna os elementos desde o início até o quarto elemento, excluindo o quarto."
      ],
      "metadata": {
        "id": "sp_NgJJKGn4o"
      }
    },
    {
      "cell_type": "markdown",
      "source": [
        "#### **Fatiamento com Passos:**"
      ],
      "metadata": {
        "id": "PUpwxYeCGqzw"
      }
    },
    {
      "cell_type": "markdown",
      "source": [
        "Podemos incluir um terceiro valor no fatiamento, representando o \"passo\" ou a quantidade de índices a pular a cada iteração.\n",
        "\n",
        "**Exemplo com Passo:**\n",
        "```python\n",
        "numeros = [0, 1, 2, 3, 4, 5, 6, 7, 8, 9]\n",
        "parte_da_lista = numeros[1:8:2]\n",
        "print(parte_da_lista)\n",
        "```\n",
        "\n",
        "**Resultado:**\n",
        "```\n",
        "[1, 3, 5, 7]\n",
        "```\n",
        "\n",
        "Aqui, o fatiamento retorna os elementos começando pelo segundo (índice `1`) até o oitavo (índice `7`), pulando de dois em dois.\n",
        "\n",
        "O fatiamento de listas é uma ferramenta versátil e útil em Python, permitindo manipulação eficiente de partes específicas de uma lista."
      ],
      "metadata": {
        "id": "G3iqVoMqGtIX"
      }
    },
    {
      "cell_type": "markdown",
      "source": [
        "### **Tuplas: Pares que Não Mudam**"
      ],
      "metadata": {
        "id": "G6uBV8EBg843"
      }
    },
    {
      "cell_type": "markdown",
      "source": [
        "Agora, pense em uma tupla como um pacote especial que você coloca na sua mochila. Esse pacote tem dois itens que sempre andam juntos, como um combo inseparável. Por exemplo, um par de sapatos.\n",
        "\n",
        "Em Python, uma tupla é uma coleção parecida com uma lista, mas com uma diferença importante: você não pode mudar seus itens depois de criá-la. É como se a tupla fosse feita de pedra, e você não pode esculpir nada diferente nela depois de pronta.\n",
        "\n",
        "Podemos criar uma tupla assim:\n",
        "\n",
        "```python\n",
        "par_de_sapatos = (\"esquerdo\", \"direito\")\n",
        "```\n",
        "\n",
        "Você não pode adicionar, remover ou mudar os sapatos depois que a tupla for criada. É sempre \"esquerdo\" e \"direito\"!\n",
        "\n",
        "Então, em resumo, listas são como mochilas cheias de itens que você pode mexer quando quiser, enquanto tuplas são como pares que ficam juntos para sempre. Ambas são maneiras úteis de organizar informações em Python!"
      ],
      "metadata": {
        "id": "46KXiGhjhOD0"
      }
    },
    {
      "cell_type": "markdown",
      "source": [
        "### **Trabalhar com Tuplas Imutáveis**"
      ],
      "metadata": {
        "id": "wkrdvUxgeIz0"
      }
    },
    {
      "cell_type": "markdown",
      "source": [
        "Ao contrário das listas, as tuplas são imutáveis. Isso significa que, após criar uma tupla, você não pode adicionar, remover ou alterar itens nela. Elas são estáveis e confiáveis.\n",
        "\n",
        "```python\n",
        "coordenadas = (10, 20)\n",
        "```\n",
        "\n",
        "Essa característica de imutabilidade torna as tuplas úteis em situações onde você quer garantir que os dados não serão acidentalmente modificados.\n",
        "\n",
        "Então, enquanto as listas são como mochilas flexíveis que você pode reorganizar, adicionar ou remover itens, as tuplas são como pacotes confiáveis que sempre mantêm seus itens originais. Ambas têm seu lugar, dependendo das necessidades do seu programa."
      ],
      "metadata": {
        "id": "S-Uf-rlyeM-j"
      }
    },
    {
      "cell_type": "markdown",
      "source": [
        "## **Exercícios 2**"
      ],
      "metadata": {
        "id": "E7ibwPgPihzK"
      }
    },
    {
      "cell_type": "markdown",
      "source": [
        "### **Controle de Fluxo:**"
      ],
      "metadata": {
        "id": "kqKBJLQ7ivKF"
      }
    },
    {
      "cell_type": "markdown",
      "source": [
        "1. Crie um programa que peça ao usuário para inserir sua idade. Se a idade for maior ou igual a 18, imprima \"Você é maior de idade.\"; caso contrário, imprima \"Você é menor de idade.\""
      ],
      "metadata": {
        "id": "pY7Rj0J7i0Wk"
      }
    },
    {
      "cell_type": "code",
      "source": [
        "# prompt: Crie um programa que peça ao usuário para inserir sua idade. Se a idade for maior ou igual a 18, imprima \"Você é maior de idade.\"; caso contrário, imprima \"Você é menor de idade.\"\n",
        "\n",
        "idade = int(input(\"Digite sua idade: \"))\n",
        "\n",
        "if idade >= 18:\n",
        "    print(\"Você é maior de idade.\")\n",
        "else:\n",
        "    print(\"Você é menor de idade.\")\n"
      ],
      "metadata": {
        "id": "04B3ZpDOi54v"
      },
      "execution_count": null,
      "outputs": []
    },
    {
      "cell_type": "markdown",
      "source": [
        "2. Solicite ao usuário um número. Se o número for par, imprima \"Número par.\"; se for ímpar, imprima \"Número ímpar.\""
      ],
      "metadata": {
        "id": "6qGOgVG8i4_8"
      }
    },
    {
      "cell_type": "code",
      "source": [
        "# prompt: Solicite ao usuário um número. Se o número for par, imprima \"Número par.\"; se for ímpar, imprima \"Número ímpar.\"\n",
        "\n",
        "numero = int(input(\"Digite um número: \"))\n",
        "\n",
        "if numero % 2 == 0:\n",
        "    print(\"Número par.\")\n",
        "else:\n",
        "    print(\"Número ímpar.\")\n"
      ],
      "metadata": {
        "id": "4vVgchoyi9lv"
      },
      "execution_count": null,
      "outputs": []
    },
    {
      "cell_type": "markdown",
      "source": [
        "3. Crie um programa que peça ao usuário para inserir um número. Se o número for positivo, imprima \"Número positivo.\"; se for negativo, imprima \"Número negativo.\""
      ],
      "metadata": {
        "id": "fOWjTvPDi-Qi"
      }
    },
    {
      "cell_type": "code",
      "source": [
        "# prompt: Crie um programa que peça ao usuário para inserir um número. Se o número for positivo, imprima \"Número positivo.\"; se for negativo, imprima \"Número negativo.\"\n",
        "\n",
        "numero = float(input(\"Digite um número: \"))\n",
        "\n",
        "if numero > 0:\n",
        "    print(\"Número positivo.\")\n",
        "else:\n",
        "    print(\"Número negativo.\")\n"
      ],
      "metadata": {
        "id": "7A75lytsjAsJ"
      },
      "execution_count": null,
      "outputs": []
    },
    {
      "cell_type": "markdown",
      "source": [
        "4. Peça ao usuário para inserir um número de 1 a 7. Imprima o dia da semana correspondente (1 = domingo, 2 = segunda-feira, etc.)."
      ],
      "metadata": {
        "id": "Uq8M6pNMjBZl"
      }
    },
    {
      "cell_type": "code",
      "source": [
        "# prompt: Peça ao usuário para inserir um número de 1 a 7. Imprima o dia da semana correspondente (1 = domingo, 2 = segunda-feira, etc.).\n",
        "\n",
        "dia_da_semana = int(input(\"Digite um número de 1 a 7: \"))\n",
        "\n",
        "if dia_da_semana == 1:\n",
        "    print(\"Domingo\")\n",
        "elif dia_da_semana == 2:\n",
        "    print(\"Segunda-feira\")\n",
        "elif dia_da_semana == 3:\n",
        "    print(\"Terça-feira\")\n",
        "elif dia_da_semana == 4:\n",
        "    print(\"Quarta-feira\")\n",
        "elif dia_da_semana == 5:\n",
        "    print(\"Quinta-feira\")\n",
        "elif dia_da_semana == 6:\n",
        "    print(\"Sexta-feira\")\n",
        "elif dia_da_semana == 7:\n",
        "    print(\"Sábado\")\n",
        "else:\n",
        "    print(\"Número inválido\")\n"
      ],
      "metadata": {
        "id": "ZSb2paE9jEzn"
      },
      "execution_count": null,
      "outputs": []
    },
    {
      "cell_type": "markdown",
      "source": [
        "5. Crie um programa que solicite duas notas ao usuário e calcule a média. Se a média for maior ou igual a 7, imprima \"Aprovado.\"; caso contrário, imprima \"Reprovado.\""
      ],
      "metadata": {
        "id": "UrckaimAjFdy"
      }
    },
    {
      "cell_type": "code",
      "source": [
        "# prompt: Crie um programa que solicite duas notas ao usuário e calcule a média. Se a média for maior ou igual a 7, imprima \"Aprovado.\"; caso contrário, imprima \"Reprovado.\"\n",
        "\n",
        "nota1 = float(input(\"Digite a primeira nota: \"))\n",
        "nota2 = float(input(\"Digite a segunda nota: \"))\n",
        "\n",
        "media = (nota1 + nota2) / 2\n",
        "\n",
        "if media >= 7:\n",
        "    print(\"Aprovado.\")\n",
        "else:\n",
        "    print(\"Reprovado.\")\n"
      ],
      "metadata": {
        "id": "2zvWT-UOjH5B"
      },
      "execution_count": null,
      "outputs": []
    },
    {
      "cell_type": "markdown",
      "source": [
        "### **Listas:**"
      ],
      "metadata": {
        "id": "TKyR5hw-jIU1"
      }
    },
    {
      "cell_type": "markdown",
      "source": [
        "6. Crie uma lista de frutas. Peça ao usuário para inserir o nome de uma fruta. Se a fruta estiver na lista, imprima \"Sim, essa fruta está na lista.\"; caso contrário, imprima \"Não, essa fruta não está na lista.\""
      ],
      "metadata": {
        "id": "iYPPZuW6jLmS"
      }
    },
    {
      "cell_type": "code",
      "source": [
        "# prompt: Crie uma lista de frutas. Peça ao usuário para inserir o nome de uma fruta. Se a fruta estiver na lista, imprima \"Sim, essa fruta está na lista.\"; caso contrário, imprima \"Não, essa fruta não está na lista.\"\n",
        "\n",
        "frutas = [\"maçã\", \"banana\", \"laranja\", \"uva\"]\n",
        "\n",
        "fruta_desejada = input(\"Digite o nome de uma fruta: \")\n",
        "\n",
        "if fruta_desejada in frutas:\n",
        "    print(\"Sim, essa fruta está na lista.\")\n",
        "else:\n",
        "    print(\"Não, essa fruta não está na lista.\")\n"
      ],
      "metadata": {
        "id": "-DxEeXPjjLAh"
      },
      "execution_count": null,
      "outputs": []
    },
    {
      "cell_type": "markdown",
      "source": [
        "7. Crie uma lista de números. Imprima o maior número na lista."
      ],
      "metadata": {
        "id": "LVyoZho5jO75"
      }
    },
    {
      "cell_type": "code",
      "source": [
        "# prompt: Crie uma lista de números. Imprima o maior número na lista.\n",
        "\n",
        "# Sem a função max:\n",
        "lista = [10, 2, 3, 1, 5, 6]\n",
        "maior = lista[0]\n",
        "for numero in lista:\n",
        "  if numero > maior:\n",
        "    maior = numero\n",
        "print(f\"O maior número da lista é: {maior}\")\n",
        "\n",
        "# Com a função max:\n",
        "lista = [10, 2, 3, 1, 5, 6]\n",
        "maior = max(lista)\n",
        "print(f\"O maior número da lista é: {maior}\")\n"
      ],
      "metadata": {
        "id": "7E07i97ajRC9"
      },
      "execution_count": null,
      "outputs": []
    },
    {
      "cell_type": "markdown",
      "source": [
        "8. Crie uma lista de palavras. Imprima a palavra mais longa na lista."
      ],
      "metadata": {
        "id": "Uc8icnaajUKM"
      }
    },
    {
      "cell_type": "code",
      "source": [
        "# prompt: Crie uma lista de palavras. Imprima a palavra mais longa na lista.\n",
        "\n",
        "lista_palavras = [\"casa\", \"carro\", \"computador\", \"elefante\"]\n",
        "\n",
        "palavra_mais_longa = \"\"\n",
        "for palavra in lista_palavras:\n",
        "    if len(palavra) > len(palavra_mais_longa):\n",
        "        palavra_mais_longa = palavra\n",
        "\n",
        "print(f\"A palavra mais longa da lista é: {palavra_mais_longa}\")\n"
      ],
      "metadata": {
        "id": "Lw4AmkBRjYVO"
      },
      "execution_count": null,
      "outputs": []
    },
    {
      "cell_type": "markdown",
      "source": [
        "9. Peça ao usuário para inserir cinco números inteiros. Armazene esses números em uma lista e imprima a lista."
      ],
      "metadata": {
        "id": "ozI-P_cjjYnR"
      }
    },
    {
      "cell_type": "code",
      "source": [
        "# prompt: Peça ao usuário para inserir cinco números inteiros. Armazene esses números em uma lista e imprima a lista.\n",
        "\n",
        "lista = []\n",
        "for i in range(5):\n",
        "  numero = int(input(\"Digite um número inteiro: \"))\n",
        "  lista.append(numero)\n",
        "\n",
        "print(lista)\n"
      ],
      "metadata": {
        "id": "qozgc3dTjcdV"
      },
      "execution_count": null,
      "outputs": []
    },
    {
      "cell_type": "markdown",
      "source": [
        "10. Crie uma lista de nomes. Peça ao usuário para inserir um nome. Se o nome estiver na lista, remova-o e imprima a lista atualizada; caso contrário, imprima \"Esse nome não está na lista.\""
      ],
      "metadata": {
        "id": "i3ZAgkaWjc-k"
      }
    },
    {
      "cell_type": "code",
      "source": [
        "# prompt: Crie uma lista de nomes. Peça ao usuário para inserir um nome. Se o nome estiver na lista, remova-o e imprima a lista atualizada; caso contrário, imprima \"Esse nome não está na lista.\"\n",
        "\n",
        "nomes = [\"João\", \"Maria\", \"Pedro\", \"Ana\"]\n",
        "\n",
        "nome_a_remover = input(\"Digite um nome para remover: \")\n",
        "\n",
        "if nome_a_remover in nomes:\n",
        "    nomes.remove(nome_a_remover)\n",
        "    print(f\"A lista atualizada é: {nomes}\")\n",
        "else:\n",
        "    print(\"Esse nome não está na lista.\")\n"
      ],
      "metadata": {
        "id": "OHpALvHEjfDg"
      },
      "execution_count": null,
      "outputs": []
    },
    {
      "cell_type": "markdown",
      "source": [
        "### **Tuplas:**"
      ],
      "metadata": {
        "id": "9Qg7sxGijffV"
      }
    },
    {
      "cell_type": "markdown",
      "source": [
        "11. Crie uma tupla com as estações do ano. Peça ao usuário para inserir uma estação. Se a estação estiver na tupla, imprima \"Sim, essa é uma estação.\"; caso contrário, imprima \"Não, essa não é uma estação.\""
      ],
      "metadata": {
        "id": "LR2sOFB5jilW"
      }
    },
    {
      "cell_type": "code",
      "source": [
        "# prompt: Crie uma tupla com as estações do ano. Peça ao usuário para inserir uma estação. Se a estação estiver na tupla, imprima \"Sim, essa é uma estação.\"; caso contrário, imprima \"Não, essa não é uma estação.\"\n",
        "\n",
        "estacoes = (\"verão\", \"outono\", \"inverno\", \"primavera\")\n",
        "estacao_input = input(\"Digite uma estação do ano: \")\n",
        "if estacao_input in estacoes:\n",
        "    print(\"Sim, essa é uma estação.\")\n",
        "else:\n",
        "    print(\"Não, essa não é uma estação.\")\n"
      ],
      "metadata": {
        "id": "tpYMnGA_jhzh"
      },
      "execution_count": null,
      "outputs": []
    },
    {
      "cell_type": "markdown",
      "source": [
        "12. Crie uma tupla com os dias da semana. Peça ao usuário para inserir um dia. Se o dia for um final de semana (sábado ou domingo), imprima \"É final de semana.\"; caso contrário, imprima \"Não é final de semana.\""
      ],
      "metadata": {
        "id": "9X_GOZZgjqUw"
      }
    },
    {
      "cell_type": "code",
      "source": [
        "# prompt: Crie uma tupla com os dias da semana. Peça ao usuário para inserir um dia. Se o dia for um final de semana (sábado ou domingo), imprima \"É final de semana.\"; caso contrário, imprima \"Não é final de semana.\"\n",
        "\n",
        "dias_semana = (\"segunda\", \"terça\", \"quarta\", \"quinta\", \"sexta\", \"sábado\", \"domingo\")\n",
        "dia = input(\"Digite um dia da semana: \").lower()\n",
        "if dia in dias_semana:\n",
        "    if dia == \"sábado\" or dia == \"domingo\":\n",
        "        print(\"É final de semana.\")\n",
        "    else:\n",
        "        print(\"Não é final de semana.\")\n",
        "else:\n",
        "    print(\"Dia inválido.\")\n"
      ],
      "metadata": {
        "id": "mQnLwOGNjsyj"
      },
      "execution_count": null,
      "outputs": []
    },
    {
      "cell_type": "markdown",
      "source": [
        "13. Crie uma tupla com os meses do ano. Peça ao usuário para inserir um mês. Se o mês estiver no primeiro trimestre (janeiro a março), imprima \"Está no primeiro trimestre.\"; caso contrário, imprima \"Não está no primeiro trimestre.\""
      ],
      "metadata": {
        "id": "gIXOBLRTjtHg"
      }
    },
    {
      "cell_type": "code",
      "source": [
        "# prompt: Crie uma tupla com os meses do ano. Peça ao usuário para inserir um mês. Se o mês estiver no primeiro trimestre (janeiro a março), imprima \"Está no primeiro trimestre.\"; caso contrário, imprima \"Não está no primeiro trimestre.\"\n",
        "\n",
        "meses = ('janeiro', 'fevereiro', 'março', 'abril', 'maio', 'junho', 'julho', 'agosto', 'setembro', 'outubro', 'novembro', 'dezembro')\n",
        "\n",
        "mes_input = input('Digite um mês do ano: ').lower()\n",
        "\n",
        "if mes_input in meses:\n",
        "    if meses.index(mes_input) < 3:\n",
        "        print('Está no primeiro trimestre.')\n",
        "    else:\n",
        "        print('Não está no primeiro trimestre.')\n",
        "else:\n",
        "    print('Mês inválido.')\n"
      ],
      "metadata": {
        "id": "sNVlnKLAjzL-"
      },
      "execution_count": null,
      "outputs": []
    },
    {
      "cell_type": "markdown",
      "source": [
        "14. Crie uma tupla com números. Imprima a soma dos números na tupla."
      ],
      "metadata": {
        "id": "WwDbG9r3jzsh"
      }
    },
    {
      "cell_type": "code",
      "source": [
        "# prompt: Crie uma tupla com números. Imprima a soma dos números na tupla.\n",
        "\n",
        "numeros = (1, 2, 3, 4, 5)\n",
        "soma = 0\n",
        "for numero in numeros:\n",
        "    soma += numero\n",
        "print(f\"A soma dos números na tupla é: {soma}\")\n"
      ],
      "metadata": {
        "id": "ex9d-eYPj1Sb"
      },
      "execution_count": null,
      "outputs": []
    },
    {
      "cell_type": "markdown",
      "source": [
        "15. Peça ao usuário para inserir dois valores. Crie uma tupla com esses valores e imprima a tupla."
      ],
      "metadata": {
        "id": "cvtI3DiXj12z"
      }
    },
    {
      "cell_type": "code",
      "source": [
        "# prompt: Peça ao usuário para inserir dois valores. Crie uma tupla com esses valores e imprima a tupla.\n",
        "\n",
        "valor1 = input(\"Digite o primeiro valor: \")\n",
        "valor2 = input(\"Digite o segundo valor: \")\n",
        "\n",
        "tupla = (valor1, valor2)\n",
        "\n",
        "print(f\"A tupla criada é: {tupla}\")\n"
      ],
      "metadata": {
        "id": "w4cTTWiZxpe9"
      },
      "execution_count": null,
      "outputs": []
    },
    {
      "cell_type": "markdown",
      "source": [
        "### **Combinando Controle de Fluxo, Listas e Tuplas:**"
      ],
      "metadata": {
        "id": "zPVoz-w3j4uH"
      }
    },
    {
      "cell_type": "markdown",
      "source": [
        "16. Crie uma lista de números. Use um loop `for` para imprimir apenas os números pares da lista."
      ],
      "metadata": {
        "id": "ahRqZe9zj7zI"
      }
    },
    {
      "cell_type": "code",
      "source": [
        "# prompt: Crie uma lista de números. Use um loop for para imprimir apenas os números pares da lista.\n",
        "\n",
        "lista_numeros = [1, 2, 3, 4, 5, 6, 7, 8, 9, 10]\n",
        "\n",
        "for numero in lista_numeros:\n",
        "  if numero % 2 == 0:\n",
        "    print(numero)\n"
      ],
      "metadata": {
        "id": "XjEhyWY8j3-J"
      },
      "execution_count": null,
      "outputs": []
    },
    {
      "cell_type": "markdown",
      "source": [
        "17. Crie uma lista de nomes. Use um loop `while` para imprimir cada nome da lista."
      ],
      "metadata": {
        "id": "bcJtXXirj-VV"
      }
    },
    {
      "cell_type": "code",
      "source": [
        "# prompt: Crie uma lista de nomes. Use um loop while para imprimir cada nome da lista.\n",
        "\n",
        "lista_de_nomes = [\"João\", \"Maria\", \"Pedro\", \"Ana\"]\n",
        "\n",
        "contador = 0\n",
        "\n",
        "while contador < len(lista_de_nomes):\n",
        "  print(lista_de_nomes[contador])\n",
        "  contador += 1\n"
      ],
      "metadata": {
        "id": "5DNca__Qj_mX"
      },
      "execution_count": null,
      "outputs": []
    },
    {
      "cell_type": "markdown",
      "source": [
        "18. Peça ao usuário para inserir cinco números. Armazene esses números em uma lista. Em seguida, crie uma tupla com esses números e imprima a tupla."
      ],
      "metadata": {
        "id": "lEiCggepkAGa"
      }
    },
    {
      "cell_type": "code",
      "source": [
        "# prompt: Peça ao usuário para inserir cinco números. Armazene esses números em uma lista. Em seguida, crie uma tupla com esses números e imprima a tupla.\n",
        "\n",
        "lista = []\n",
        "for i in range(5):\n",
        "  numero = int(input(\"Digite um número inteiro: \"))\n",
        "  lista.append(numero)\n",
        "\n",
        "tupla = tuple(lista)\n",
        "\n",
        "print(tupla)\n"
      ],
      "metadata": {
        "id": "RMfk-OJFkEPv"
      },
      "execution_count": null,
      "outputs": []
    },
    {
      "cell_type": "markdown",
      "source": [
        "19. Crie uma lista de números. Use um loop `for` para calcular a soma dos quadrados desses números."
      ],
      "metadata": {
        "id": "LDPd_E5VkDik"
      }
    },
    {
      "cell_type": "code",
      "source": [
        "# prompt: Crie uma lista de números. Use um loop for para calcular a soma dos quadrados desses números.\n",
        "\n",
        "lista_numeros = [1, 2, 3, 4, 5]\n",
        "soma_quadrados = 0\n",
        "\n",
        "for numero in lista_numeros:\n",
        "    soma_quadrados += numero ** 2\n",
        "\n",
        "print(f\"A soma dos quadrados dos números é: {soma_quadrados}\")\n"
      ],
      "metadata": {
        "id": "W251kKUakJO1"
      },
      "execution_count": null,
      "outputs": []
    },
    {
      "cell_type": "markdown",
      "source": [
        "20. Crie uma lista de palavras. Use um loop `while` para imprimir cada palavra da lista até encontrar a palavra \"fim\"."
      ],
      "metadata": {
        "id": "s4om47O8kJlF"
      }
    },
    {
      "cell_type": "code",
      "source": [
        "# prompt: Crie uma lista de palavras. Use um loop while para imprimir cada palavra da lista até encontrar a palavra \"fim\".\n",
        "\n",
        "lista_palavras = [\"maçã\", \"banana\", \"laranja\", \"uva\", \"fim\", \"pêssego\", \"manga\"]\n",
        "\n",
        "contador = 0\n",
        "\n",
        "while lista_palavras[contador] != \"fim\":\n",
        "  print(lista_palavras[contador])\n",
        "  contador += 1\n"
      ],
      "metadata": {
        "id": "3vUD7vnhkMIl"
      },
      "execution_count": null,
      "outputs": []
    },
    {
      "cell_type": "markdown",
      "source": [
        "21. Crie uma lista de números. Use um loop `for` para imprimir apenas os números ímpares da lista."
      ],
      "metadata": {
        "id": "7HmP-mzHkMhb"
      }
    },
    {
      "cell_type": "code",
      "source": [
        "# prompt: Crie uma lista de números. Use um loop for para imprimir apenas os números ímpares da lista.\n",
        "\n",
        "lista = [1, 2, 3, 4, 5, 6, 7, 8, 9, 10]\n",
        "\n",
        "for numero in lista:\n",
        "  if numero % 2 != 0:\n",
        "    print(numero)\n"
      ],
      "metadata": {
        "id": "ZffoEyQckOPe"
      },
      "execution_count": null,
      "outputs": []
    },
    {
      "cell_type": "markdown",
      "source": [
        "22. Peça ao usuário para inserir cinco palavras. Armazene essas palavras em uma lista. Use um loop `while` para imprimir cada palavra da lista até encontrar a palavra \"python\"."
      ],
      "metadata": {
        "id": "Epqn_cCMkOxg"
      }
    },
    {
      "cell_type": "code",
      "source": [
        "# prompt: Peça ao usuário para inserir cinco palavras. Armazene essas palavras em uma lista. Use um loop while para imprimir cada palavra da lista até encontrar a palavra \"python\".\n",
        "\n",
        "lista_palavras = []\n",
        "for i in range(5):\n",
        "    palavra = input(\"Digite uma palavra: \")\n",
        "    lista_palavras.append(palavra)\n",
        "\n",
        "contador = 0\n",
        "\n",
        "while lista_palavras[contador] != \"python\":\n",
        "    print(lista_palavras[contador])\n",
        "    contador += 1\n"
      ],
      "metadata": {
        "id": "deJtpGUdkRhO"
      },
      "execution_count": null,
      "outputs": []
    },
    {
      "cell_type": "markdown",
      "source": [
        "23. Crie uma tupla com os meses do ano. Use um loop `for` para imprimir apenas os meses que começam com a letra \"J\"."
      ],
      "metadata": {
        "id": "LZfT9yR4kR-P"
      }
    },
    {
      "cell_type": "code",
      "source": [
        "# prompt: Crie uma tupla com os meses do ano. Use um loop for para imprimir apenas os meses que começam com a letra \"J\".\n",
        "\n",
        "meses = (\"janeiro\", \"fevereiro\", \"março\", \"abril\", \"maio\", \"junho\", \"julho\", \"agosto\", \"setembro\", \"outubro\", \"novembro\", \"dezembro\")\n",
        "\n",
        "for mes in meses:\n",
        "    if mes.startswith(\"J\"):\n",
        "        print(mes)\n"
      ],
      "metadata": {
        "id": "b788LCE1kTMR"
      },
      "execution_count": null,
      "outputs": []
    },
    {
      "cell_type": "markdown",
      "source": [
        "24. Crie uma lista de números. Use um loop `while` para calcular a média desses números."
      ],
      "metadata": {
        "id": "pw-5VREhkTof"
      }
    },
    {
      "cell_type": "code",
      "source": [
        "# prompt: Crie uma lista de números. Use um loop while para calcular a média desses números.\n",
        "\n",
        "lista_numeros = [1, 2, 3, 4, 5]\n",
        "soma = 0\n",
        "contador = 0\n",
        "\n",
        "while contador < len(lista_numeros):\n",
        "    soma += lista_numeros[contador]\n",
        "    contador += 1\n",
        "\n",
        "media = soma / len(lista_numeros)\n",
        "\n",
        "print(f\"A média dos números é: {media}\")\n"
      ],
      "metadata": {
        "id": "KGMB9SIrkVXT"
      },
      "execution_count": null,
      "outputs": []
    },
    {
      "cell_type": "markdown",
      "source": [
        "25. Peça ao usuário para inserir números até que ele insira zero. Armazene esses números em uma lista e imprima a lista."
      ],
      "metadata": {
        "id": "Fz9trJ-ukV0H"
      }
    },
    {
      "cell_type": "code",
      "source": [
        "# prompt: Peça ao usuário para inserir números até que ele insira zero. Armazene esses números em uma lista e imprima a lista.\n",
        "\n",
        "lista_numeros = []\n",
        "while True:\n",
        "  numero = int(input(\"Digite um número (0 para parar): \"))\n",
        "  if numero == 0:\n",
        "    break\n",
        "  lista_numeros.append(numero)\n",
        "\n",
        "print(f\"A lista de números digitados é: {lista_numeros}\")\n"
      ],
      "metadata": {
        "id": "bpgBJ4PvkXXY"
      },
      "execution_count": null,
      "outputs": []
    },
    {
      "cell_type": "markdown",
      "source": [
        "### **Exercícios Desafiadores:**"
      ],
      "metadata": {
        "id": "IYq7FcMFkaVH"
      }
    },
    {
      "cell_type": "markdown",
      "source": [
        "26. Crie uma lista de números. Use um loop `for` para encontrar o menor número na lista."
      ],
      "metadata": {
        "id": "ZAseYKonkcUF"
      }
    },
    {
      "cell_type": "code",
      "source": [
        "# prompt: Crie uma lista de números. Use um loop for para encontrar o menor número na lista.\n",
        "\n",
        "# Crie uma lista de números\n",
        "lista_numeros = [10, 2, 3, 1, 5, 6]\n",
        "\n",
        "# Inicialize a variável menor com o primeiro elemento da lista\n",
        "menor = lista_numeros[0]\n",
        "\n",
        "# Use um loop for para iterar sobre a lista\n",
        "for numero in lista_numeros:\n",
        "  # Se o número atual for menor que o menor número encontrado até agora, atualize a variável menor\n",
        "  if numero < menor:\n",
        "    menor = numero\n",
        "\n",
        "# Imprima o menor número encontrado\n",
        "print(f\"O menor número na lista é: {menor}\")\n"
      ],
      "metadata": {
        "id": "z6ItmCE5kbyI"
      },
      "execution_count": null,
      "outputs": []
    },
    {
      "cell_type": "markdown",
      "source": [
        "27. Crie uma tupla com as vogais. Peça ao usuário para inserir uma letra. Se a letra for uma vogal, imprima \"É uma vogal.\"; caso contrário, imprima \"Não é uma vogal.\""
      ],
      "metadata": {
        "id": "xVlzzYR_keLL"
      }
    },
    {
      "cell_type": "code",
      "source": [
        "# prompt: Crie uma tupla com as vogais. Peça ao usuário para inserir uma letra. Se a letra for uma vogal, imprima \"É uma vogal.\"; caso contrário, imprima \"Não é uma vogal.\"\n",
        "\n",
        "vogais = ('a', 'e', 'i', 'o', 'u')\n",
        "\n",
        "letra = input('Digite uma letra: ').lower()\n",
        "\n",
        "if letra in vogais:\n",
        "    print('É uma vogal.')\n",
        "else:\n",
        "    print('Não é uma vogal.')\n"
      ],
      "metadata": {
        "id": "wQ-JLZPtkf3K"
      },
      "execution_count": null,
      "outputs": []
    },
    {
      "cell_type": "markdown",
      "source": [
        "28. Crie uma lista de nomes. Use um loop `for` para imprimir os nomes em ordem alfabética."
      ],
      "metadata": {
        "id": "5OdfbhIHkgO3"
      }
    },
    {
      "cell_type": "code",
      "source": [
        "# prompt: Crie uma lista de nomes. Use um loop for para imprimir os nomes em ordem alfabética.\n",
        "\n",
        "### Sem usar funções de ordenação:\n",
        "nomes = [\"João\", \"Maria\", \"Pedro\", \"Ana\"]\n",
        "nomes_ordenados = []\n",
        "\n",
        "while nomes:\n",
        "    menor_nome = nomes[0]\n",
        "    for nome in nomes:\n",
        "        if nome < menor_nome:\n",
        "            menor_nome = nome\n",
        "    nomes_ordenados.append(menor_nome)\n",
        "    nomes.remove(menor_nome)\n",
        "\n",
        "print(nomes_ordenados)\n",
        "\n",
        "### Com usando funções de ordenação:\n",
        "nomes = [\"João\", \"Maria\", \"Pedro\", \"Ana\"]\n",
        "nomes.sort()\n",
        "print(nomes)\n"
      ],
      "metadata": {
        "id": "huLKkW8gkhhq"
      },
      "execution_count": null,
      "outputs": []
    },
    {
      "cell_type": "markdown",
      "source": [
        "29. Peça ao usuário para inserir uma sequência de números separados por vírgula. Converta essa sequência em uma lista de números e imprima a soma dos quadrados desses números."
      ],
      "metadata": {
        "id": "CwqiKqurkh99"
      }
    },
    {
      "cell_type": "code",
      "source": [
        "# prompt: Peça ao usuário para inserir uma sequência de números separados por vírgula. Converta essa sequência em uma lista de números e imprima a soma dos quadrados desses números.\n",
        "\n",
        "# Peça ao usuário para inserir uma sequência de números separados por vírgula\n",
        "numeros_str = input(\"Digite uma sequência de números separados por vírgula: \")\n",
        "\n",
        "# Converta a sequência em uma lista de números\n",
        "numeros = [float(numero) for numero in numeros_str.split(\",\")]\n",
        "\n",
        "# Calcule a soma dos quadrados dos números\n",
        "soma_quadrados = 0\n",
        "for numero in numeros:\n",
        "    soma_quadrados += numero ** 2\n",
        "\n",
        "# Imprima a soma dos quadrados dos números\n",
        "print(f\"A soma dos quadrados dos números é: {soma_quadrados}\")\n"
      ],
      "metadata": {
        "id": "K2YMsF7Vkj4J"
      },
      "execution_count": null,
      "outputs": []
    },
    {
      "cell_type": "markdown",
      "source": [
        "30. Crie uma tupla com os números de 1 a 10. Peça ao usuário para adivinhar um número. Se o número estiver na tupla, imprima \"Parabéns, você acertou!\"; caso contrário, imprima \"Não foi dessa vez. Tente novamente.\""
      ],
      "metadata": {
        "id": "BFVBPhUXkkRx"
      }
    },
    {
      "cell_type": "code",
      "source": [
        "# prompt: Crie uma tupla com os números de 1 a 10. Peça ao usuário para adivinhar um número. Se o número estiver na tupla, imprima \"Parabéns, você acertou!\"; caso contrário, imprima \"Não foi dessa vez. Tente novamente.\"\n",
        "\n",
        "# Crie uma tupla com os números de 1 a 10\n",
        "numeros = (1, 2, 3, 4, 5, 6, 7, 8, 9, 10)\n",
        "\n",
        "# Peça ao usuário para adivinhar um número\n",
        "chute = int(input(\"Adivinhe um número de 1 a 10: \"))\n",
        "\n",
        "# Verifique se o número está na tupla\n",
        "if chute in numeros:\n",
        "    # Imprima a mensagem de acerto\n",
        "    print(\"Parabéns, você acertou!\")\n",
        "else:\n",
        "    # Imprima a mensagem de erro\n",
        "    print(\"Não foi dessa vez. Tente novamente.\")\n"
      ],
      "metadata": {
        "id": "cZFdXLpXkm0x"
      },
      "execution_count": null,
      "outputs": []
    },
    {
      "cell_type": "markdown",
      "source": [
        "# **Dicionários e Conjuntos**"
      ],
      "metadata": {
        "id": "zUaYoTkhowGx"
      }
    },
    {
      "cell_type": "markdown",
      "source": [
        "**Introdução a dicionários e conjuntos como estruturas de dados. Operações de dicionários: adição, remoção, consulta. Compreensão de conjuntos e suas operações.**"
      ],
      "metadata": {
        "id": "3Y8-B_i1pFGg"
      }
    },
    {
      "cell_type": "markdown",
      "source": [
        "\n",
        "Vamos explorar duas outras estruturas de dados fundamentais em Python: dicionários e conjuntos."
      ],
      "metadata": {
        "id": "XimmU3AlpNSB"
      }
    },
    {
      "cell_type": "markdown",
      "source": [
        "## **Dicionários: Mapeamento Chave-Valor**"
      ],
      "metadata": {
        "id": "31LcMxkNpWkI"
      }
    },
    {
      "cell_type": "markdown",
      "source": [
        "Pense em um dicionário como um verdadeiro dicionário de palavras, onde cada palavra (chave) tem uma definição (valor). Em Python, um dicionário é uma coleção de pares chave-valor. Podemos criar dicionários assim:\n",
        "\n",
        "```python\n",
        "# Criando um dicionário com nomes e idades\n",
        "pessoas = {'Alice': 25, 'Bob': 30, 'Charlie': 22}\n",
        "```\n",
        "\n",
        "Aqui, 'Alice', 'Bob' e 'Charlie' são as chaves, e 25, 30 e 22 são os valores correspondentes."
      ],
      "metadata": {
        "id": "TSaA-ItqpbP0"
      }
    },
    {
      "cell_type": "markdown",
      "source": [
        "## **Operações de Dicionários: Adição, Remoção, Consulta**"
      ],
      "metadata": {
        "id": "TmABjAThpeIc"
      }
    },
    {
      "cell_type": "markdown",
      "source": [
        "- **Adição:**\n",
        "  Podemos adicionar um novo par chave-valor ao dicionário usando a seguinte sintaxe:\n",
        "\n",
        "  ```python\n",
        "  pessoas['David'] = 28\n",
        "  ```\n",
        "\n",
        "  Isso adiciona 'David' com a idade de 28 ao dicionário.\n",
        "\n",
        "- **Remoção:**\n",
        "  Para remover um par chave-valor, utilizamos:\n",
        "\n",
        "  ```python\n",
        "  del pessoas['Charlie']\n",
        "  ```\n",
        "\n",
        "  Isso remove 'Charlie' e sua idade do dicionário.\n",
        "\n",
        "- **Consulta:**\n",
        "  Podemos consultar a idade de 'Alice' assim:\n",
        "\n",
        "  ```python\n",
        "  idade_alice = pessoas['Alice']\n",
        "  print(idade_alice)  # Isso imprimirá 25\n",
        "  ```"
      ],
      "metadata": {
        "id": "44oNHxWypiVx"
      }
    },
    {
      "cell_type": "markdown",
      "source": [
        "## **Conjuntos: Coleções Únicas de Itens**"
      ],
      "metadata": {
        "id": "teBJx5Yiplnz"
      }
    },
    {
      "cell_type": "markdown",
      "source": [
        "Agora, imagine uma caixa onde você coloca itens, mas cada item é único, sem repetições. Em Python, chamamos isso de conjunto. Conjuntos são úteis quando você precisa de uma coleção de itens únicos.\n",
        "\n",
        "```python\n",
        "# Criando um conjunto\n",
        "frutas_unicas = {'maçã', 'banana', 'laranja'}\n",
        "```"
      ],
      "metadata": {
        "id": "L5Gm4Ok-ppq2"
      }
    },
    {
      "cell_type": "markdown",
      "source": [
        "**Compreensão de Conjuntos e Suas Operações**\n",
        "\n",
        "- **Adição de Elementos:**\n",
        "  Podemos adicionar um novo elemento ao conjunto usando o método `add()`:\n",
        "\n",
        "  ```python\n",
        "  frutas_unicas.add('uva')\n",
        "  ```\n",
        "\n",
        "- **Remoção de Elementos:**\n",
        "  Para remover um elemento, usamos o método `remove()`:\n",
        "\n",
        "  ```python\n",
        "  frutas_unicas.remove('banana')\n",
        "  ```\n",
        "\n",
        "- **Operações de Conjuntos:**\n",
        "  Conjuntos suportam operações como união, interseção e diferença. Suponha que temos dois conjuntos:\n",
        "\n",
        "  ```python\n",
        "  conjunto1 = {1, 2, 3, 4}\n",
        "  conjunto2 = {3, 4, 5, 6}\n",
        "  ```\n",
        "\n",
        "  - **União:**\n",
        "    ```python\n",
        "    uniao = conjunto1 | conjunto2\n",
        "    ```\n",
        "\n",
        "  - **Interseção:**\n",
        "    ```python\n",
        "    intersecao = conjunto1 & conjunto2\n",
        "    ```\n",
        "\n",
        "  - **Diferença:**\n",
        "    ```python\n",
        "    diferenca = conjunto1 - conjunto2\n",
        "    ```\n",
        "\n",
        "  Essas operações criam novos conjuntos com base nos elementos dos conjuntos originais.\n",
        "\n",
        "Em resumo, dicionários são úteis para associar informações (chaves) a valores, enquanto conjuntos são excelentes para armazenar coleções únicas de itens. Ambas as estruturas têm operações específicas que podem facilitar o trabalho com dados em Python."
      ],
      "metadata": {
        "id": "ShBDmY28psdK"
      }
    },
    {
      "cell_type": "markdown",
      "source": [
        "# **Funções e Modularidade**"
      ],
      "metadata": {
        "id": "8hkgqmcIn_Fz"
      }
    },
    {
      "cell_type": "markdown",
      "source": [
        "\n",
        "Vamos mergulhar em um dos conceitos mais poderosos da programação: as funções e a modularidade. Isso vai ajudar você a organizar melhor seus programas e reutilizar código de forma eficiente."
      ],
      "metadata": {
        "id": "nH7kpdPMoV9D"
      }
    },
    {
      "cell_type": "markdown",
      "source": [
        "## **Definir Funções Personalizadas para Realizar Tarefas Específicas**"
      ],
      "metadata": {
        "id": "-0phE5P8ocgo"
      }
    },
    {
      "cell_type": "markdown",
      "source": [
        "\n",
        "Imagine que você tem uma tarefa repetitiva, como cumprimentar alguém. Em vez de escrever o mesmo código várias vezes, você pode criar uma função para isso:\n",
        "\n",
        "```python\n",
        "def cumprimentar(nome):\n",
        "    print(\"Olá,\", nome + \"!\")\n",
        "```\n",
        "\n",
        "Agora, sempre que quiser cumprimentar alguém, basta chamar a função:\n",
        "\n",
        "```python\n",
        "cumprimentar(\"Alice\")\n",
        "cumprimentar(\"Bob\")\n",
        "```"
      ],
      "metadata": {
        "id": "RNnl5hxMofwk"
      }
    },
    {
      "cell_type": "markdown",
      "source": [
        "## **Compreender Escopo de Variáveis (Variáveis Locais e Globais)**"
      ],
      "metadata": {
        "id": "6vgaJVuGoj1B"
      }
    },
    {
      "cell_type": "markdown",
      "source": [
        "- **Variáveis Locais:** São variáveis definidas dentro de funções e só podem ser usadas dentro delas. Por exemplo:\n",
        "\n",
        "  ```python\n",
        "  def mostrar_nome():\n",
        "      nome = \"Alice\"  # Variável local\n",
        "      print(nome)\n",
        "  \n",
        "  mostrar_nome()  # Imprime \"Alice\"\n",
        "  # print(nome)  # Isso daria erro, pois 'nome' é uma variável local\n",
        "  ```\n",
        "\n",
        "- **Variáveis Globais:** São variáveis definidas fora de qualquer função e podem ser acessadas de qualquer lugar do programa.\n",
        "\n",
        "  ```python\n",
        "  nome = \"Bob\"  # Variável global\n",
        "  \n",
        "  def mostrar_nome_global():\n",
        "      print(nome)\n",
        "  \n",
        "  mostrar_nome_global()  # Imprime \"Bob\"\n",
        "  ```"
      ],
      "metadata": {
        "id": "-cwKoEgJonTb"
      }
    },
    {
      "cell_type": "markdown",
      "source": [
        "## **Principais Funções de Lista, Str, Cast e Outras Funções Muito Usadas no Python**"
      ],
      "metadata": {
        "id": "q6IUufuIox0o"
      }
    },
    {
      "cell_type": "markdown",
      "source": [
        "- **Listas:**\n",
        "  - `append(elemento)` adiciona um elemento ao final da lista.\n",
        "  - `remove(elemento)` remove a primeira ocorrência do elemento.\n",
        "  - `pop(indice)` remove e retorna o elemento no índice dado.\n",
        "\n",
        "- **Strings (Str):**\n",
        "  - `upper()` converte a string para maiúsculas.\n",
        "  - `lower()` converte a string para minúsculas.\n",
        "  - `replace(velho, novo)` substitui todas as ocorrências da parte 'velho' por 'novo'.\n",
        "\n",
        "- **Cast (Conversão de Tipos):**\n",
        "  - `int(x)` converte x para um inteiro.\n",
        "  - `float(x)` converte x para um número de ponto flutuante.\n",
        "  - `str(x)` converte x para uma string.\n",
        "\n",
        "- **Outras Funções Muito Usadas:**\n",
        "  - `len(x)` retorna o comprimento (o número de itens) de um objeto.\n",
        "  - `input(mensagem)` lê uma string da entrada padrão (teclado)."
      ],
      "metadata": {
        "id": "EXo-DqVWo0IY"
      }
    },
    {
      "cell_type": "markdown",
      "source": [
        "## **Importar Módulos Existentes para Reutilizar Funcionalidades**"
      ],
      "metadata": {
        "id": "2K1NMELcosoj"
      }
    },
    {
      "cell_type": "markdown",
      "source": [
        "Um módulo é um arquivo contendo definições de Python que você pode incluir em seu programa. Por exemplo, o módulo `math` oferece funções matemáticas.\n",
        "\n",
        "```python\n",
        "import math\n",
        "\n",
        "resultado = math.sqrt(16)  # Usa a função sqrt (raiz quadrada) do módulo math\n",
        "print(resultado)  # Imprime 4.0\n",
        "```"
      ],
      "metadata": {
        "id": "3cCTouxWovYk"
      }
    },
    {
      "cell_type": "markdown",
      "source": [
        "## **Como os Módulos Funcionam e Como Criar Módulos**"
      ],
      "metadata": {
        "id": "7KisNDX7o3g7"
      }
    },
    {
      "cell_type": "markdown",
      "source": [
        "Para criar seu próprio módulo, basta salvar seu código em um arquivo `.py`. Por exemplo, se você criar um arquivo chamado `meumodulo.py` com a função `cumprimentar()` definida acima, você pode usar esse módulo em outros programas Python:\n",
        "\n",
        "```python\n",
        "import meumodulo\n",
        "\n",
        "meumodulo.cumprimentar(\"Alice\")\n",
        "```\n",
        "\n",
        "Assim, você pode reutilizar suas funções em diferentes programas, mantendo seu código organizado e eficiente."
      ],
      "metadata": {
        "id": "105sZ5fQo5kE"
      }
    },
    {
      "cell_type": "markdown",
      "source": [
        "# **Manipulação de Arquivos**"
      ],
      "metadata": {
        "id": "WYpc_n3fsqs-"
      }
    },
    {
      "cell_type": "markdown",
      "source": [
        "A manipulação de arquivos é um aspecto fundamental da programação que permite a leitura, escrita e organização de dados em arquivos. Vamos explorar como você pode trabalhar com arquivos de texto em Python, além de entender um pouco sobre diretórios e os tipos de arquivos mais comuns."
      ],
      "metadata": {
        "id": "xghhjz5UswX0"
      }
    },
    {
      "cell_type": "markdown",
      "source": [
        "## **Leitura e Escrita de Arquivos de Texto**"
      ],
      "metadata": {
        "id": "kZYUYy1mszQf"
      }
    },
    {
      "cell_type": "markdown",
      "source": [
        "- **Escrevendo em um Arquivo:**\n",
        "  Para escrever em um arquivo, você primeiro precisa abri-lo no modo de escrita ('w'). Se o arquivo não existir, o Python criará um para você.\n",
        "\n",
        "  ```python\n",
        "  with open('meuarquivo.txt', 'w') as arquivo:\n",
        "      arquivo.write(\"Olá, mundo!\")\n",
        "  ```\n",
        "\n",
        "- **Lendo de um Arquivo:**\n",
        "  Para ler o conteúdo de um arquivo, você abre o arquivo no modo de leitura ('r').\n",
        "\n",
        "  ```python\n",
        "  with open('meuarquivo.txt', 'r') as arquivo:\n",
        "      conteudo = arquivo.read()\n",
        "      print(conteudo)\n",
        "  ```"
      ],
      "metadata": {
        "id": "uUImbVuDs2Cg"
      }
    },
    {
      "cell_type": "markdown",
      "source": [
        "## **Criar Arquivos, Listar e Apagar**"
      ],
      "metadata": {
        "id": "SSuKXBpzs47y"
      }
    },
    {
      "cell_type": "markdown",
      "source": [
        "- **Criar Arquivos:**\n",
        "  Você cria arquivos simplesmente abrindo um arquivo em modo de escrita. Se o arquivo não existir, ele será criado.\n",
        "\n",
        "- **Listar Arquivos em um Diretório:**\n",
        "  Você pode usar a biblioteca `os` para listar arquivos em um diretório.\n",
        "\n",
        "  ```python\n",
        "  import os\n",
        "  arquivos = os.listdir('.')\n",
        "  print(arquivos)\n",
        "  ```\n",
        "\n",
        "- **Apagar Arquivos:**\n",
        "  Ainda com a biblioteca `os`, você pode apagar arquivos usando `os.remove()`.\n",
        "\n",
        "  ```python\n",
        "  os.remove('meuarquivo.txt')\n",
        "  ```"
      ],
      "metadata": {
        "id": "kNECyoiQs7hO"
      }
    },
    {
      "cell_type": "markdown",
      "source": [
        "## **Diretórios**"
      ],
      "metadata": {
        "id": "H2-v31Ams-ND"
      }
    },
    {
      "cell_type": "markdown",
      "source": [
        "- **Mudando o Diretório Atual:**\n",
        "  Você pode mudar o diretório de trabalho usando `os.chdir(caminho)`.\n",
        "\n",
        "- **Criando Diretórios:**\n",
        "  Para criar um novo diretório, use `os.makedirs(caminho)`."
      ],
      "metadata": {
        "id": "U9aNaIS6tAKF"
      }
    },
    {
      "cell_type": "markdown",
      "source": [
        "## **Organizar Dados em Arquivos Usando Python**"
      ],
      "metadata": {
        "id": "v32FVl9ztDlW"
      }
    },
    {
      "cell_type": "markdown",
      "source": [
        "Você pode organizar dados em arquivos para facilitar a análise e o armazenamento de informações. Por exemplo, você pode salvar dados coletados de uma pesquisa online em um arquivo CSV para fácil leitura e análise.\n",
        "\n",
        "```python\n",
        "dados = [\"Nome,Age,Cidade\", \"Alice,30,New York\", \"Bob,25,Los Angeles\"]\n",
        "with open('dados.csv', 'w') as arquivo:\n",
        "    for linha in dados:\n",
        "        arquivo.write(linha + '\\n')\n",
        "```"
      ],
      "metadata": {
        "id": "7ra-fpJ7tFtO"
      }
    },
    {
      "cell_type": "markdown",
      "source": [
        "## **Tipos de Arquivos Mais Comuns**"
      ],
      "metadata": {
        "id": "3M_6CHzXtH6f"
      }
    },
    {
      "cell_type": "markdown",
      "source": [
        "- **Arquivos de Texto (.txt):** Contêm texto simples.\n",
        "- **Arquivos CSV (.csv):** \"Comma-Separated Values\", útil para armazenar dados tabulares.\n",
        "- **Arquivos JSON (.json):** Formato de texto usado para armazenar objetos e arrays em JavaScript, útil para intercâmbio de dados na web.\n",
        "- **Arquivos de Imagem (.jpeg, .png, etc.):** Armazenam imagens digitais.\n",
        "\n",
        "A manipulação de arquivos permite que seus programas Python interajam com o sistema de arquivos, criando uma ponte entre os dados do seu programa e o armazenamento permanente no disco. Isso abre um mundo de possibilidades para armazenamento de dados, análise de dados e automação de tarefas baseadas em arquivos."
      ],
      "metadata": {
        "id": "WSDP5aodtLRt"
      }
    },
    {
      "cell_type": "markdown",
      "source": [
        "# **Trabalhando com Strings**"
      ],
      "metadata": {
        "id": "gPve7_psoSj-"
      }
    },
    {
      "cell_type": "markdown",
      "source": [
        "Strings são sequências de caracteres usadas para armazenar e manipular texto. Aqui, vamos explorar como trabalhar com strings em Python, desde manipulações básicas até a busca de padrões com expressões regulares."
      ],
      "metadata": {
        "id": "Kw-4OYm1oXL3"
      }
    },
    {
      "cell_type": "markdown",
      "source": [
        "## **Manipulação de Strings: Concatenação, Fatiamento, Métodos de Strings**"
      ],
      "metadata": {
        "id": "4cgJpcsroZiK"
      }
    },
    {
      "cell_type": "markdown",
      "source": [
        "- **Concatenação:**\n",
        "  Unir strings é como juntar pedaços de um quebra-cabeça para formar uma imagem completa.\n",
        "\n",
        "  ```python\n",
        "  inicio = \"Olá, \"\n",
        "  fim = \"mundo!\"\n",
        "  mensagem = inicio + fim  # \"Olá, mundo!\"\n",
        "  ```\n",
        "\n",
        "- **Fatiamento:**\n",
        "  Fatiar uma string é como escolher pedaços específicos de uma pizza. Você define o início e o fim do pedaço que quer.\n",
        "\n",
        "  ```python\n",
        "  texto = \"Aprendendo Python!\"\n",
        "  fatia = texto[0:10]  # \"Aprendendo\"\n",
        "  ```\n",
        "\n",
        "- **Métodos de Strings:**\n",
        "  Python oferece vários métodos para trabalhar com strings. Aqui estão alguns exemplos comuns e úteis:\n",
        "\n",
        "  - **`upper()` e `lower()`:** Transformar a string em maiúsculas ou minúsculas.\n",
        "\n",
        "    ```python\n",
        "    nome = \"Alice\"\n",
        "    print(nome.upper())  # \"ALICE\"\n",
        "    print(nome.lower())  # \"alice\"\n",
        "    ```\n",
        "\n",
        "  - **`replace(velho, novo)`:** Substituir partes de uma string.\n",
        "\n",
        "    ```python\n",
        "    frase = \"Gatos são legais.\"\n",
        "    nova_frase = frase.replace(\"Gatos\", \"Cachorros\")  # \"Cachorros são legais.\"\n",
        "    ```\n",
        "\n",
        "  - **`strip()`:** Remover espaços em branco ou caracteres específicos do início e do fim da string.\n",
        "\n",
        "    ```python\n",
        "    saudacao = \"   Olá, mundo!   \"\n",
        "    print(saudacao.strip())  # \"Olá, mundo!\"\n",
        "    ```\n",
        "\n",
        "  - **`split(separador)`:** Dividir a string em uma lista, usando um separador específico.\n",
        "\n",
        "    ```python\n",
        "    lista_palavras = \"um,dois,três,quatro\".split(\",\")\n",
        "    print(lista_palavras)  # ['um', 'dois', 'três', 'quatro']\n",
        "    ```\n",
        "\n",
        "  - **`find(sub)`:** Encontrar a posição de uma sub-string dentro de outra string.\n",
        "\n",
        "    ```python\n",
        "    posicao = \"olá mundo\".find(\"mundo\")\n",
        "    print(posicao)  # 4\n",
        "    ```"
      ],
      "metadata": {
        "id": "U5UCo2qZobig"
      }
    },
    {
      "cell_type": "markdown",
      "source": [
        "## **Expressões Regulares Básicas para Buscar Padrões em Texto**"
      ],
      "metadata": {
        "id": "M6I6aTuvoemC"
      }
    },
    {
      "cell_type": "markdown",
      "source": [
        "Expressões regulares são como filtros sofisticados que nos ajudam a encontrar padrões específicos dentro de textos.\n",
        "\n",
        "- **Usando o Módulo `re`:**\n",
        "  Vamos usar o módulo `re` para buscar padrões. Por exemplo, encontrar todos os endereços de e-mail em um texto:\n",
        "\n",
        "  ```python\n",
        "  import re\n",
        "  \n",
        "  texto = \"Para suporte, entre em contato com suporte@exemplo.com ou admin@exemplo.com.\"\n",
        "  padrao_email = r'\\b[A-Za-z0-9._%+-]+@[A-Za-z0-9.-]+\\.[A-Z|a-z]{2,}\\b'\n",
        "  emails = re.findall(padrao_email, texto)\n",
        "  print(emails)  # ['suporte@exemplo.com', 'admin@exemplo.com']\n",
        "  ```\n",
        "\n",
        "- **Padrões Básicos:**\n",
        "  - `^` Inicia com.\n",
        "  - `$` Termina com.\n",
        "  - `.` Qualquer caractere (exceto nova linha).\n",
        "  - `*` Zero ou mais ocorrências.\n",
        "  - `+` Uma ou mais ocorrências.\n",
        "  - `?` Zero ou uma ocorrência.\n",
        "  - `\\d` Dígito.\n",
        "  - `\\w` Caractere de palavra (letras, dígitos, ou sublinhado).\n",
        "  - `\\s` Espaço em branco.\n",
        "\n",
        "  Exemplo, verificar se uma string é um número de telefone:\n",
        "\n",
        "  ```python\n",
        "  numero = \"123-456-7890\"\n",
        "  padrao = r'^\\d{3}-\\d{3}-\\d{4}$'\n",
        "  if re.match(padrao, numero):\n",
        "      print(\"É um número de telefone válido.\")\n",
        "  else:\n",
        "      print(\"Não é um número de telefone válido.\")\n",
        "  ```\n",
        "\n",
        "Expressões regulares são uma ferramenta poderosa para manipulação e análise de textos, tornando-as essenciais para qualquer projeto que envolva processamento de strings."
      ],
      "metadata": {
        "id": "me8y996dogqn"
      }
    },
    {
      "cell_type": "markdown",
      "source": [
        "# **Introdução à Orientação a Objetos**"
      ],
      "metadata": {
        "id": "I7ndZ5XQpPq0"
      }
    },
    {
      "cell_type": "markdown",
      "source": [
        "A Orientação a Objetos é um paradigma de programação baseado no conceito de \"objetos\", que podem conter dados na forma de campos (frequentemente conhecidos como atributos ou propriedades) e código na forma de procedimentos (frequentemente conhecidos como métodos)."
      ],
      "metadata": {
        "id": "VdfEZe-FpS4Q"
      }
    },
    {
      "cell_type": "markdown",
      "source": [
        "## **Compreender Classes e Objetos**"
      ],
      "metadata": {
        "id": "p70X4DQKpVCF"
      }
    },
    {
      "cell_type": "markdown",
      "source": [
        "Imagine que uma classe é como um blueprint ou uma receita para fazer algo. Por exemplo, se você tem a receita (classe) para fazer um bolo, você pode usar essa receita quantas vezes quiser para fazer vários bolos (objetos). Cada bolo terá as características definidas pela receita, mas cada um pode ter variações, como sabor ou cobertura.\n",
        "\n",
        "**Classes:** São como moldes que definem como algo deve ser. Elas contêm informações sobre o que um objeto criado a partir dessa classe precisa ter e o que pode fazer.\n",
        "\n",
        "**Objetos:** São instâncias de classes. Se a classe é a receita, então o objeto é o bolo feito com essa receita."
      ],
      "metadata": {
        "id": "EYhhuYMSpWuX"
      }
    },
    {
      "cell_type": "markdown",
      "source": [
        "## **Criar Classes e Métodos para Representar Objetos no Mundo Real**"
      ],
      "metadata": {
        "id": "2MsNtb4wpY8D"
      }
    },
    {
      "cell_type": "markdown",
      "source": [
        "Vamos fazer uma classe simples para representar um Livro.\n",
        "\n",
        "```python\n",
        "class Livro:\n",
        "    def __init__(self, titulo, autor):\n",
        "        self.titulo = titulo\n",
        "        self.autor = autor\n",
        "    \n",
        "    def exibir_informacao(self):\n",
        "        print(f\"{self.titulo} escrito por {self.autor}\")\n",
        "```\n",
        "\n",
        "Aqui, `__init__` é um método especial que é chamado automaticamente quando um novo objeto `Livro` é criado. Ele define os atributos iniciais do livro, como `titulo` e `autor`. O método `exibir_informacao` é um exemplo de como você pode definir comportamentos para os objetos da classe.\n",
        "\n",
        "**Usando a Classe para Criar Objetos:**\n",
        "\n",
        "```python\n",
        "livro1 = Livro(\"O Pequeno Príncipe\", \"Antoine de Saint-Exupéry\")\n",
        "livro2 = Livro(\"Dom Casmurro\", \"Machado de Assis\")\n",
        "\n",
        "livro1.exibir_informacao()  # O Pequeno Príncipe escrito por Antoine de Saint-Exupéry\n",
        "livro2.exibir_informacao()  # Dom Casmurro escrito por Machado de Assis\n",
        "```\n",
        "\n",
        "Cada instância (ou objeto) de `Livro` tem seu próprio `titulo` e `autor`, que são definidos quando o objeto é criado. Os métodos da classe podem ser usados para interagir com esses objetos."
      ],
      "metadata": {
        "id": "lpZpxcTppaYz"
      }
    },
    {
      "cell_type": "markdown",
      "source": [
        "## **Exemplos de Aplicações em Casos de Sistemas Reais**"
      ],
      "metadata": {
        "id": "yp5uASX4pctp"
      }
    },
    {
      "cell_type": "markdown",
      "source": [
        "**Exemplo: Sistema de Gerenciamento de Estudantes**\n",
        "\n",
        "Vamos imaginar um sistema onde você precisa gerenciar estudantes e cursos.\n",
        "\n",
        "```python\n",
        "class Estudante:\n",
        "    def __init__(self, nome, idade):\n",
        "        self.nome = nome\n",
        "        self.idade = idade\n",
        "        self.cursos = []\n",
        "    \n",
        "    def inscrever_curso(self, curso):\n",
        "        self.cursos.append(curso)\n",
        "        print(f\"{self.nome} se inscreveu no curso {curso}.\")\n",
        "\n",
        "# Criando objetos da classe Estudante\n",
        "estudante1 = Estudante(\"Alice\", 20)\n",
        "estudante2 = Estudante(\"Bob\", 22)\n",
        "\n",
        "# Inscrevendo em cursos\n",
        "estudante1.inscrever_curso(\"Biologia\")\n",
        "estudante2.inscrever_curso(\"Química\")\n",
        "```\n",
        "\n",
        "Neste exemplo, cada `Estudante` pode se inscrever em vários cursos, demonstrado pela lista `cursos` e pelo método `inscrever_curso`.\n",
        "\n",
        "A orientação a objetos permite modelar entidades complexas do mundo real de forma intuitiva, facilitando a organização, a manutenção e a expansão de seus programas."
      ],
      "metadata": {
        "id": "o7WSn9GxpeYK"
      }
    },
    {
      "cell_type": "code",
      "source": [
        "class Turma:\n",
        "  def __init__(self, ano, turma):\n",
        "    self.ano = ano\n",
        "    self.turma = turma\n",
        "    self.alunos = []\n",
        "\n",
        "  def registrar_aluno(self, nome_aluno):\n",
        "    self.alunos.append(nome_aluno)\n",
        "\n",
        "  def exibir_info(self):\n",
        "    return f\"Ano: {self.ano}\\nTurma: {self.turma}\\nAlunos: {self.alunos}\"\n",
        "\n",
        "turma1 = Turma(9, \"B\")\n",
        "turma2 = Turma(9, \"A\")\n",
        "\n",
        "turma1.registrar_aluno(\"Gustavo\")\n",
        "turma1.registrar_aluno(\"Mariana\")\n",
        "turma1.registrar_aluno(\"Guilherme\")\n",
        "\n",
        "turma2.registrar_aluno(\"Matheus\")\n",
        "turma2.registrar_aluno(\"Sabrina\")\n",
        "turma2.registrar_aluno(\"Thiago\")\n",
        "\n",
        "print(turma2.exibir_info())\n",
        "print(turma1.exibir_info())"
      ],
      "metadata": {
        "id": "SBRTqdIbAtMQ"
      },
      "execution_count": null,
      "outputs": []
    },
    {
      "cell_type": "markdown",
      "source": [
        "# **Tratamento de Erros em Python com Try-Except**"
      ],
      "metadata": {
        "id": "MF_WORl0XrOT"
      }
    },
    {
      "cell_type": "markdown",
      "source": [
        "Em programação, erros podem ocorrer durante a execução de um programa. O Python fornece uma maneira de lidar com esses erros usando a estrutura try-except. Vamos entender como isso funciona e como aplicá-lo."
      ],
      "metadata": {
        "id": "xlNAjz3yX7d4"
      }
    },
    {
      "cell_type": "markdown",
      "source": [
        "## **O que é Try-Except?**"
      ],
      "metadata": {
        "id": "bkemZiCCX9-H"
      }
    },
    {
      "cell_type": "markdown",
      "source": [
        "A estrutura try-except é usada para lidar com exceções, ou seja, situações inesperadas que ocorrem durante a execução de um programa. O bloco try contém o código que pode gerar uma exceção, e o bloco except é usado para lidar com a exceção, caso ela ocorra."
      ],
      "metadata": {
        "id": "9gWqOVNVYAdV"
      }
    },
    {
      "cell_type": "markdown",
      "source": [
        "## **Por que usar Try-Except?**"
      ],
      "metadata": {
        "id": "xZhaUII2YDOY"
      }
    },
    {
      "cell_type": "markdown",
      "source": [
        "Ao usar try-except, você pode prever possíveis erros e lidar com eles de forma elegante, evitando que o programa quebre e fornecendo uma mensagem de erro útil para o usuário."
      ],
      "metadata": {
        "id": "4VgPo-CeYIbt"
      }
    },
    {
      "cell_type": "markdown",
      "source": [
        "## **Como usar Try-Except:**\n",
        "\n",
        "```python\n",
        "try:\n",
        "    # Código que pode gerar uma exceção\n",
        "    resultado = 10 / 0  # Tentativa de divisão por zero\n",
        "except:\n",
        "    # Código para lidar com a exceção\n",
        "    print(\"Ocorreu um erro ao tentar dividir por zero.\")\n",
        "```\n",
        "\n",
        "Neste exemplo, a divisão por zero no bloco try gera uma exceção do tipo ZeroDivisionError. O bloco except captura essa exceção e imprime uma mensagem de erro adequada."
      ],
      "metadata": {
        "id": "GPVVYScfYLJZ"
      }
    },
    {
      "cell_type": "markdown",
      "source": [
        "## **Tipos de Exceções:**"
      ],
      "metadata": {
        "id": "bxbAZoWyYN1H"
      }
    },
    {
      "cell_type": "markdown",
      "source": [
        "Existem muitos tipos diferentes de exceções em Python, como ZeroDivisionError, ValueError, TypeError, entre outros. Você pode especificar o tipo de exceção a ser capturado no bloco except:\n",
        "\n",
        "```python\n",
        "try:\n",
        "    # Código que pode gerar uma exceção\n",
        "    idade = int(input(\"Digite sua idade: \"))\n",
        "except ValueError:\n",
        "    # Código para lidar com a exceção\n",
        "    print(\"Por favor, digite um número inteiro válido.\")\n",
        "```\n",
        "\n",
        "Neste exemplo, se o usuário digitar algo que não possa ser convertido para um número inteiro, uma exceção do tipo ValueError será gerada e capturada pelo bloco except."
      ],
      "metadata": {
        "id": "dHs3kG1aYRUy"
      }
    },
    {
      "cell_type": "markdown",
      "source": [
        "## **Finalizando o Try-Except:**"
      ],
      "metadata": {
        "id": "4z_e4alxYUuk"
      }
    },
    {
      "cell_type": "markdown",
      "source": [
        "Você pode adicionar um bloco else para executar um código se nenhum erro ocorrer no bloco try:\n",
        "\n",
        "```python\n",
        "try:\n",
        "    resultado = 10 / 2\n",
        "except ZeroDivisionError:\n",
        "    print(\"Ocorreu um erro ao tentar dividir por zero.\")\n",
        "else:\n",
        "    print(\"A divisão foi realizada com sucesso.\")\n",
        "```\n",
        "\n",
        "E também um bloco finally que é executado sempre, independentemente de ocorrer uma exceção ou não:\n",
        "\n",
        "```python\n",
        "try:\n",
        "    # Código que pode gerar uma exceção\n",
        "    arquivo = open(\"arquivo.txt\", \"r\")\n",
        "    # Processamento do arquivo\n",
        "except FileNotFoundError:\n",
        "    print(\"O arquivo não foi encontrado.\")\n",
        "finally:\n",
        "    arquivo.close()  # Fechar o arquivo, mesmo se ocorrer uma exceção\n",
        "```"
      ],
      "metadata": {
        "id": "s3dZrWUQYWtv"
      }
    },
    {
      "cell_type": "markdown",
      "source": [
        "# **Recursos de Formatação de Strings em Python**"
      ],
      "metadata": {
        "id": "H-BK8hwxZ36Z"
      }
    },
    {
      "cell_type": "markdown",
      "source": [
        "Python oferece recursos poderosos para formatar strings, tornando mais fácil e flexível exibir informações de maneira formatada. Aqui estão os principais recursos de formatação de strings em Python:"
      ],
      "metadata": {
        "id": "ei0KwyhpZ9VL"
      }
    },
    {
      "cell_type": "markdown",
      "source": [
        "## **1. F-string (Literal de String Formatada):**"
      ],
      "metadata": {
        "id": "Rwt5KFaEaAPq"
      }
    },
    {
      "cell_type": "markdown",
      "source": [
        "F-strings permitem incorporar expressões Python dentro de strings formatadas, facilitando a formatação de strings complexas.\n",
        "\n",
        "Exemplo:\n",
        "```python\n",
        "nome = 'Alice'\n",
        "idade = 30\n",
        "print(f'Meu nome é {nome} e tenho {idade} anos.')\n",
        "```\n",
        "\n",
        "Saída:\n",
        "```\n",
        "Meu nome é Alice e tenho 30 anos.\n",
        "```"
      ],
      "metadata": {
        "id": "BBOeEp4GaEGJ"
      }
    },
    {
      "cell_type": "markdown",
      "source": [
        "## **2. Multiplicação de Strings:**"
      ],
      "metadata": {
        "id": "5QnpLk1-aGn8"
      }
    },
    {
      "cell_type": "markdown",
      "source": [
        "É possível multiplicar uma string por um número para repetir seu conteúdo.\n",
        "\n",
        "Exemplo:\n",
        "```python\n",
        "linha = '-' * 20\n",
        "print(linha)\n",
        "```\n",
        "\n",
        "Saída:\n",
        "```\n",
        "--------------------\n",
        "```"
      ],
      "metadata": {
        "id": "vlBhJnq8aIJ5"
      }
    },
    {
      "cell_type": "markdown",
      "source": [
        "## **3. Alinhamento e Preenchimento:**"
      ],
      "metadata": {
        "id": "tNFkoPmSaMpO"
      }
    },
    {
      "cell_type": "markdown",
      "source": [
        "É possível alinhar e preencher strings com espaços ou outros caracteres.\n",
        "\n",
        "Exemplo:\n",
        "```python\n",
        "nome = 'Alice'\n",
        "print(f'| {nome:<10} |')  # Alinhamento à esquerda com 10 caracteres\n",
        "print(f'| {nome:>10} |')  # Alinhamento à direita com 10 caracteres\n",
        "print(f'| {nome:^10} |')  # Alinhamento centralizado com 10 caracteres\n",
        "```\n",
        "\n",
        "Saída:\n",
        "```\n",
        "| Alice      |\n",
        "|      Alice |\n",
        "|   Alice    |\n",
        "```"
      ],
      "metadata": {
        "id": "jMZgOCKxaOyu"
      }
    },
    {
      "cell_type": "markdown",
      "source": [
        "## **4. Formatação de Números:**"
      ],
      "metadata": {
        "id": "Keq76ru0aRyz"
      }
    },
    {
      "cell_type": "markdown",
      "source": [
        "É possível formatar números com um determinado número de casas decimais.\n",
        "\n",
        "Exemplo:\n",
        "```python\n",
        "valor = 123.456\n",
        "print(f'O valor é {valor:.2f}')\n",
        "```\n",
        "\n",
        "Saída:\n",
        "```\n",
        "O valor é 123.46\n",
        "```"
      ],
      "metadata": {
        "id": "2SfWSVDwaTmO"
      }
    },
    {
      "cell_type": "markdown",
      "source": [
        "## **5. Formatação de Largura Fixa:**"
      ],
      "metadata": {
        "id": "9e3El9e8aWEo"
      }
    },
    {
      "cell_type": "markdown",
      "source": [
        "É possível definir uma largura fixa para uma string, preenchendo os espaços restantes com um caractere específico.\n",
        "\n",
        "Exemplo:\n",
        "```python\n",
        "nome = 'Alice'\n",
        "print(f'{nome:-^10}')  # Largura fixa de 10 caracteres, preenchendo com '-'\n",
        "```\n",
        "\n",
        "Saída:\n",
        "```\n",
        "---Alice---\n",
        "```"
      ],
      "metadata": {
        "id": "MVlx3vKbaXo4"
      }
    },
    {
      "cell_type": "markdown",
      "source": [
        "## **6. Formatação de Índices e Dicionários:**"
      ],
      "metadata": {
        "id": "-NYJXenAaZrZ"
      }
    },
    {
      "cell_type": "markdown",
      "source": [
        "É possível acessar elementos de uma lista ou dicionário dentro de uma f-string.\n",
        "\n",
        "Exemplo:\n",
        "```python\n",
        "dados = {'nome': 'Alice', 'idade': 30}\n",
        "print(f'Meu nome é {dados[\"nome\"]} e tenho {dados[\"idade\"]} anos.')\n",
        "```\n",
        "\n",
        "Saída:\n",
        "```\n",
        "Meu nome é Alice e tenho 30 anos.\n",
        "```\n",
        "\n",
        "Estes são apenas alguns dos recursos de formatação de strings em Python. Eles tornam a manipulação e exibição de strings mais flexíveis e poderosas."
      ],
      "metadata": {
        "id": "wRY2zip9abaa"
      }
    },
    {
      "cell_type": "markdown",
      "source": [
        "# **Desafios**"
      ],
      "metadata": {
        "id": "nQNqPLiup-8w"
      }
    },
    {
      "cell_type": "markdown",
      "source": [
        "## **1. Sistema de Cadastro e Busca de Contatos**"
      ],
      "metadata": {
        "id": "cosHHeHrqCMq"
      }
    },
    {
      "cell_type": "markdown",
      "source": [
        "**Problema:**\n",
        "Imagine que você precisa criar um pequeno sistema para gerenciar uma lista de contatos. Esse sistema deve permitir:\n",
        "\n",
        "1. Adicionar novos contatos com nome, e-mail e telefone.\n",
        "2. Buscar por contatos pelo nome.\n",
        "3. Listar todos os contatos.\n",
        "4. Remover um contato pelo nome.\n",
        "\n",
        "Cada contato pode ser representado como um dicionário, e todos os contatos serão armazenados em uma lista.\n",
        "\n",
        "**Instruções:**\n",
        "\n",
        "- Use funções para organizar seu código.\n",
        "- Implemente a funcionalidade de adicionar, buscar, listar e remover contatos.\n",
        "- Use o loop e condições para permitir várias operações até que o usuário decida sair."
      ],
      "metadata": {
        "id": "vbdFHfusqKJr"
      }
    },
    {
      "cell_type": "code",
      "source": [
        "# Versão não otmizada\n",
        "# Definindo uma lista de contatos inicial\n",
        "contatos = [\n",
        "    { 'nome': 'Matheus Custodio', 'email': 'test@test.test', 'telefone': '11999999999' },\n",
        "    { 'nome': 'Gustavo França', 'email': 'test@test.test', 'telefone': '11999999999' },\n",
        "    { 'nome': 'Mariana França', 'email': 'test@test.test', 'telefone': '11999999999' }\n",
        "]\n",
        "# Definindo as opções do menu\n",
        "opcoes_do_menu = \"\"\"\n",
        "============================================================\n",
        "Selecione uma das opções do menu à seguir:\n",
        "  1. Adicionar novos contatos com nome, e-mail e telefone.\n",
        "  2. Buscar por contatos pelo nome.\n",
        "  3. Listar todos os contatos.\n",
        "  4. Remover um contato pelo nome.\n",
        "  5. Sair.\n",
        "============================================================\n",
        "\"\"\"\n",
        "# Exibindo mensagem de boas-vindas\n",
        "print(\"Bem vindo ao Sistema de Contatos!!!\")\n",
        "\n",
        "# Inicializando a variável opcao\n",
        "opcao = None\n",
        "# Loop principal do menu\n",
        "while opcao != 5:\n",
        "    # Exibindo o menu e lendo a opção do usuário\n",
        "    opcao = int(input(opcoes_do_menu))\n",
        "    # Verificando se a opção é válida\n",
        "    if opcao > 0 and opcao < 5:\n",
        "        if opcao == 1:\n",
        "            print('Opção selecionada: 1. Adicionar novos contatos com nome, e-mail e telefone.')\n",
        "            nome = input('Digite o nome do contato: ')\n",
        "            email = input('Digite o email do contato: ')\n",
        "            telefone = input('Digite o telefone do contato: ')\n",
        "            # Adicionando um novo contato à lista\n",
        "            contatos.append({ 'nome': nome, 'email': email, 'telefone': telefone })\n",
        "            print(f'Contato {nome} adicionado com sucesso!!!')\n",
        "        elif opcao == 2:\n",
        "            print('Opção selecionada: 2. Buscar por contatos pelo nome.')\n",
        "            nome = input('Digite o nome do contato: ')\n",
        "            contato_selecionado = None\n",
        "            # Buscando o contato na lista\n",
        "            for contato in contatos:\n",
        "                if nome in contato['nome']:\n",
        "                    contato_selecionado = contato\n",
        "                    break\n",
        "            # Exibindo o contato encontrado ou uma mensagem de erro\n",
        "            if contato_selecionado:\n",
        "                print(contato_selecionado)\n",
        "            else:\n",
        "                print('Contato não existe!!!')\n",
        "        elif opcao == 3:\n",
        "            print('Opção selecionada: 3. Listar todos os contatos.')\n",
        "            print(contatos)\n",
        "        elif opcao == 4:\n",
        "            print('Opção selecionada: 4. Remover um contato pelo nome.')\n",
        "            nome = input('Digite o nome do contato que deseja remover: ')\n",
        "            contato_selecionado = None\n",
        "            # Buscando o contato na lista\n",
        "            for contato in contatos:\n",
        "                if nome in contato['nome']:\n",
        "                    contato_selecionado = contato\n",
        "                    break\n",
        "            # Removendo o contato da lista ou exibindo uma mensagem de erro\n",
        "            if contato_selecionado:\n",
        "                contatos.remove(contato_selecionado)\n",
        "                print(f\"O contato {contato_selecionado['nome']} removido\")\n",
        "            else:\n",
        "                print('Contato não encontrado!!!')\n",
        "    elif opcao == 5:\n",
        "        # Exibindo a lista de contatos e uma mensagem de despedida\n",
        "        print(contatos)\n",
        "        print('Até a próxima!!!!')\n",
        "    else:\n",
        "        # Exibindo uma mensagem de erro para opções inválidas\n",
        "        print(\"opcao invalida\")\n"
      ],
      "metadata": {
        "id": "t1tjJszHqZJT"
      },
      "execution_count": null,
      "outputs": []
    },
    {
      "cell_type": "code",
      "source": [
        "# Versão otimizada\n",
        "# Definindo uma lista de contatos inicial\n",
        "contatos = [\n",
        "    { 'nome': 'Matheus Custodio', 'email': 'test@test.test', 'telefone': '11999999999' },\n",
        "    { 'nome': 'Gustavo França', 'email': 'test@test.test', 'telefone': '11999999999' },\n",
        "    { 'nome': 'Mariana França', 'email': 'test@test.test', 'telefone': '11999999999' }\n",
        "]\n",
        "# Definindo as opções do menu\n",
        "opcoes_do_menu = \"\"\"\n",
        "============================================================\n",
        "Selecione uma das opções do menu à seguir:\n",
        "  1. Adicionar novos contatos com nome, e-mail e telefone.\n",
        "  2. Buscar por contatos pelo nome.\n",
        "  3. Listar todos os contatos.\n",
        "  4. Remover um contato pelo nome.\n",
        "  5. Sair.\n",
        "============================================================\n",
        "\"\"\"\n",
        "\n",
        "# Função para ler a opção do usuário\n",
        "def escolher_opcao():\n",
        "    try:\n",
        "        opcao = int(input(opcoes_do_menu))\n",
        "    except:\n",
        "        opcao = 5\n",
        "    return opcao\n",
        "\n",
        "# Função para criar um novo contato\n",
        "def criar_contato():\n",
        "    nome = input('Digite o nome do contato: ')\n",
        "    email = input('Digite o email do contato: ')\n",
        "    telefone = input('Digite o telefone do contato: ')\n",
        "    contato = { 'nome': nome, 'email': email, 'telefone': telefone }\n",
        "    return contato\n",
        "\n",
        "# Função para buscar um contato pelo nome\n",
        "def buscar_contato():\n",
        "    nome = input('Digite o nome do contato: ')\n",
        "    for contato in contatos:\n",
        "        if nome in contato['nome']:\n",
        "            return contato\n",
        "    return None\n",
        "\n",
        "# Função para imprimir os detalhes de um contato\n",
        "def imprimir_contato(contato):\n",
        "    print(f\"\"\"\n",
        "    {'-' * 52}\n",
        "    | {'Nome:':<10} {contato['nome']:<37} |\n",
        "    | {'E-Mail:':<10} {contato['email']:<37} |\n",
        "    | {'Telefone:':<10} {contato['telefone']:<37} |\n",
        "    {'-' * 52}\n",
        "    \"\"\"\n",
        "    )\n",
        "\n",
        "# Exibindo mensagem de boas-vindas\n",
        "print(\"Bem vindo ao Sistema de Contatos!!!\")\n",
        "sair = False\n",
        "# Loop principal do menu\n",
        "while not sair:\n",
        "    opcao = escolher_opcao()\n",
        "    if opcao == 1:\n",
        "        print('Opção selecionada: 1. Adicionar novos contatos com nome, e-mail e telefone.')\n",
        "        contato = criar_contato()\n",
        "        contatos.append(contato)\n",
        "        print(f\"Contato {contato['nome']} adicionado com sucesso!!!\")\n",
        "    elif opcao == 2:\n",
        "        print('Opção selecionada: 2. Buscar por contatos pelo nome.')\n",
        "        contato_selecionado = buscar_contato()\n",
        "        if contato_selecionado:\n",
        "            imprimir_contato(contato_selecionado)\n",
        "        else:\n",
        "            print('Contato não existe!!!')\n",
        "    elif opcao == 3:\n",
        "        print('Opção selecionada: 3. Listar todos os contatos.')\n",
        "        for contato in contatos:\n",
        "            imprimir_contato(contato)\n",
        "    elif opcao == 4:\n",
        "        print('Opção selecionada: 4. Remover um contato pelo nome.')\n",
        "        contato_selecionado = buscar_contato()\n",
        "        if contato_selecionado:\n",
        "            contatos.remove(contato_selecionado)\n",
        "            print(f\"O contato {contato_selecionado['nome']} removido\")\n",
        "        else:\n",
        "            print('Contato não encontrado!!!')\n",
        "    elif opcao == 5:\n",
        "        sair = True\n",
        "        print('Muito obrigado por usar o sistema Agenda!!!')\n",
        "    else:\n",
        "        print(f'A opção {opcao} não é valida!!!')\n"
      ],
      "metadata": {
        "id": "6rd7WUoV8Gaw"
      },
      "execution_count": null,
      "outputs": []
    },
    {
      "cell_type": "markdown",
      "source": [
        "## **2. Sistema de Gerenciamento de Tarefas com Menu Interativo**"
      ],
      "metadata": {
        "id": "oF61_19oll-A"
      }
    },
    {
      "cell_type": "markdown",
      "source": [
        "**Contexto:**\n",
        "Um adolescente está aprendendo a programar e decidiu criar um sistema simples de gerenciamento de tarefas para ajudar a organizar suas atividades diárias. O sistema deve permitir adicionar novas tarefas, exibir a lista de tarefas, marcar tarefas como concluídas e sair do sistema quando desejar.\n",
        "\n",
        "**Regras de Negócio:**\n",
        "1. O sistema deve apresentar um menu com as seguintes opções: adicionar tarefa, exibir tarefas, marcar tarefa como concluída e sair do sistema.\n",
        "2. O sistema deve permitir adicionar novas tarefas.\n",
        "3. O sistema deve exibir a lista de tarefas atualizada.\n",
        "4. O sistema deve permitir marcar tarefas como concluídas.\n",
        "5. O sistema deve permitir ao usuário sair do sistema quando desejar.\n",
        "\n",
        "**Critérios de Aceitação:**\n",
        "1. O sistema deve apresentar um menu com as opções especificadas.\n",
        "2. O sistema deve ser capaz de adicionar novas tarefas à lista.\n",
        "3. O sistema deve exibir a lista de tarefas de forma legível.\n",
        "4. O sistema deve permitir marcar tarefas como concluídas.\n",
        "5. O sistema deve permitir ao usuário sair do sistema quando desejar."
      ],
      "metadata": {
        "id": "YZOuVAgrlqRC"
      }
    },
    {
      "cell_type": "code",
      "source": [
        "menu = \"\"\"\n",
        "----------------------------------------------\n",
        "| Selecione uma das opções do menu à seguir: |\n",
        "|   1. Adicionar uma nova tarefa.            |\n",
        "|   2. Listar todas as tarefas.              |\n",
        "|   3. Marcar uma tarefa como concluída.     |\n",
        "|   4. Sair                                  |\n",
        "----------------------------------------------\n",
        "\"\"\"\n",
        "\n",
        "opcao = None\n",
        "tarefas = []\n",
        "print('Seja bem vindo ao sistema de gerenciamento de tarefas!!!\\n\\n')\n",
        "while opcao != 4:\n",
        "  opcao = int(input(menu))\n",
        "  if opcao == 1:\n",
        "    print('\\n\\nOpção: 1. Adicionar uma nova tarefa.')\n",
        "    tarefa = {}\n",
        "    tarefa['Nome'] = input('Digite a tarefa que deseja adicionar: ')\n",
        "    tarefa['ID'] = len(tarefas) + 1\n",
        "    tarefa['Concluida'] = 'Não'\n",
        "    tarefas.append(tarefa)\n",
        "\n",
        "    print(f'Tarefa {tarefa[\"Nome\"]} adicionada com sucesso!!!')\n",
        "    continue\n",
        "  elif opcao == 2:\n",
        "    print('Opção: 2. Listar todas as tarefas.')\n",
        "    for tarefa in tarefas:\n",
        "      print(f'ID: {tarefa[\"ID\"]}, Nome: {tarefa[\"Nome\"]}, Concluida: {tarefa[\"Concluida\"]}')\n",
        "    continue\n",
        "  elif opcao == 3:\n",
        "    print('Opção: 3. Marcar uma tarefa como concluída.')\n",
        "    id = int(input('Digite o ID da tarefa que deseja marcar como concluída: '))\n",
        "    for tarefa in tarefas:\n",
        "      if tarefa['ID'] == id:\n",
        "        tarefa['Concluida'] = 'Sim'\n",
        "        print(f'Tarefa {tarefa[\"Nome\"]} marcada como concluída com sucesso!!!')\n",
        "        continue\n",
        "    continue\n",
        "  elif opcao == 4:\n",
        "    print('Opção: 4. Sair do sistema.')\n",
        "    print('Até a próxima!!!')\n",
        "    break\n",
        "  else:\n",
        "    print('Opcão Inválida!!!')\n",
        "    continue\n"
      ],
      "metadata": {
        "id": "rkpW5isGlunI"
      },
      "execution_count": null,
      "outputs": []
    },
    {
      "cell_type": "markdown",
      "source": [
        "## **3. Contagem de palavras em um texto**"
      ],
      "metadata": {
        "id": "iteN4TfXpaGi"
      }
    },
    {
      "cell_type": "markdown",
      "source": [
        "**Contexto:**\n",
        "Um grupo de adolescentes está aprendendo a programar e decidiu criar um programa para contar quantas vezes cada palavra aparece em um texto. Isso os ajudará a praticar o uso de loops de repetição.\n",
        "\n",
        "**Regras de Negócio:**\n",
        "1. O programa deve receber um texto como entrada do usuário.\n",
        "2. O programa deve dividir o texto em palavras e contar quantas vezes cada palavra aparece.\n",
        "3. O programa deve exibir a contagem de cada palavra, em ordem alfabética.\n",
        "\n",
        "**Critérios de Aceitação:**\n",
        "1. O programa deve ser capaz de receber um texto como entrada.\n",
        "2. O programa deve contar quantas vezes cada palavra aparece no texto.\n",
        "3. O programa deve exibir a contagem de cada palavra, em ordem alfabética.\n"
      ],
      "metadata": {
        "id": "32YWVj_dpZB_"
      }
    },
    {
      "cell_type": "code",
      "source": [
        "texto = input(\"Insira o texto desejado: \")\n",
        "texto = texto.lower()\n",
        "lista_de_palavras = texto.split()\n",
        "resultado = {}\n",
        "sort_resultado = sorted(lista_de_palavras)\n",
        "\n",
        "for palavra in sort_resultado:\n",
        "  if palavra in resultado:\n",
        "    resultado[palavra] += 1\n",
        "\n",
        "  else:\n",
        "    resultado[palavra] = 1\n",
        "print(resultado)\n"
      ],
      "metadata": {
        "id": "fwnvRyrHq4PD",
        "outputId": "a2a34bca-0a5f-4407-c94b-09a184023ca9",
        "colab": {
          "base_uri": "https://localhost:8080/"
        }
      },
      "execution_count": 24,
      "outputs": [
        {
          "output_type": "stream",
          "name": "stdout",
          "text": [
            "Insira o texto desejado: bianca alia alia camila \n",
            "{'alia': 2, 'bianca': 1, 'camila': 1}\n"
          ]
        }
      ]
    }
  ]
}