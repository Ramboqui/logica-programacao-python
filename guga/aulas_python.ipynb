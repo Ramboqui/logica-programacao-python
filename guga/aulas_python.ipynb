{
  "nbformat": 4,
  "nbformat_minor": 0,
  "metadata": {
    "colab": {
      "provenance": [],
      "toc_visible": true,
      "include_colab_link": true
    },
    "kernelspec": {
      "name": "python3",
      "display_name": "Python 3"
    },
    "language_info": {
      "name": "python"
    }
  },
  "cells": [
    {
      "cell_type": "markdown",
      "metadata": {
        "id": "view-in-github",
        "colab_type": "text"
      },
      "source": [
        "<a href=\"https://colab.research.google.com/github/Ramboqui/logica-programacao-python/blob/feature%2Fguga/guga/aulas_python.ipynb\" target=\"_parent\"><img src=\"https://colab.research.google.com/assets/colab-badge.svg\" alt=\"Open In Colab\"/></a>"
      ]
    },
    {
      "cell_type": "markdown",
      "source": [
        "# **Introdução à computação**"
      ],
      "metadata": {
        "id": "YNY3blTEL6hj"
      }
    },
    {
      "cell_type": "markdown",
      "source": [
        "## **O que é programação?**"
      ],
      "metadata": {
        "id": "UgJ4uodhLqz4"
      }
    },
    {
      "cell_type": "markdown",
      "source": [
        "## **Por que é importante?**"
      ],
      "metadata": {
        "id": "MOxrFcDWMFNe"
      }
    },
    {
      "cell_type": "markdown",
      "source": [
        "1. **Solução de Problemas:** A programação ensina a abordar problemas de forma lógica e a dividir grandes problemas em partes menores e gerenciáveis. Isso ajuda não apenas na programação, mas também em muitos aspectos da vida.\n",
        "\n",
        "2. **Inovação:** A programação é a espinha dorsal da inovação tecnológica. Todas as inovações tecnológicas, desde aplicativos de smartphone até sistemas complexos de inteligência artificial, são possíveis devido à programação.\n",
        "\n",
        "3. **Empregabilidade:** A demanda por profissionais de programação está em alta. A habilidade de programar é valiosa em muitos campos, desde desenvolvimento de software até ciência de dados e engenharia.\n",
        "\n",
        "4. **Criatividade:** Programação permite que você crie suas próprias aplicações, jogos, websites e muito mais. É uma forma de expressar criatividade e imaginação digitalmente.\n",
        "\n",
        "5. **Compreensão Tecnológica:** Em um mundo cada vez mais digital, entender como os computadores funcionam e como os programas são escritos é essencial para ser um usuário eficaz da tecnologia.\n",
        "\n",
        "6. **Automação:** A programação permite automatizar tarefas repetitivas. Isso é útil tanto em tarefas diárias quanto em ambientes industriais, onde a automação aumenta a eficiência.\n",
        "\n",
        "7. **Colaboração Global:** A comunidade de programadores é global. Através da programação, as pessoas podem colaborar em projetos, resolver problemas em conjunto e criar coisas incríveis, independentemente de onde estejam no mundo.\n",
        "\n",
        "8. **Pensamento Computacional:** A programação ensina a pensar de forma lógica e a entender como as máquinas processam informações. Essa habilidade é útil mesmo fora do campo da tecnologia, ajudando na resolução de problemas em muitos contextos.\n",
        "\n",
        "Em resumo, a programação é uma habilidade poderosa e versátil que não apenas abre portas para oportunidades de carreira, mas também ajuda a desenvolver habilidades essenciais para o século 21, como pensamento crítico, resolução de problemas e criatividade."
      ],
      "metadata": {
        "id": "jZ56FZpzMH9m"
      }
    },
    {
      "cell_type": "markdown",
      "source": [
        "## **Compreensão dos Algoritmos: Como os Computadores Seguem Instruções**"
      ],
      "metadata": {
        "id": "LaTjj1_FMb3s"
      }
    },
    {
      "cell_type": "markdown",
      "source": [
        "Imagine que você está ensinando um robô a fazer um sanduíche. Você não pode apenas dizer \"faça um sanduíche\", você precisa dizer passo a passo o que fazer: pegue o pão, passe a manteiga, coloque o queijo, etc. Isso é como um algoritmo!\n",
        "\n",
        "Um algoritmo é um conjunto de passos claros e específicos para realizar uma tarefa ou resolver um problema. Nos computadores, os algoritmos são como receitas que os dizem exatamente o que fazer. Eles são essenciais porque os computadores não entendem o que queremos da mesma forma que os humanos. Precisamos ser muito específicos.\n",
        "\n",
        "Por exemplo, pense em uma busca na internet. Quando você digita algo no Google, ele não sabe instantaneamente o que você quer. Ele segue um algoritmo: primeiro, ele procura pelos sites que correspondem à sua pesquisa, depois classifica esses sites para mostrar os mais relevantes primeiro. Isso é feito seguindo passos precisos e lógicos - é o algoritmo do Google.\n",
        "\n",
        "Entender algoritmos é como entender as receitas para fazer um bolo. Se você seguir os passos na ordem certa, você terá um bolo delicioso no final. Da mesma forma, os computadores precisam de algoritmos bem definidos para realizar tarefas complexas, desde buscas na internet até simulações científicas.\n",
        "\n",
        "Portanto, a compreensão dos algoritmos é fundamental na programação, porque os programadores escrevem algoritmos para que os computadores possam seguir instruções e realizar todas as tarefas incríveis que fazemos com eles!"
      ],
      "metadata": {
        "id": "1nvor-DZMg0r"
      }
    },
    {
      "cell_type": "markdown",
      "source": [
        "# **Python: Módulo 1 - Primeiros Passos**\n"
      ],
      "metadata": {
        "id": "u0s_AiE1ZfeP"
      }
    },
    {
      "cell_type": "markdown",
      "source": [
        "## **O que é Python?**\n",
        "\n"
      ],
      "metadata": {
        "id": "HO1VAYP5JxEq"
      }
    },
    {
      "cell_type": "markdown",
      "source": [
        "Python é uma linguagem de programação. Isso significa que é uma ferramenta que os computadores entendem para fazer coisas. Imagine que você está dando instruções para um robô: Python é a linguagem que usamos para falar com esse robô, que, no caso, é um computador.\n",
        "\n",
        "**Uma linguagem de alto nível:**\n",
        "\n",
        "Pense em uma linguagem de programação como uma língua que nós, humanos, usamos para falar uns com os outros. Algumas linguagens de programação são \"baixo nível\", o que significa que são muito detalhadas e complicadas, como falar em código morse, onde cada ponto e traço importa muito. Python, por outro lado, é de \"alto nível\". Isso significa que é mais parecido com o inglês que você usa todos os dias, muito mais fácil de entender e escrever.\n",
        "\n",
        "**Uma linguagem interpretada:**\n",
        "\n",
        "Agora, pense em um tradutor que ajuda você a conversar com alguém que fala outra língua. Em algumas linguagens de programação, você primeiro escreve o código e, em seguida, precisa de um processo chamado compilação para transformar esse código em algo que o computador entende. Python não precisa desse passo extra. É como se o seu tradutor (intérprete) entendesse você diretamente, sem precisar traduzir primeiro.\n",
        "\n",
        "**Uma linguagem de propósito geral:**\n",
        "\n",
        "Python não é especializado em apenas uma coisa. Alguns idiomas são como ferramentas muito específicas, como uma chave de fenda usada apenas para parafusos pequenos. Python é mais como uma caixa de ferramentas com muitas ferramentas diferentes, servindo para várias finalidades. Você pode usá-lo para criar sites, jogos, fazer cálculos complexos, automatizar tarefas chatas e até mesmo ensinar outras pessoas a programar.\n",
        "\n",
        "Então, resumindo, Python é uma linguagem de programação que é fácil de entender e escrever, funciona como um tradutor instantâneo para o computador e pode ser usado para fazer uma grande variedade de coisas legais!"
      ],
      "metadata": {
        "id": "c5rw0qfKKnIG"
      }
    },
    {
      "cell_type": "markdown",
      "source": [
        "## **Configurar Ambiente**"
      ],
      "metadata": {
        "id": "cLugw4GJNefb"
      }
    },
    {
      "cell_type": "markdown",
      "source": [
        "Configurar um ambiente Python no Windows usando o Visual Studio Code (VS Code) como IDE e o PowerShell para executar scripts é uma ótima escolha para começar a programar em Python. Aqui está um guia passo a passo para configurar esse ambiente:"
      ],
      "metadata": {
        "id": "n-hmlKV9Ntbb"
      }
    },
    {
      "cell_type": "markdown",
      "source": [
        "### **Passo 1: Instalar o Python**"
      ],
      "metadata": {
        "id": "KaTGz67tN0bL"
      }
    },
    {
      "cell_type": "markdown",
      "source": [
        "1. **Baixe o Python:** Vá para o site oficial do Python em [python.org](https://www.python.org/downloads/) e clique em \"Download\". Escolha a versão mais recente para Windows e execute o instalador.\n",
        "\n",
        "2. **Adicione o Python ao PATH:** Durante a instalação, marque a opção \"Add Python to PATH\". Isso permite que o sistema encontre o Python facilmente."
      ],
      "metadata": {
        "id": "JUSRWQOON6i8"
      }
    },
    {
      "cell_type": "markdown",
      "source": [
        "### **Passo 2: Instalar o Visual Studio Code**"
      ],
      "metadata": {
        "id": "6gH3NYl-N9xS"
      }
    },
    {
      "cell_type": "markdown",
      "source": [
        "1. **Baixe e Instale o VS Code:** Vá para [code.visualstudio.com](https://code.visualstudio.com/) e baixe o instalador do VS Code para Windows. Execute o instalador.\n",
        "\n",
        "2. **Instale Extensões Python:** Abra o VS Code. Clique na barra lateral à esquerda, no ícone de quadrado (Extensões) e pesquise por \"Python\". Instale a extensão oferecida pela Microsoft, que é geralmente a primeira da lista."
      ],
      "metadata": {
        "id": "tij9jMTmOBl8"
      }
    },
    {
      "cell_type": "markdown",
      "source": [
        "### **Passo 3: Configurar o PowerShell para Executar Scripts Python**"
      ],
      "metadata": {
        "id": "kSqgDoKROHfO"
      }
    },
    {
      "cell_type": "markdown",
      "source": [
        "1. **Verifique se o PowerShell está Habilitado:** O PowerShell está habilitado por padrão no Windows. Para verificar, digite \"PowerShell\" no menu Iniciar e abra o aplicativo.\n",
        "\n",
        "2. **Configurar Execução de Scripts:** Para permitir a execução de scripts no PowerShell, você precisa definir a política de execução. Abra o PowerShell como administrador (clique com o botão direito do mouse no ícone do PowerShell no menu Iniciar e escolha \"Executar como Administrador\"). Em seguida, execute o seguinte comando para permitir a execução de scripts:\n",
        "\n",
        "   ```powershell\n",
        "   Set-ExecutionPolicy RemoteSigned\n",
        "   ```\n",
        "\n",
        "   Responda \"Y\" (Yes) quando for solicitado a confirmar."
      ],
      "metadata": {
        "id": "v4T7vZX4OKwA"
      }
    },
    {
      "cell_type": "markdown",
      "source": [
        "### **Passo 4: Criar e Executar um Script Python no VS Code usando o PowerShell**"
      ],
      "metadata": {
        "id": "uJ8SYOiCOPUk"
      }
    },
    {
      "cell_type": "markdown",
      "source": [
        "1. **Abra o VS Code:** Abra o Visual Studio Code.\n",
        "\n",
        "2. **Criar um Novo Arquivo Python:** Crie um novo arquivo clicando em \"File\" (Arquivo) > \"New File\" (Novo Arquivo) e salve com a extensão \".py\", por exemplo, \"meu_script.py\".\n",
        "\n",
        "3. **Escreva Seu Código Python:** Escreva seu código Python no arquivo. Por exemplo:\n",
        "\n",
        "   ```python\n",
        "   print(\"Olá, mundo!\")\n",
        "   ```\n",
        "\n",
        "4. **Executar o Script:** Abra o terminal no VS Code clicando em \"Terminal\" > \"New Terminal\" (Terminal > Novo Terminal). Certifique-se de que o terminal esteja usando o PowerShell. Navegue até o diretório onde você salvou o arquivo Python usando o comando `cd` e, em seguida, execute o script usando o comando `python`:\n",
        "\n",
        "   ```powershell\n",
        "   python meu_script.py\n",
        "   ```\n",
        "\n",
        "Agora você configurou com sucesso um ambiente Python no Windows usando o Visual Studio Code como sua IDE e o PowerShell para executar scripts Python!"
      ],
      "metadata": {
        "id": "Fuzq2SmAOSwG"
      }
    },
    {
      "cell_type": "markdown",
      "source": [
        "## **Variáveis**"
      ],
      "metadata": {
        "id": "uEjQ0r8UO5m0"
      }
    },
    {
      "cell_type": "markdown",
      "source": [
        "Vamos falar sobre variáveis em Python de uma forma fácil de entender."
      ],
      "metadata": {
        "id": "MdreNreUO_Uo"
      }
    },
    {
      "cell_type": "markdown",
      "source": [
        "### **O que são Variáveis?**"
      ],
      "metadata": {
        "id": "uOMAlQnxPGnj"
      }
    },
    {
      "cell_type": "markdown",
      "source": [
        "Em programação, uma variável é como uma caixa que você pode usar para armazenar informações. Imagine que você tem uma caixa chamada \"idade\" e quer guardar a sua idade nela. Em Python, você faria isso usando uma variável."
      ],
      "metadata": {
        "id": "HSOgjYujPL95"
      }
    },
    {
      "cell_type": "markdown",
      "source": [
        "### **Como Funcionam as Variáveis em Python?**"
      ],
      "metadata": {
        "id": "xRQDoYm_PZVH"
      }
    },
    {
      "cell_type": "markdown",
      "source": [
        "Em Python, criar uma variável é muito simples. Você escolhe um nome para sua variável (como \"idade\") e atribui um valor a ela usando o sinal de igual/recebe (`=`). Por exemplo:"
      ],
      "metadata": {
        "id": "ASxeQrq5PbWq"
      }
    },
    {
      "cell_type": "code",
      "source": [
        "idade = 15 # leitura: idade recebe 15"
      ],
      "metadata": {
        "id": "DE3tCLW0P1AW"
      },
      "execution_count": null,
      "outputs": []
    },
    {
      "cell_type": "markdown",
      "source": [
        "Agora, a variável `idade` contém o valor `15`."
      ],
      "metadata": {
        "id": "smSZ_4n4P9_z"
      }
    },
    {
      "cell_type": "markdown",
      "source": [
        "### **Tipos de Dados das Variáveis:**"
      ],
      "metadata": {
        "id": "PoDnfR50QCi7"
      }
    },
    {
      "cell_type": "markdown",
      "source": [
        "As variáveis em Python podem armazenar diferentes tipos de dados, incluindo:"
      ],
      "metadata": {
        "id": "lBogHADEQFSZ"
      }
    },
    {
      "cell_type": "markdown",
      "source": [
        "**1. Números:**\n",
        "   - **Inteiros (int):** São números inteiros, como -1, 0, 1, 2, 3, etc. Usados para contar coisas sem decimais.\n",
        "   - **Números de ponto flutuante (float):** São números com decimais, como 3.14, 2.0, 0.5, etc. Usados quando precisamos de precisão decimal, como em dinheiro ou medidas de peso.\n",
        "\n",
        "**2. Texto:**\n",
        "   - **String (str):** São usadas para representar texto. Por exemplo, \"Olá, mundo!\" é uma string. Strings são como frases que o computador pode entender.\n",
        "\n",
        "**3. Booleanos:**\n",
        "   - **Booleano (bool):** Pode ser True (verdadeiro) ou False (falso). Usado para fazer comparações e tomar decisões. Por exemplo, podemos dizer que é verdadeiro que o céu é azul ou falso que os peixes podem voar.\n",
        "\n",
        "**4. Listas:**\n",
        "   - **Lista (list):** É uma coleção ordenada de itens. Por exemplo, uma lista de números como [1, 2, 3] ou uma lista de nomes como [\"Ana\", \"João\", \"Maria\"]. As listas são flexíveis e podem conter diferentes tipos de dados.\n",
        "\n",
        "**5. Tuplas:**\n",
        "   - **Tupla (tuple):** Semelhante a uma lista, mas imutável, o que significa que não pode ser alterada depois de criada. Por exemplo, (1, 2, 3) é uma tupla.\n",
        "\n",
        "**6. Dicionários:**\n",
        "   - **Dicionário (dict):** É uma coleção de pares chave-valor. Cada elemento no dicionário tem uma chave única associada a um valor. É como um dicionário real, onde você tem uma palavra (chave) e a definição dela (valor). Por exemplo, {\"maçã\": 3, \"banana\": 5, \"laranja\": 2} é um dicionário."
      ],
      "metadata": {
        "id": "7rXd63O3KsuM"
      }
    },
    {
      "cell_type": "markdown",
      "source": [
        "**Por exemplo:**"
      ],
      "metadata": {
        "id": "c4TtOji-QeS4"
      }
    },
    {
      "cell_type": "code",
      "source": [
        "nome = \"Alice\"  # Uma string\n",
        "nota = 9.5     # Um número de ponto flutuante\n",
        "tem_cachorro = True  # Um valor booleano"
      ],
      "metadata": {
        "id": "DY75hiyfQlg-"
      },
      "execution_count": null,
      "outputs": []
    },
    {
      "cell_type": "markdown",
      "source": [
        "### **Reatribuição de Variáveis:**"
      ],
      "metadata": {
        "id": "Ed_zPnjRQpbp"
      }
    },
    {
      "cell_type": "markdown",
      "source": [
        "Em Python, você pode mudar o valor de uma variável a qualquer momento. Por exemplo:"
      ],
      "metadata": {
        "id": "jVQGVBcmQtrm"
      }
    },
    {
      "cell_type": "code",
      "source": [
        "idade = 15  # Agora idade é 15\n",
        "idade = 16  # Agora idade é 16, pois foi reatribuída"
      ],
      "metadata": {
        "id": "1Lc2yMliQ0pc"
      },
      "execution_count": null,
      "outputs": []
    },
    {
      "cell_type": "markdown",
      "source": [
        "### **Usando Variáveis em Operações:**"
      ],
      "metadata": {
        "id": "j7dd5FUdQy-K"
      }
    },
    {
      "cell_type": "markdown",
      "source": [
        "Você também pode usar variáveis em operações matemáticas ou com strings:"
      ],
      "metadata": {
        "id": "ew1Twr6hQ7Ew"
      }
    },
    {
      "cell_type": "code",
      "source": [
        "a = 10\n",
        "b = 5\n",
        "soma = a + b  # soma agora é 15\n",
        "mensagem = \"Olá, \" + nome  # mensagem agora é \"Olá, Alice\""
      ],
      "metadata": {
        "id": "6M73mRhtQ6Md"
      },
      "execution_count": null,
      "outputs": []
    },
    {
      "cell_type": "markdown",
      "source": [
        "Variáveis são fundamentais na programação, pois permitem que você armazene dados e faça operações com esses dados de maneira dinâmica e flexível. Elas são como os \"potinhos\" onde você guarda as informações que seu programa precisa usar."
      ],
      "metadata": {
        "id": "YXCr9v4KRB_p"
      }
    },
    {
      "cell_type": "markdown",
      "source": [],
      "metadata": {
        "id": "ZUum00iKa3LT"
      }
    },
    {
      "cell_type": "markdown",
      "source": [
        "## **Operadores**"
      ],
      "metadata": {
        "id": "bmrNSWRfRh_b"
      }
    },
    {
      "cell_type": "markdown",
      "source": [
        "Em Python, existem diferentes tipos de operadores que você pode usar para realizar várias operações. Vou explicar os principais tipos de operadores: aritméticos, de comparação e lógicos."
      ],
      "metadata": {
        "id": "frSEwDUVRk5V"
      }
    },
    {
      "cell_type": "markdown",
      "source": [
        "### **1. Operadores Aritméticos:**"
      ],
      "metadata": {
        "id": "V76csMJlRx2W"
      }
    },
    {
      "cell_type": "markdown",
      "source": [
        "Os operadores aritméticos são usados para realizar operações matemáticas básicas."
      ],
      "metadata": {
        "id": "lCwOvyZaR1CT"
      }
    },
    {
      "cell_type": "markdown",
      "source": [
        "\n",
        "- **`+` (Adição):** Soma dois valores."
      ],
      "metadata": {
        "id": "FXWsW2e1R6Oz"
      }
    },
    {
      "cell_type": "code",
      "source": [
        "resultado = 5 + 3  # resultado é 8"
      ],
      "metadata": {
        "id": "KkfVKS5SSChl"
      },
      "execution_count": null,
      "outputs": []
    },
    {
      "cell_type": "markdown",
      "source": [
        "- **`-` (Subtração):** Subtrai um valor de outro."
      ],
      "metadata": {
        "id": "oR6VzEUASHM5"
      }
    },
    {
      "cell_type": "code",
      "source": [
        "resultado = 7 - 4  # resultado é 3"
      ],
      "metadata": {
        "id": "vEsA4fTRSYg-"
      },
      "execution_count": null,
      "outputs": []
    },
    {
      "cell_type": "markdown",
      "source": [
        "- **`*` (Multiplicação):** Multiplica dois valores."
      ],
      "metadata": {
        "id": "KHkXW8aESbpY"
      }
    },
    {
      "cell_type": "code",
      "source": [
        "resultado = 2 * 6  # resultado é 12"
      ],
      "metadata": {
        "id": "PGY4E1SXSkhV"
      },
      "execution_count": null,
      "outputs": []
    },
    {
      "cell_type": "markdown",
      "source": [
        "- **`/` (Divisão):** Divide um valor pelo outro (resulta em um número de ponto flutuante)."
      ],
      "metadata": {
        "id": "bYf7PF1xSnTM"
      }
    },
    {
      "cell_type": "code",
      "source": [
        "resultado = 8 / 2  # resultado é 4.0"
      ],
      "metadata": {
        "id": "zTZMQIGUSsWx"
      },
      "execution_count": null,
      "outputs": []
    },
    {
      "cell_type": "markdown",
      "source": [
        "- **`//` (Divisão Inteira):** Divide um valor pelo outro, resultando em um número inteiro (descarta a parte decimal)."
      ],
      "metadata": {
        "id": "hFK8tnnSSvF8"
      }
    },
    {
      "cell_type": "code",
      "source": [
        "resultado = 8 // 3  # resultado é 2"
      ],
      "metadata": {
        "id": "gOHBYE7RSzkG"
      },
      "execution_count": null,
      "outputs": []
    },
    {
      "cell_type": "markdown",
      "source": [
        "- **`%` (Módulo):** Retorna o resto da divisão."
      ],
      "metadata": {
        "id": "U7wSGd6zS2of"
      }
    },
    {
      "cell_type": "code",
      "source": [
        "resultado = 10 % 3  # resultado é 1 (porque 10 dividido por 3 é 3 com um resto de 1)"
      ],
      "metadata": {
        "id": "xZ09U7LYS7LR"
      },
      "execution_count": null,
      "outputs": []
    },
    {
      "cell_type": "markdown",
      "source": [
        "- ** `**` (Exponenciação):** Calcula um número elevado a uma potência."
      ],
      "metadata": {
        "id": "r4TFWTZuS6bL"
      }
    },
    {
      "cell_type": "code",
      "source": [
        "resultado = 2 ** 3  # resultado é 8 (porque 2 elevado à 3ª potência é 8)"
      ],
      "metadata": {
        "id": "sZIojNAxTB02"
      },
      "execution_count": null,
      "outputs": []
    },
    {
      "cell_type": "markdown",
      "source": [
        "### **2. Operadores de Comparação:**"
      ],
      "metadata": {
        "id": "hmzkZ7orTEJH"
      }
    },
    {
      "cell_type": "markdown",
      "source": [
        "Os operadores de comparação são usados para comparar dois valores."
      ],
      "metadata": {
        "id": "FNPAo8dfTG5U"
      }
    },
    {
      "cell_type": "markdown",
      "source": [
        "- **`==` (Igual a):** Verifica se dois valores são iguais."
      ],
      "metadata": {
        "id": "723ELHz-TJPU"
      }
    },
    {
      "cell_type": "code",
      "source": [
        "resultado = (5 == 5)  # resultado é True"
      ],
      "metadata": {
        "id": "lTQ4szP0TNgT"
      },
      "execution_count": null,
      "outputs": []
    },
    {
      "cell_type": "markdown",
      "source": [
        "- **`!=` (Diferente de):** Verifica se dois valores são diferentes."
      ],
      "metadata": {
        "id": "ux2jgB7YTYAc"
      }
    },
    {
      "cell_type": "code",
      "source": [
        "resultado = (5 != 2)  # resultado é True"
      ],
      "metadata": {
        "id": "JLPf-kikTeua"
      },
      "execution_count": null,
      "outputs": []
    },
    {
      "cell_type": "markdown",
      "source": [
        "- **`>` (Maior que):** Verifica se um valor é maior que outro."
      ],
      "metadata": {
        "id": "hjSrDueQTgai"
      }
    },
    {
      "cell_type": "code",
      "source": [
        "resultado = (7 > 3)  # resultado é True"
      ],
      "metadata": {
        "id": "j_ZO90whTqrB"
      },
      "execution_count": null,
      "outputs": []
    },
    {
      "cell_type": "markdown",
      "source": [
        "- **`<` (Menor que):** Verifica se um valor é menor que outro."
      ],
      "metadata": {
        "id": "knrOcYq4TuSs"
      }
    },
    {
      "cell_type": "code",
      "source": [
        "resultado = (4 < 9)  # resultado é True"
      ],
      "metadata": {
        "id": "D_kw9t65Tz47"
      },
      "execution_count": null,
      "outputs": []
    },
    {
      "cell_type": "markdown",
      "source": [
        "- **`>=` (Maior ou igual a):** Verifica se um valor é maior ou igual a outro."
      ],
      "metadata": {
        "id": "QaKo9Kp9T4iq"
      }
    },
    {
      "cell_type": "code",
      "source": [
        "resultado = (6 >= 6)  # resultado é True"
      ],
      "metadata": {
        "id": "S-9aq2kUT-of"
      },
      "execution_count": null,
      "outputs": []
    },
    {
      "cell_type": "markdown",
      "source": [
        "- **`<=` (Menor ou igual a):** Verifica se um valor é menor ou igual a outro."
      ],
      "metadata": {
        "id": "tJdCzhRaUAUE"
      }
    },
    {
      "cell_type": "code",
      "source": [
        "resultado = (3 <= 5)  # resultado é True"
      ],
      "metadata": {
        "id": "hehCMONGUDYS"
      },
      "execution_count": null,
      "outputs": []
    },
    {
      "cell_type": "markdown",
      "source": [
        "### **3. Operadores Lógicos:**"
      ],
      "metadata": {
        "id": "-1r19ruuUG57"
      }
    },
    {
      "cell_type": "markdown",
      "source": [
        "Os operadores lógicos são usados para combinar expressões condicionais."
      ],
      "metadata": {
        "id": "GcBCun-DUJZK"
      }
    },
    {
      "cell_type": "markdown",
      "source": [
        "- **`and` (E lógico):** Retorna True se ambas as condições forem verdadeiras."
      ],
      "metadata": {
        "id": "PAXtkHn4UNDZ"
      }
    },
    {
      "cell_type": "code",
      "source": [
        "resultado = (True and False)  # resultado é False"
      ],
      "metadata": {
        "id": "5bLLpUw2UQHM"
      },
      "execution_count": null,
      "outputs": []
    },
    {
      "cell_type": "markdown",
      "source": [
        "- **`or` (OU lógico):** Retorna True se pelo menos uma das condições for verdadeira."
      ],
      "metadata": {
        "id": "UyF9r9FkUSkH"
      }
    },
    {
      "cell_type": "code",
      "source": [
        "resultado = (True or False)  # resultado é True"
      ],
      "metadata": {
        "id": "TjtT5B6ZUVcu"
      },
      "execution_count": null,
      "outputs": []
    },
    {
      "cell_type": "markdown",
      "source": [
        "- **`not` (NÃO lógico):** Inverte o valor de uma expressão."
      ],
      "metadata": {
        "id": "k8zppQhyUaY7"
      }
    },
    {
      "cell_type": "code",
      "source": [
        "resultado = not True  # resultado é False"
      ],
      "metadata": {
        "id": "R46Tg7aFUgGN"
      },
      "execution_count": null,
      "outputs": []
    },
    {
      "cell_type": "markdown",
      "source": [
        "Esses operadores são fundamentais para criar lógica e tomar decisões em programas Python. Eles permitem que você realize cálculos, compare valores e crie condições para controlar o fluxo do seu código."
      ],
      "metadata": {
        "id": "nqBVKccVUieD"
      }
    },
    {
      "cell_type": "markdown",
      "source": [
        "## **Saída de Dados em Python usando `print()`:**"
      ],
      "metadata": {
        "id": "Xqmvr3IjcWNe"
      }
    },
    {
      "cell_type": "markdown",
      "source": [
        "Em Python, a função `print()` é usada para mostrar informações na tela do computador. É como quando você escreve algo em um papel para mostrar a outras pessoas."
      ],
      "metadata": {
        "id": "ct3-3bQZcgxy"
      }
    },
    {
      "cell_type": "markdown",
      "source": [
        "### **Como Usar `print()`:**"
      ],
      "metadata": {
        "id": "pGP-BJzgc4oT"
      }
    },
    {
      "cell_type": "markdown",
      "source": [
        "Para usar `print()`, você escreve a palavra `print`, seguida por parênteses `( )`. Dentro desses parênteses, você coloca o que deseja mostrar. Por exemplo:"
      ],
      "metadata": {
        "id": "jB-ZOBOAc70R"
      }
    },
    {
      "cell_type": "code",
      "source": [
        "print(\"Olá, mundo!\")"
      ],
      "metadata": {
        "id": "Yu0V3p1bdFXL"
      },
      "execution_count": null,
      "outputs": []
    },
    {
      "cell_type": "markdown",
      "source": [
        "Neste caso, `print()` está mostrando a frase \"Olá, mundo!\" na tela.\n",
        "\n",
        "Você também pode imprimir múltiplas coisas na mesma linha, separando-as por vírgulas:"
      ],
      "metadata": {
        "id": "MHR2bcaRdHb1"
      }
    },
    {
      "cell_type": "code",
      "source": [
        "nome = \"Alice\"\n",
        "idade = 15\n",
        "print(\"Olá, meu nome é\", nome, \"e eu tenho\", idade, \"anos.\")"
      ],
      "metadata": {
        "id": "6K09NMaTdN4o"
      },
      "execution_count": null,
      "outputs": []
    },
    {
      "cell_type": "markdown",
      "source": [
        "Nesse exemplo, `print()` está mostrando uma mensagem que inclui o valor da variável `nome` e `idade`."
      ],
      "metadata": {
        "id": "SGh0127MdPFh"
      }
    },
    {
      "cell_type": "markdown",
      "source": [
        "### **Usando Variáveis com `print()`:**"
      ],
      "metadata": {
        "id": "XHXmX8ZfdRp2"
      }
    },
    {
      "cell_type": "markdown",
      "source": [
        "Você pode imprimir o valor de uma variável usando `print()`. Por exemplo:"
      ],
      "metadata": {
        "id": "2jvtTE2IdUi-"
      }
    },
    {
      "cell_type": "code",
      "source": [
        "numero = 42\n",
        "print(numero)"
      ],
      "metadata": {
        "id": "1QgBiafWdXwu"
      },
      "execution_count": null,
      "outputs": []
    },
    {
      "cell_type": "markdown",
      "source": [
        "Neste caso, `print()` mostra o valor da variável `numero`, que é 42."
      ],
      "metadata": {
        "id": "pWSBCfHTdZHG"
      }
    },
    {
      "cell_type": "markdown",
      "source": [
        "### **Quebras de Linha com `print()`:**"
      ],
      "metadata": {
        "id": "om5xXOqjdbV1"
      }
    },
    {
      "cell_type": "markdown",
      "source": [
        "Você também pode usar `\\n` para criar uma nova linha, como um \"pular linha\". Por exemplo:"
      ],
      "metadata": {
        "id": "qxGxCWYrdc_4"
      }
    },
    {
      "cell_type": "code",
      "source": [
        "print(\"Primeira linha.\\nSegunda linha.\")"
      ],
      "metadata": {
        "id": "LxK9aFabdfnR"
      },
      "execution_count": null,
      "outputs": []
    },
    {
      "cell_type": "markdown",
      "source": [
        "Neste caso, `print()` mostra \"Primeira linha.\" em uma linha e \"Segunda linha.\" em uma nova linha abaixo.\n",
        "\n",
        "Essa é a maneira básica de usar a função `print()` para mostrar informações na tela em Python. É uma maneira importante de ver os resultados do seu código!"
      ],
      "metadata": {
        "id": "uPGiHIzidgnW"
      }
    },
    {
      "cell_type": "markdown",
      "source": [
        "## **Entrada de Dados em Python usando `input()`:**"
      ],
      "metadata": {
        "id": "jViWZKeaemw4"
      }
    },
    {
      "cell_type": "markdown",
      "source": [
        "A entrada de dados é uma parte crucial da programação. Às vezes, queremos que o usuário forneça informações para o nosso programa, como um nome ou uma idade. Em Python, usamos a função `input()` para receber dados do usuário."
      ],
      "metadata": {
        "id": "9IxzNoepexIW"
      }
    },
    {
      "cell_type": "markdown",
      "source": [
        "### **Como Usar `input()`:**"
      ],
      "metadata": {
        "id": "S_bZ1Ad3ezuo"
      }
    },
    {
      "cell_type": "markdown",
      "source": [
        "Quando você usa `input()`, o programa para e espera que o usuário digite alguma coisa. Por exemplo:"
      ],
      "metadata": {
        "id": "DRhb21XXe1ac"
      }
    },
    {
      "cell_type": "code",
      "source": [
        "nome = input(\"Digite seu nome: \")\n",
        "print(\"Olá\", nome + \", como vai?\")"
      ],
      "metadata": {
        "colab": {
          "base_uri": "https://localhost:8080/"
        },
        "id": "dGdwrg4be4-D",
        "outputId": "dec42a5c-8fa6-4dda-acd2-194f45337a20"
      },
      "execution_count": null,
      "outputs": [
        {
          "output_type": "stream",
          "name": "stdout",
          "text": [
            "Digite seu nome: Matheus\n",
            "Olá Matheus, como vai?\n"
          ]
        }
      ]
    },
    {
      "cell_type": "markdown",
      "source": [
        "Neste exemplo, o programa mostrará \"Digite seu nome: \" na tela. O usuário então digita seu nome e pressiona Enter. O que foi digitado é armazenado na variável `nome`.\n",
        "\n",
        "Você pode usar a entrada fornecida pelo `input()` da mesma forma que usa qualquer outra variável. Por exemplo:"
      ],
      "metadata": {
        "id": "YhloaHvpe54C"
      }
    },
    {
      "cell_type": "code",
      "source": [
        "idade = input(\"Digite sua idade: \")\n",
        "print(\"Você tem\", idade, \"anos.\")"
      ],
      "metadata": {
        "colab": {
          "base_uri": "https://localhost:8080/"
        },
        "id": "bBVXTrVce-N6",
        "outputId": "446cd01f-f444-4b80-c320-6c6115ebaf07"
      },
      "execution_count": null,
      "outputs": [
        {
          "output_type": "stream",
          "name": "stdout",
          "text": [
            "Digite sua idade: 23\n",
            "Você tem 23 anos.\n"
          ]
        }
      ]
    },
    {
      "cell_type": "markdown",
      "source": [
        "Nesse caso, o programa pedirá que o usuário digite sua idade. O que for digitado será armazenado na variável `idade` e depois será impresso na tela."
      ],
      "metadata": {
        "id": "eYPbT0v2e-2q"
      }
    },
    {
      "cell_type": "markdown",
      "source": [
        "**Importante:** É importante notar que a função `input()` sempre retorna uma string (sequência de caracteres), mesmo que o usuário digite números. Se você precisar usar a entrada como um número inteiro ou um número de ponto flutuante, você precisará convertê-la usando `int()` ou `float()`. Por exemplo:"
      ],
      "metadata": {
        "id": "z6mVtvHqfDAo"
      }
    },
    {
      "cell_type": "code",
      "source": [
        "idade_str = input(\"Digite sua idade: \")\n",
        "print(type(idade_str))\n",
        "idade = int(idade_str)  # Converte a string para um número inteiro\n",
        "print(type(idade))"
      ],
      "metadata": {
        "colab": {
          "base_uri": "https://localhost:8080/"
        },
        "id": "i-ZW4gZ8fF58",
        "outputId": "5f8f5223-b4f4-4a85-da01-796bf90821b7"
      },
      "execution_count": null,
      "outputs": [
        {
          "output_type": "stream",
          "name": "stdout",
          "text": [
            "Digite sua idade: 23\n",
            "<class 'str'>\n",
            "<class 'int'>\n"
          ]
        }
      ]
    },
    {
      "cell_type": "markdown",
      "source": [
        "Assim, você pode receber informações do usuário e usá-las em seu programa, permitindo uma interação dinâmica e personalizada com os usuários."
      ],
      "metadata": {
        "id": "WS-_f8pefGmZ"
      }
    },
    {
      "cell_type": "markdown",
      "source": [
        "## **Exercícios**"
      ],
      "metadata": {
        "id": "Ouvbvd7FfyAW"
      }
    },
    {
      "cell_type": "markdown",
      "source": [
        "### **Exercícios de Variáveis:**"
      ],
      "metadata": {
        "id": "yu8Y2Szbg0Ur"
      }
    },
    {
      "cell_type": "markdown",
      "source": [
        "1.   Declare uma variável chamada `idade` e atribua seu próprio número de idade a ela. Em seguida, imprima a mensagem: \"Você tem X anos.\" substituindo X pelo valor de `idade`."
      ],
      "metadata": {
        "id": "cTopyzTCg42S"
      }
    },
    {
      "cell_type": "code",
      "source": [
        "idade = 14\n",
        "print(\"Você tem\", idade, \"anos.\")"
      ],
      "metadata": {
        "id": "dn1-FFj4g9xu"
      },
      "execution_count": null,
      "outputs": []
    },
    {
      "cell_type": "markdown",
      "source": [
        "2.   Declare duas variáveis `numero1` e `numero2` com valores inteiros. Calcule a soma desses números e imprima o resultado."
      ],
      "metadata": {
        "id": "9rqSsnxZhaVD"
      }
    },
    {
      "cell_type": "code",
      "source": [
        "numero1 = 5\n",
        "numero2 = 9\n",
        "resultado = numero1 + numero2\n",
        "print(resultado)"
      ],
      "metadata": {
        "id": "z1-YY6-khnng"
      },
      "execution_count": null,
      "outputs": []
    },
    {
      "cell_type": "markdown",
      "source": [
        "3.   Declare uma variável chamada `nome` e atribua seu nome a ela. Imprima uma mensagem de boas-vindas, incluindo o nome: \"Bem-vindo(a), Nome!\"."
      ],
      "metadata": {
        "id": "ndeeAp0NhoIW"
      }
    },
    {
      "cell_type": "code",
      "source": [
        "nome = \"Gustavo\"\n",
        "print(\"Bem-vindo(a),\", nome+\"!\")"
      ],
      "metadata": {
        "id": "ESHw9rpihp_H"
      },
      "execution_count": null,
      "outputs": []
    },
    {
      "cell_type": "markdown",
      "source": [
        "4.   Declare uma variável com o seu filme favorito e outra com o ano de lançamento. Imprima a mensagem: \"Meu filme favorito é 'NomeDoFilme', lançado em AnoDeLançamento.\""
      ],
      "metadata": {
        "id": "uYh9KSrthqsR"
      }
    },
    {
      "cell_type": "code",
      "source": [
        "filme = 'o caos perfeito'\n",
        "data = 2021\n",
        "print(\"Meu filme favorito é '\" + filme + \"' lançado em\",data )"
      ],
      "metadata": {
        "id": "og2NqW38htF4"
      },
      "execution_count": null,
      "outputs": []
    },
    {
      "cell_type": "markdown",
      "source": [
        "### **Exercícios de Operadores:**"
      ],
      "metadata": {
        "id": "zwZhoyWYhtgI"
      }
    },
    {
      "cell_type": "markdown",
      "source": [
        "1.   Solicite ao usuário que digite dois números inteiros. Multiplique esses números e imprima o resultado."
      ],
      "metadata": {
        "id": "ObHKa6BEhxX9"
      }
    },
    {
      "cell_type": "code",
      "source": [
        " numero1  = int(input('Insira um numero:'))\n",
        " numero2  = int(input('Insira outro numero:'))\n",
        "\n",
        " print(numero1 * numero2)"
      ],
      "metadata": {
        "id": "Q4NcxVtuhz0v",
        "colab": {
          "base_uri": "https://localhost:8080/"
        },
        "outputId": "6c759ba1-c4f5-4590-9cb1-608cdeae43f5"
      },
      "execution_count": null,
      "outputs": [
        {
          "output_type": "stream",
          "name": "stdout",
          "text": [
            "Insira um numero:10\n",
            "Insira outro numero:10\n",
            "100\n"
          ]
        }
      ]
    },
    {
      "cell_type": "markdown",
      "source": [
        "2.   Peça ao usuário para inserir um número. Imprima se o número é par ou ímpar."
      ],
      "metadata": {
        "id": "0GXFsuFwh0VV"
      }
    },
    {
      "cell_type": "markdown",
      "source": [
        "3.   Peça ao usuário para inserir sua idade. Imprima se a pessoa é menor de idade (menos de 18 anos) ou maior de idade."
      ],
      "metadata": {
        "id": "GrZKS360h2vp"
      }
    },
    {
      "cell_type": "code",
      "source": [
        "idade = int(input(\"Insira sua idade: \"))\n",
        "\n",
        "if idade > 18:\n",
        "  print(\"Voce é maior de idade\")\n",
        "\n",
        "else:\n",
        "  print(\"Voce é menor de idade\")"
      ],
      "metadata": {
        "id": "e1HxoBpxh3--",
        "colab": {
          "base_uri": "https://localhost:8080/"
        },
        "outputId": "c2a73f33-fca7-4970-8d70-5ccd73912c64"
      },
      "execution_count": null,
      "outputs": [
        {
          "output_type": "stream",
          "name": "stdout",
          "text": [
            "Insira sua idade: 10\n",
            "Voce é menor de idade\n"
          ]
        }
      ]
    },
    {
      "cell_type": "markdown",
      "source": [
        "### **Exercícios de Saída de Dados e Entrada de Dados:**"
      ],
      "metadata": {
        "id": "uTw_6wZnh4jF"
      }
    },
    {
      "cell_type": "markdown",
      "source": [
        "1.   Solicite ao usuário que insira seu nome. Em seguida, imprima uma saudação personalizada, como: \"Olá, Nome!\"."
      ],
      "metadata": {
        "id": "ysuxOzbYh9eP"
      }
    },
    {
      "cell_type": "code",
      "source": [
        "nome = input(\"insira seu nome: \")\n",
        "\n",
        "print(\"Ola,\", nome)"
      ],
      "metadata": {
        "id": "t7auPp5Eh-ug",
        "colab": {
          "base_uri": "https://localhost:8080/"
        },
        "outputId": "2b8daa04-4239-4d1f-9839-5ed21c437f4c"
      },
      "execution_count": null,
      "outputs": [
        {
          "output_type": "stream",
          "name": "stdout",
          "text": [
            "insira seu nome: gu\n",
            "Ola, gu\n"
          ]
        }
      ]
    },
    {
      "cell_type": "markdown",
      "source": [
        "2.   Pergunte ao usuário qual é sua cor favorita e armazene a resposta em uma variável. Em seguida, imprima: \"Sua cor favorita é CorFavorita!\"."
      ],
      "metadata": {
        "id": "9yQgrd27iCVN"
      }
    },
    {
      "cell_type": "code",
      "source": [
        "cor = input(\"Insira sua cor favorita: \")\n",
        "\n",
        "print(\"Sua cor favorita é\", cor)"
      ],
      "metadata": {
        "id": "We1rOXTaiD0F",
        "colab": {
          "base_uri": "https://localhost:8080/"
        },
        "outputId": "83f5f08c-0660-406c-dcab-29e9b139e3d6"
      },
      "execution_count": null,
      "outputs": [
        {
          "output_type": "stream",
          "name": "stdout",
          "text": [
            "Insira sua cor favorita: preto\n",
            "Sua cor favorita é preto\n"
          ]
        }
      ]
    },
    {
      "cell_type": "markdown",
      "source": [
        "3.   Peça ao usuário para inserir um número. Multiplique esse número por 2 e imprima o resultado."
      ],
      "metadata": {
        "id": "Fskox-E8iEQX"
      }
    },
    {
      "cell_type": "code",
      "source": [
        "numero = int(input(\"Insira um numero: \"))\n",
        "mult = numero * 2\n",
        "\n",
        "print(mult)"
      ],
      "metadata": {
        "id": "GUE4lrbWiGM3",
        "colab": {
          "base_uri": "https://localhost:8080/"
        },
        "outputId": "a2ff75f7-d72b-45f9-ef19-86de8e1e5094"
      },
      "execution_count": null,
      "outputs": [
        {
          "output_type": "stream",
          "name": "stdout",
          "text": [
            "Insira um numero: 10\n",
            "20\n"
          ]
        }
      ]
    },
    {
      "cell_type": "markdown",
      "source": [
        "4.   Peça ao usuário para inserir seu nome e idade. Imprima uma mensagem dizendo em quantos anos ele terá 100 anos."
      ],
      "metadata": {
        "id": "NIRDGaEOiHEU"
      }
    },
    {
      "cell_type": "code",
      "source": [
        "nome = input(\"Insira seu nome: \")\n",
        "idade = int(input(\"Insira sua idade: \"))\n",
        "\n",
        "conta = 100 - idade\n",
        "\n",
        "print(\"Voce tera 100 anos daqui\",conta)"
      ],
      "metadata": {
        "id": "YLtiM-0ciILn",
        "colab": {
          "base_uri": "https://localhost:8080/"
        },
        "outputId": "50d3a31f-8dc3-4ff1-e3b0-75ed0302500c"
      },
      "execution_count": null,
      "outputs": [
        {
          "output_type": "stream",
          "name": "stdout",
          "text": [
            "Insira seu nome: gu\n",
            "Insira sua idade: 10\n",
            "Voce tera 100 anos daqui 90\n"
          ]
        }
      ]
    },
    {
      "cell_type": "markdown",
      "source": [
        "5.   Peça ao usuário dois números e imprima a média deles."
      ],
      "metadata": {
        "id": "6ECGZ4noiIoz"
      }
    },
    {
      "cell_type": "code",
      "source": [
        "numero =  int(input(\"insira um numero: \"))\n",
        "numero2 =  int(input(\"insira outro numero: \"))\n",
        "\n",
        "conta = numero + numero2\n",
        "\n",
        "print(conta//2)"
      ],
      "metadata": {
        "id": "fWCkignOiJ-u",
        "colab": {
          "base_uri": "https://localhost:8080/"
        },
        "outputId": "07982f65-28fd-4d34-bf80-e3b83160862e"
      },
      "execution_count": null,
      "outputs": [
        {
          "output_type": "stream",
          "name": "stdout",
          "text": [
            "insira um numero: 10\n",
            "insira outro numero: 10\n",
            "10\n"
          ]
        }
      ]
    },
    {
      "cell_type": "markdown",
      "source": [
        "### **Exercícios Combinados:**"
      ],
      "metadata": {
        "id": "d8QoUzwLiKQ4"
      }
    },
    {
      "cell_type": "markdown",
      "source": [
        "1.   Crie uma calculadora simples. Peça ao usuário para inserir dois números e uma operação (+, -, *, /). Realize a operação e imprima o resultado."
      ],
      "metadata": {
        "id": "BLbxQKfciMEa"
      }
    },
    {
      "cell_type": "code",
      "source": [
        "numero1 = int(input(\"Insira um numero: \"))\n",
        "numero2 = int(input(\"Insira outro numero: \"))\n",
        "operação = input(\" Insira uma operação (+, -, *, /)  \")\n",
        "\n",
        "if operação == '+':\n",
        "  print(numero1 + numero2)\n",
        "\n",
        "elif operação == '-':\n",
        "  print(numero1 - numero2)\n",
        "\n",
        "elif operação == '*':\n",
        "  print(numero1 * numero2)\n",
        "\n",
        "elif operação == '/':\n",
        "  print(numero1 / numero2)\n",
        "\n",
        "else:\n",
        "  prirnt(\"Operação não validada \")"
      ],
      "metadata": {
        "id": "EHArdVIdiSg4",
        "colab": {
          "base_uri": "https://localhost:8080/"
        },
        "outputId": "ede1357f-3a83-4ac4-b962-12b4ba6ad716"
      },
      "execution_count": null,
      "outputs": [
        {
          "output_type": "stream",
          "name": "stdout",
          "text": [
            "Insira um numero: 10\n",
            "Insira outro numero: 2\n",
            " Insira uma operação (+, -, *, /)  /\n",
            "5.0\n"
          ]
        }
      ]
    },
    {
      "cell_type": "markdown",
      "source": [
        "2.   Peça ao usuário para inserir seu nome, idade e cor favorita. Em seguida, imprima uma mensagem completa usando essas informações."
      ],
      "metadata": {
        "id": "e5sw-5PziTAM"
      }
    },
    {
      "cell_type": "code",
      "source": [
        "nome = input(\"Insira seu nome: \")\n",
        "cor = input(\"Insira sua cor favorita: \")\n",
        "idade = int(input(\"insira ua idade:\"))\n",
        "\n",
        "print('Seu nome é',nome,'sua cor favorita é', cor,'e vc tem', idade,' anos de idade')"
      ],
      "metadata": {
        "id": "eyQObAWniUUQ",
        "colab": {
          "base_uri": "https://localhost:8080/"
        },
        "outputId": "724e7fe4-0c63-4aff-9650-7080aba54cea"
      },
      "execution_count": null,
      "outputs": [
        {
          "output_type": "stream",
          "name": "stdout",
          "text": [
            "Insira seu nome: gu\n",
            "Insira sua cor favorita: cor\n",
            "insira ua idade:10\n",
            "Seu nome é gu ,sua cor favorita é cor e vc tem 10  anos de idade\n"
          ]
        }
      ]
    },
    {
      "cell_type": "markdown",
      "source": [
        "3.   Peça ao usuário para inserir dois números inteiros. Divida o primeiro número pelo segundo e imprima tanto o resultado quanto o resto da divisão."
      ],
      "metadata": {
        "id": "QoKi2KQhiUje"
      }
    },
    {
      "cell_type": "code",
      "source": [
        "numero1 = int(input(\"Insria um numero \"))\n",
        "numero2 = int(input(\"Insria outro numero \"))\n",
        "\n",
        "conta = numero1 // numero2\n",
        "resto = numero1 % numero2\n",
        "\n",
        "print(\" Resultado: \", conta)\n",
        "print(' Resto: ', resto)"
      ],
      "metadata": {
        "id": "xMgRhySGiWEP",
        "colab": {
          "base_uri": "https://localhost:8080/"
        },
        "outputId": "c93a1b06-cb6f-4e10-9607-fe8d6c136e6a"
      },
      "execution_count": null,
      "outputs": [
        {
          "output_type": "stream",
          "name": "stdout",
          "text": [
            "Insria um numero 10\n",
            "Insria outro numero 2\n",
            " Resultado:  5\n",
            "Resto:  0\n"
          ]
        }
      ]
    },
    {
      "cell_type": "markdown",
      "source": [
        "4.   Crie um programa que calcule a área de um retângulo. Peça ao usuário para inserir a largura e a altura e imprima a área."
      ],
      "metadata": {
        "id": "hNiHjXdciWUk"
      }
    },
    {
      "cell_type": "code",
      "source": [
        "altura = int(input(\"Insira a altura desse retangulo: \"))\n",
        "largura = int(input(\"Insira a largura desse retangulo\"))\n",
        "\n",
        "print(\"Area = \",altura*largura / 2)"
      ],
      "metadata": {
        "id": "XfRn3O3viXjv"
      },
      "execution_count": null,
      "outputs": []
    },
    {
      "cell_type": "markdown",
      "source": [
        "5.   Peça ao usuário para inserir três números. Calcule a média desses números e imprima o resultado com duas casas decimais."
      ],
      "metadata": {
        "id": "gEeswo62iXxe"
      }
    },
    {
      "cell_type": "code",
      "source": [
        "numero1 = int(input(\"insira um numero\" ))\n",
        "numero2 = int(input(\"insira um numero\" ))\n",
        "numero3 = int(input(\"insira um numero\" ))\n",
        "\n",
        "soma = (numero1 + numero2 + numero3)\n",
        "print( soma / 3)\n"
      ],
      "metadata": {
        "id": "zPdJaN2YiZVI"
      },
      "execution_count": null,
      "outputs": []
    },
    {
      "cell_type": "markdown",
      "source": [
        "### **Exercícios Desafiadores:**"
      ],
      "metadata": {
        "id": "9wZLcMINiZnS"
      }
    },
    {
      "cell_type": "markdown",
      "source": [
        "1.   Peça ao usuário para inserir uma temperatura em Celsius. Converta para Fahrenheit usando a fórmula: `F = (C × 9/5) + 32` e imprima o resultado."
      ],
      "metadata": {
        "id": "e5uZVPaWib6Q"
      }
    },
    {
      "cell_type": "code",
      "source": [
        "temp = int(input(\"Insira uma temperatura em celsius \"))\n",
        "\n",
        "conta = (temp * 1.8 + 32)\n",
        "\n",
        "print(conta)"
      ],
      "metadata": {
        "id": "m2tY0f1Mii2H",
        "colab": {
          "base_uri": "https://localhost:8080/"
        },
        "outputId": "77aa9bcc-8dbc-46dd-8c55-30bd96cb03ef"
      },
      "execution_count": null,
      "outputs": [
        {
          "output_type": "stream",
          "name": "stdout",
          "text": [
            "Insira uma temperatura em celsius 10\n",
            "50.0\n"
          ]
        }
      ]
    },
    {
      "cell_type": "markdown",
      "source": [
        "2.   Crie um programa que peça ao usuário para inserir um número e imprima se é positivo, negativo ou zero."
      ],
      "metadata": {
        "id": "bkTtxJOsij0P"
      }
    },
    {
      "cell_type": "code",
      "source": [
        "numero = int(input(\"Insira um numero \"))\n",
        "\n",
        "if numero > 0:\n",
        "  print(\"Esse numero é positivo\")\n",
        "\n",
        "elif numeoro < 0:\n",
        "  print(\"Esse numero é negativo \")\n",
        "\n",
        "else:\n",
        "  print(\"Esse numero é igual a zero\")\n",
        "\n"
      ],
      "metadata": {
        "id": "8TaK5DQ5ilBh",
        "colab": {
          "base_uri": "https://localhost:8080/"
        },
        "outputId": "87439e97-c2a3-4d0d-c187-96f574a11575"
      },
      "execution_count": null,
      "outputs": [
        {
          "output_type": "stream",
          "name": "stdout",
          "text": [
            "Insira um numero 10\n",
            "Esse numero é positivo\n"
          ]
        }
      ]
    },
    {
      "cell_type": "markdown",
      "source": [
        "3.   Peça ao usuário para inserir um número de 1 a 7. Imprima o dia da semana correspondente (1 = domingo, 2 = segunda-feira, etc.)."
      ],
      "metadata": {
        "id": "POyZdZCHilTV"
      }
    },
    {
      "cell_type": "code",
      "source": [
        "dia = int(input(\"Insira um numero de 1 a 7: \"))\n",
        "\n",
        "if dia == 1:\n",
        "  print(\"domingo\")\n",
        "\n",
        "elif dia ==2:\n",
        "  print(\"segunda\")\n",
        "\n",
        "elif dia == 3:\n",
        "  print(\"terça\")\n",
        "\n",
        "elif dia == 4:\n",
        "  print(\"quarta\")\n",
        "\n",
        "elif dia == 6:\n",
        "  print(\"sexta\")\n",
        "\n",
        "elif dia == 7:\n",
        "  print(\"sabado\")\n",
        "\n",
        "else:\n",
        "  print(\"numero invalido\")\n"
      ],
      "metadata": {
        "id": "oVfTRT1FimXf"
      },
      "execution_count": null,
      "outputs": []
    },
    {
      "cell_type": "markdown",
      "source": [
        "4.   Peça ao usuário para inserir um número inteiro grande. Em seguida, divida esse número por 2 repetidamente até que o resultado seja menor que 1. Imprima quantas vezes foi possível dividir."
      ],
      "metadata": {
        "id": "ZP2fJX7Zimjo"
      }
    },
    {
      "cell_type": "code",
      "source": [
        "numero = int(input(\"Insira um numero grande: \"))\n",
        "\n",
        "sla = 0\n",
        "\n",
        "while numero >= 1:\n",
        "  numero /= 2\n",
        "  sla += 1\n",
        "\n",
        "print(f\"foi necessario dividir {sla} vezes \")\n",
        "\n"
      ],
      "metadata": {
        "id": "CG8U5oHNiof4",
        "colab": {
          "base_uri": "https://localhost:8080/"
        },
        "outputId": "62a87581-6b62-47ad-89a3-bad398af72e0"
      },
      "execution_count": null,
      "outputs": [
        {
          "output_type": "stream",
          "name": "stdout",
          "text": [
            "Insira um numero grande: 100\n",
            "foi necessario dividir 7 vezes \n"
          ]
        }
      ]
    },
    {
      "cell_type": "markdown",
      "source": [
        "5.   Peça ao usuário para inserir um número inteiro. Verifique se é divisível por 2 e por 3 e imprima uma mensagem correspondente."
      ],
      "metadata": {
        "id": "nPz9pTjeiouB"
      }
    },
    {
      "cell_type": "code",
      "source": [
        "numero = int(input(\"Insira um numero inteiro: \"))\n",
        "\n",
        "if numero % 2 == 0 and numero % 3 == 0:\n",
        "  print(\"seu numero é divisivel por 2 e por 3\" )\n",
        "\n",
        "else:\n",
        "  print(\"seu numero não é divsilvel por 2 e por 3 \")\n",
        "\n"
      ],
      "metadata": {
        "id": "96IoExgaipyn",
        "colab": {
          "base_uri": "https://localhost:8080/"
        },
        "outputId": "d73e3b66-b41a-4906-dc22-ca4d12521993"
      },
      "execution_count": null,
      "outputs": [
        {
          "output_type": "stream",
          "name": "stdout",
          "text": [
            "Insira um numero inteiro: 6\n",
            "seu numero é divisivel por 2 e por 3\n"
          ]
        }
      ]
    },
    {
      "cell_type": "markdown",
      "source": [
        "6.   Crie um programa que peça ao usuário para inserir um número. Se for positivo, imprima sua raiz quadrada. Se for negativo, imprima \"Número inválido\"."
      ],
      "metadata": {
        "id": "rOwExJOYip_0"
      }
    },
    {
      "cell_type": "code",
      "source": [
        "numero = int(input(\"insira um numero: \"))\n",
        "\n",
        "if numero > 0:\n",
        "    print(numero ** (1/2))\n",
        "\n",
        "else:\n",
        "    print(\"Numero invalido\")"
      ],
      "metadata": {
        "id": "aV7xkx6Dirhw",
        "outputId": "fa58254d-c646-446c-d1a0-ec447cb33175",
        "colab": {
          "base_uri": "https://localhost:8080/"
        }
      },
      "execution_count": null,
      "outputs": [
        {
          "output_type": "stream",
          "name": "stdout",
          "text": [
            "insira um numero: 25\n",
            "5.0\n"
          ]
        }
      ]
    },
    {
      "cell_type": "markdown",
      "source": [
        "7.   Peça ao usuário para inserir um número inteiro. Verifique se é um número primo (divisível apenas por 1 e por ele mesmo) e imprima uma mensagem correspondente."
      ],
      "metadata": {
        "id": "wg3qfDVLiruY"
      }
    },
    {
      "cell_type": "code",
      "source": [
        "numero  = int(input(\"Insira um numero interio: \"))\n",
        "\n",
        "if numero == 1:\n",
        "  print(\"Esse número não é primo\")\n",
        "elif numero == 2 or numero == 3:\n",
        "  print(\"Esse número é primo\")\n",
        "elif numero % 2 != 0 and numero % 3 != 0:\n",
        "  print(\"Esse número é primo\")\n",
        "else:\n",
        "  print(\"Esse número não é primo\")\n"
      ],
      "metadata": {
        "id": "qPoZoDFWjKk_"
      },
      "execution_count": null,
      "outputs": []
    },
    {
      "cell_type": "markdown",
      "source": [
        "8.   Peça ao usuário para inserir uma string. Verifique se é um palíndromo (lê-se da mesma forma de trás para frente) e imprima uma mensagem correspondente."
      ],
      "metadata": {
        "id": "qxLCUpQIjLEK"
      }
    },
    {
      "cell_type": "code",
      "source": [
        "palavra = input('Insira um palavra:')\n",
        "\n",
        "if palavra == palavra[::-1]:\n",
        "  print('Essa palavra é um palindromo')\n",
        "\n",
        "else:\n",
        "  print('Essa palvra não é um palindromo ')\n"
      ],
      "metadata": {
        "id": "pCUPMtBhjhMf",
        "outputId": "d43d6f2f-e3c0-4d18-c00a-6e576861fcc3",
        "colab": {
          "base_uri": "https://localhost:8080/"
        }
      },
      "execution_count": null,
      "outputs": [
        {
          "output_type": "stream",
          "name": "stdout",
          "text": [
            "Insira um palavra:gustavo\n",
            "Essa palvra não é um palindromo \n"
          ]
        }
      ]
    },
    {
      "cell_type": "markdown",
      "source": [
        "9.   Crie um programa que peça ao usuário para inserir uma frase. Conte quantas vogais (a, e, i, o, u) existem na frase e imprima o resultado."
      ],
      "metadata": {
        "id": "1kwJ5gfrjhts"
      }
    },
    {
      "cell_type": "code",
      "source": [
        "frase = input(\"Insira uma frase: \")\n",
        "\n",
        "vogais = (\"a,e,i,o,u\")\n",
        "\n",
        "contador = 0\n",
        "for char in frase:\n",
        "  if char in vogais:\n",
        "    contador += 1\n",
        "\n",
        "if contador > 0:\n",
        "  print(f\"Essa frase possui {contador} vogais.\")\n",
        "\n",
        "else:\n",
        "  print(\"essa frase não possui vogais!\")\n"
      ],
      "metadata": {
        "id": "21_4Cf-uji6f",
        "outputId": "a0e7a86c-4043-4880-fde2-b5a81283afa1",
        "colab": {
          "base_uri": "https://localhost:8080/"
        }
      },
      "execution_count": null,
      "outputs": [
        {
          "output_type": "stream",
          "name": "stdout",
          "text": [
            "Insira uma frase: teste\n",
            "Essa frase possui 2 vogais\n"
          ]
        }
      ]
    },
    {
      "cell_type": "markdown",
      "source": [
        "10.   Peça ao usuário para inserir uma frase e uma palavra. Verifique se a palavra está na frase e imprima uma mensagem correspondente."
      ],
      "metadata": {
        "id": "YeTtkRxwjjSl"
      }
    },
    {
      "cell_type": "code",
      "source": [
        "frase = input(\"Insira uma frase : \")\n",
        "\n",
        "palavra = input(\"Insira uma palavra: \")\n",
        "\n",
        "if palavra in frase:\n",
        "  print(\"A palavra esta na frase\")\n",
        "\n",
        "else:\n",
        "  print(\"A palavra não esta na frase\")\n",
        "\n"
      ],
      "metadata": {
        "id": "q_46Jx_QjkgQ",
        "outputId": "5210f013-b5fc-48aa-8e64-95b47f8236d6",
        "colab": {
          "base_uri": "https://localhost:8080/"
        }
      },
      "execution_count": null,
      "outputs": [
        {
          "output_type": "stream",
          "name": "stdout",
          "text": [
            "Insira uma frase : oi meu nome é gustavo\n",
            "Insira uma palavra: oi\n",
            "A palavra esta na frase\n"
          ]
        }
      ]
    },
    {
      "cell_type": "markdown",
      "source": [
        "11.   Peça ao usuário para inserir um número. Se for um número primo, imprima \"Primo\". Caso contrário, imprima \"Não primo\"."
      ],
      "metadata": {
        "id": "c3aJER06jk9w"
      }
    },
    {
      "cell_type": "code",
      "source": [
        "if numero == 1:\n",
        "  print(\"Esse número não é primo\")\n",
        "elif numero == 2 or numero == 3:\n",
        "  print(\"Esse número é primo\")\n",
        "elif numero % 2 != 0 and numero % 3 != 0:\n",
        "  print(\"Esse número é primo\")\n",
        "else:\n",
        "  print(\"Esse número não é primo\")"
      ],
      "metadata": {
        "id": "IEaL6GFFjmHq"
      },
      "execution_count": null,
      "outputs": []
    },
    {
      "cell_type": "markdown",
      "source": [
        "12.   Peça ao usuário para inserir uma sequência de números separados por vírgula. Converta essa sequência em uma lista de números inteiros e imprima a soma de todos os números na lista."
      ],
      "metadata": {
        "id": "CMexu1ZEjmaB"
      }
    },
    {
      "cell_type": "code",
      "source": [
        "sequencia = input('Insira uma seuqencia de numeros separados por virgula: ')\n",
        "\n"
      ],
      "metadata": {
        "id": "bzJcJo8djnv3"
      },
      "execution_count": null,
      "outputs": []
    },
    {
      "cell_type": "markdown",
      "source": [
        "13.   Peça ao usuário para inserir uma sequência de palavras separadas por espaço. Converta essa sequência em uma lista de palavras e imprima a palavra mais longa na lista."
      ],
      "metadata": {
        "id": "sK40wntLjn-z"
      }
    },
    {
      "cell_type": "code",
      "source": [],
      "metadata": {
        "id": "vVefnM1ujok5"
      },
      "execution_count": null,
      "outputs": []
    },
    {
      "cell_type": "markdown",
      "source": [
        "# **Python: Módulo 2 - Controle de Fluxo**"
      ],
      "metadata": {
        "id": "4vUUT5PKfVq0"
      }
    },
    {
      "cell_type": "markdown",
      "source": [
        "## **Controle de Fluxo: Tomando Decisões e Direcionando o Programa**"
      ],
      "metadata": {
        "id": "A4rSqeMNgzhw"
      }
    },
    {
      "cell_type": "markdown",
      "source": [
        "Em programação, o controle de fluxo se refere à maneira como as instruções em um programa são executadas com base em determinadas condições. Em outras palavras, é a capacidade de direcionar o fluxo de execução do programa, permitindo que ele faça decisões com base em diferentes circunstâncias.\n",
        "\n",
        "Existem duas estruturas principais de controle de fluxo: **estruturas condicionais** e **estruturas de repetição**."
      ],
      "metadata": {
        "id": "wn3YFQyWg7E7"
      }
    },
    {
      "cell_type": "markdown",
      "source": [
        "### **Estruturas Condicionais:**"
      ],
      "metadata": {
        "id": "FxWKCk1Sg9rY"
      }
    },
    {
      "cell_type": "markdown",
      "source": [
        "As estruturas condicionais permitem que você tome decisões em seu código. A mais comum é a estrutura `if-else`."
      ],
      "metadata": {
        "id": "Hy_yS1k4g_VL"
      }
    },
    {
      "cell_type": "markdown",
      "source": [
        "- **`if` (Se):** Permite que você execute um bloco de código se uma condição for verdadeira."
      ],
      "metadata": {
        "id": "e95stsn4hCEk"
      }
    },
    {
      "cell_type": "code",
      "source": [
        "idade = 18\n",
        "if idade >= 18:\n",
        "  print(\"Você é maior de idade.\")"
      ],
      "metadata": {
        "id": "hGrbCBWKhIFA"
      },
      "execution_count": null,
      "outputs": []
    },
    {
      "cell_type": "markdown",
      "source": [
        "- **`else` (Senão):** Pode ser combinado com `if` para executar um bloco de código se a condição do `if` for falsa."
      ],
      "metadata": {
        "id": "CSH2NNnAhMgv"
      }
    },
    {
      "cell_type": "code",
      "source": [
        "idade = 15\n",
        "if idade >= 18:\n",
        "  print(\"Você é maior de idade.\")\n",
        "else:\n",
        "  print(\"Você é menor de idade.\")"
      ],
      "metadata": {
        "id": "JvwG-AL4hR7y"
      },
      "execution_count": null,
      "outputs": []
    },
    {
      "cell_type": "markdown",
      "source": [
        "- **`elif` (Senão Se):** Permite adicionar várias condições intermediárias entre `if` e `else`."
      ],
      "metadata": {
        "id": "iP8nLF0OhQx2"
      }
    },
    {
      "cell_type": "code",
      "source": [
        "nota = 85\n",
        "if nota >= 90:\n",
        "  print(\"Você tirou A.\")\n",
        "elif nota >= 80:\n",
        "  print(\"Você tirou B.\")\n",
        "else:\n",
        "  print(\"Você tirou C ou menos.\")"
      ],
      "metadata": {
        "id": "sSSryRf7hZib"
      },
      "execution_count": null,
      "outputs": []
    },
    {
      "cell_type": "markdown",
      "source": [
        "### **Estruturas de Repetição:**"
      ],
      "metadata": {
        "id": "ueCRfaXJhcpi"
      }
    },
    {
      "cell_type": "markdown",
      "source": [
        "As estruturas de repetição permitem que você execute um bloco de código várias vezes. A mais comum é o loop `for` e o loop `while`."
      ],
      "metadata": {
        "id": "XnQAUg79heJ6"
      }
    },
    {
      "cell_type": "markdown",
      "source": [
        "- **`for` Loop:** Permite que você itere sobre uma sequência de itens (como uma lista ou uma string)."
      ],
      "metadata": {
        "id": "Tzf6Qmmlhg3s"
      }
    },
    {
      "cell_type": "code",
      "source": [
        "for i in range(5):\n",
        "  print(i)  # Isso imprimirá números de 0 a 4"
      ],
      "metadata": {
        "id": "Qk4CvKw_hjnC"
      },
      "execution_count": null,
      "outputs": []
    },
    {
      "cell_type": "markdown",
      "source": [
        "- **`while` Loop:** Executa um bloco de código enquanto uma condição é verdadeira."
      ],
      "metadata": {
        "id": "aFyfu0_XhkrH"
      }
    },
    {
      "cell_type": "code",
      "source": [
        "contador = 0\n",
        "while contador < 5:\n",
        "  print(contador)  # Isso imprimirá números de 0 a 4\n",
        "  contador += 1"
      ],
      "metadata": {
        "id": "mELnqY9choyw"
      },
      "execution_count": null,
      "outputs": []
    },
    {
      "cell_type": "markdown",
      "source": [
        "### **Importância do Controle de Fluxo:**"
      ],
      "metadata": {
        "id": "CSiWYu5ShrGN"
      }
    },
    {
      "cell_type": "markdown",
      "source": [
        "O controle de fluxo é essencial porque permite que os programas se adaptem a diferentes situações. Por exemplo, em um jogo, as ações dos personagens podem mudar com base nas decisões do jogador. Em um programa de gerenciamento, as ações podem variar com base em entradas do usuário.\n",
        "\n",
        "Em resumo, o controle de fluxo é fundamental para a lógica e a tomada de decisões em programação, permitindo que os programas sejam dinâmicos e capazes de lidar com diversas situações de maneira eficaz."
      ],
      "metadata": {
        "id": "rEMPM7sPht3s"
      }
    },
    {
      "cell_type": "markdown",
      "source": [
        "## **Listas e Tuplas**"
      ],
      "metadata": {
        "id": "2iP8TuD9gZKP"
      }
    },
    {
      "cell_type": "markdown",
      "source": [
        "### **Listas: Coleções de Itens Ordenados**"
      ],
      "metadata": {
        "id": "qBmN9T9-gu7t"
      }
    },
    {
      "cell_type": "markdown",
      "source": [
        "Pense em uma lista como uma mochila onde você pode guardar várias coisas. Cada coisa é um \"item\" na mochila, e você pode ter diferentes tipos de coisas nela. Por exemplo, pode haver uma maçã, um livro, uma caneta e assim por diante.\n",
        "\n",
        "Em Python, uma lista é como essa mochila. É uma coleção de itens que você pode armazenar juntos, e cada item tem uma posição específica, como os itens na sua mochila. Podemos criar listas assim:\n",
        "\n",
        "```python\n",
        "mochila = [\"maçã\", \"livro\", \"caneta\"]\n",
        "```\n",
        "\n",
        "Você pode acessar os itens na lista usando suas posições. Mas lembre-se, em programação, começamos a contar do zero! Então, para pegar o primeiro item, você usaria `mochila[0]`, que seria \"maçã\"."
      ],
      "metadata": {
        "id": "nw0uLr3Zg_Yw"
      }
    },
    {
      "cell_type": "markdown",
      "source": [
        "### **Tuplas: Pares que Não Mudam**"
      ],
      "metadata": {
        "id": "G6uBV8EBg843"
      }
    },
    {
      "cell_type": "markdown",
      "source": [
        "Agora, pense em uma tupla como um pacote especial que você coloca na sua mochila. Esse pacote tem dois itens que sempre andam juntos, como um combo inseparável. Por exemplo, um par de sapatos.\n",
        "\n",
        "Em Python, uma tupla é uma coleção parecida com uma lista, mas com uma diferença importante: você não pode mudar seus itens depois de criá-la. É como se a tupla fosse feita de pedra, e você não pode esculpir nada diferente nela depois de pronta.\n",
        "\n",
        "Podemos criar uma tupla assim:\n",
        "\n",
        "```python\n",
        "par_de_sapatos = (\"esquerdo\", \"direito\")\n",
        "```\n",
        "\n",
        "Você não pode adicionar, remover ou mudar os sapatos depois que a tupla for criada. É sempre \"esquerdo\" e \"direito\"!\n",
        "\n",
        "Então, em resumo, listas são como mochilas cheias de itens que você pode mexer quando quiser, enquanto tuplas são como pares que ficam juntos para sempre. Ambas são maneiras úteis de organizar informações em Python!"
      ],
      "metadata": {
        "id": "46KXiGhjhOD0"
      }
    },
    {
      "cell_type": "markdown",
      "source": [
        "### **Manipulação de Listas: Adição, Remoção, Fatiamento**"
      ],
      "metadata": {
        "id": "ZyVn00eyd1xy"
      }
    },
    {
      "cell_type": "markdown",
      "source": [
        "\n",
        "A grande flexibilidade das listas em Python permite que você faça muitas coisas úteis. Por exemplo, você pode adicionar um novo item ao final da lista usando o método `append()`:\n",
        "\n",
        "```python\n",
        "mochila.append(\"laptop\")\n",
        "```\n",
        "\n",
        "Você pode remover um item da lista usando o método `remove()`:\n",
        "\n",
        "```python\n",
        "mochila.remove(\"livro\")\n",
        "```\n",
        "\n",
        "E, se precisar apenas de uma parte da lista, você pode \"fatiá-la\" usando a notação de índice:\n",
        "\n",
        "```python\n",
        "parte_da_mochila = mochila[1:3]\n",
        "```\n",
        "\n",
        "Aqui, `mochila[1:3]` retorna uma nova lista contendo os itens nas posições 1 e 2 da mochila original.\n",
        "\n",
        "Lembre-se, em programação, a indexação começa do zero, então `mochila[1]` representa o segundo item da lista."
      ],
      "metadata": {
        "id": "qv5RJJymeDv_"
      }
    },
    {
      "cell_type": "markdown",
      "source": [
        "### **Trabalhar com Tuplas Imutáveis**"
      ],
      "metadata": {
        "id": "wkrdvUxgeIz0"
      }
    },
    {
      "cell_type": "markdown",
      "source": [
        "Ao contrário das listas, as tuplas são imutáveis. Isso significa que, após criar uma tupla, você não pode adicionar, remover ou alterar itens nela. Elas são estáveis e confiáveis.\n",
        "\n",
        "```python\n",
        "coordenadas = (10, 20)\n",
        "```\n",
        "\n",
        "Essa característica de imutabilidade torna as tuplas úteis em situações onde você quer garantir que os dados não serão acidentalmente modificados.\n",
        "\n",
        "Então, enquanto as listas são como mochilas flexíveis que você pode reorganizar, adicionar ou remover itens, as tuplas são como pacotes confiáveis que sempre mantêm seus itens originais. Ambas têm seu lugar, dependendo das necessidades do seu programa."
      ],
      "metadata": {
        "id": "S-Uf-rlyeM-j"
      }
    },
    {
      "cell_type": "markdown",
      "source": [
        "## **Exercícios 2**"
      ],
      "metadata": {
        "id": "E7ibwPgPihzK"
      }
    },
    {
      "cell_type": "markdown",
      "source": [
        "### **Controle de Fluxo:**"
      ],
      "metadata": {
        "id": "kqKBJLQ7ivKF"
      }
    },
    {
      "cell_type": "markdown",
      "source": [
        "1. Crie um programa que peça ao usuário para inserir sua idade. Se a idade for maior ou igual a 18, imprima \"Você é maior de idade.\"; caso contrário, imprima \"Você é menor de idade.\""
      ],
      "metadata": {
        "id": "pY7Rj0J7i0Wk"
      }
    },
    {
      "cell_type": "code",
      "source": [
        "idade = int(input(\"Insira sua idade: \"))\n",
        "\n",
        "if idade>=18:\n",
        "  print(\"Voce é maior de idade\")\n",
        "\n",
        "else:\n",
        "  print(\"Voce é menor de idade:\")"
      ],
      "metadata": {
        "id": "04B3ZpDOi54v"
      },
      "execution_count": null,
      "outputs": []
    },
    {
      "cell_type": "markdown",
      "source": [
        "2. Solicite ao usuário um número. Se o número for par, imprima \"Número par.\"; se for ímpar, imprima \"Número ímpar.\""
      ],
      "metadata": {
        "id": "6qGOgVG8i4_8"
      }
    },
    {
      "cell_type": "code",
      "source": [
        "numero = int(input(\"Insira um numero: \"))\n",
        "\n",
        "if numero % 2 == 0:\n",
        "  print(\"Numero par\")\n",
        "\n",
        "else:\n",
        "  print(\"numero impar\")"
      ],
      "metadata": {
        "id": "4vVgchoyi9lv"
      },
      "execution_count": null,
      "outputs": []
    },
    {
      "cell_type": "markdown",
      "source": [
        "3. Crie um programa que peça ao usuário para inserir um número. Se o número for positivo, imprima \"Número positivo.\"; se for negativo, imprima \"Número negativo.\""
      ],
      "metadata": {
        "id": "fOWjTvPDi-Qi"
      }
    },
    {
      "cell_type": "code",
      "source": [
        "numero = int(input(\"Insira um numero: \"))\n",
        "\n",
        "if numero <= 0:\n",
        "  print(\"Numero negativo\")\n",
        "\n",
        "else:\n",
        "  print(\"Numero positivo\")"
      ],
      "metadata": {
        "id": "7A75lytsjAsJ",
        "colab": {
          "base_uri": "https://localhost:8080/"
        },
        "outputId": "d9eb8ea0-a806-4a4d-ab79-1f609208dde7"
      },
      "execution_count": null,
      "outputs": [
        {
          "output_type": "stream",
          "name": "stdout",
          "text": [
            "Insira um numero: -1\n",
            "Numero negativo\n"
          ]
        }
      ]
    },
    {
      "cell_type": "markdown",
      "source": [
        "4. Peça ao usuário para inserir um número de 1 a 7. Imprima o dia da semana correspondente (1 = domingo, 2 = segunda-feira, etc.)."
      ],
      "metadata": {
        "id": "Uq8M6pNMjBZl"
      }
    },
    {
      "cell_type": "code",
      "source": [
        "dia = int(input(\"Insira um numero de 1 a 7: \"))\n",
        "\n",
        "if dia == 1:\n",
        "  print(\"domingo\")\n",
        "\n",
        "elif dia ==2:\n",
        "  print(\"segunda\")\n",
        "\n",
        "elif dia == 3:\n",
        "  print(\"terça\")\n",
        "\n",
        "elif dia == 4:\n",
        "  print(\"quarta\")\n",
        "\n",
        "elif dia == 6:\n",
        "  print(\"sexta\")\n",
        "\n",
        "elif dia == 7:\n",
        "  print(\"sabado\")\n",
        "\n",
        "else:\n",
        "  print(\"numero invalido\")\n",
        "\n"
      ],
      "metadata": {
        "id": "ZSb2paE9jEzn"
      },
      "execution_count": null,
      "outputs": []
    },
    {
      "cell_type": "markdown",
      "source": [
        "5. Crie um programa que solicite duas notas ao usuário e calcule a média. Se a média for maior ou igual a 7, imprima \"Aprovado.\"; caso contrário, imprima \"Reprovado.\""
      ],
      "metadata": {
        "id": "UrckaimAjFdy"
      }
    },
    {
      "cell_type": "code",
      "source": [
        "nota = int(input(\"Insira uma nota: \"))\n",
        "nota1 = int(input(\"Insira outra nota: \"))\n",
        "\n",
        "conta = nota + nota\n",
        "divisao = conta / 2\n",
        "\n",
        "if divisao >= 7:\n",
        "  print(\"Aprovado\")\n",
        "\n",
        "else:\n",
        "  print(\"Reprovado\")"
      ],
      "metadata": {
        "id": "2zvWT-UOjH5B",
        "colab": {
          "base_uri": "https://localhost:8080/"
        },
        "outputId": "7f0ef3f1-bf69-4e09-b767-6000ed7a06c3"
      },
      "execution_count": null,
      "outputs": [
        {
          "output_type": "stream",
          "name": "stdout",
          "text": [
            "Insira uma nota: 2\n",
            "Insira outra nota: 2\n",
            "Reprovado\n"
          ]
        }
      ]
    },
    {
      "cell_type": "markdown",
      "source": [
        "### **Listas:**"
      ],
      "metadata": {
        "id": "TKyR5hw-jIU1"
      }
    },
    {
      "cell_type": "markdown",
      "source": [
        "6. Crie uma lista de frutas. Peça ao usuário para inserir o nome de uma fruta. Se a fruta estiver na lista, imprima \"Sim, essa fruta está na lista.\"; caso contrário, imprima \"Não, essa fruta não está na lista.\""
      ],
      "metadata": {
        "id": "iYPPZuW6jLmS"
      }
    },
    {
      "cell_type": "code",
      "source": [
        "frutas = [\"maçã\", \"banana\",\"goiaba\",\"abacaxi\",\"melão\", \"melancia\",\"uva\" ]\n",
        "\n",
        "nome = input(\"insira o nome de uma fruta  \")\n",
        "\n",
        "if nome in frutas:\n",
        "  print(\"Sim, essa fruta está na lista.\")\n",
        "\n",
        "else:\n",
        "  print(\"Não, essa fruta não está na lista.\")"
      ],
      "metadata": {
        "id": "-DxEeXPjjLAh",
        "colab": {
          "base_uri": "https://localhost:8080/"
        },
        "outputId": "511dbd59-1037-4ea6-869a-094578b73818"
      },
      "execution_count": null,
      "outputs": [
        {
          "output_type": "stream",
          "name": "stdout",
          "text": [
            "insira o nome de uma fruta  jabuticaba\n",
            "Não, essa fruta não está na lista.\n"
          ]
        }
      ]
    },
    {
      "cell_type": "markdown",
      "source": [
        "7. Crie uma lista de números. Imprima o maior número na lista."
      ],
      "metadata": {
        "id": "LVyoZho5jO75"
      }
    },
    {
      "cell_type": "code",
      "source": [
        "# numeros = [\"1\",\"2\",\"3\",\"4\",\"5\",\"6\",\"7\",\"8\",\"9\",\"10\",\"11\",\"12\"]\n",
        "numeros = [100, 20, 40, 45, 67, 88]\n",
        "\n",
        "maior_valor = 0\n",
        "for numero in numeros:\n",
        "  if numero > maior_valor:\n",
        "    maior_valor = numero\n",
        "\n",
        "print(maior_valor)"
      ],
      "metadata": {
        "id": "7E07i97ajRC9",
        "outputId": "6facc0b3-4c55-4d3c-bfa0-c04dda8cf3b7",
        "colab": {
          "base_uri": "https://localhost:8080/"
        }
      },
      "execution_count": 1,
      "outputs": [
        {
          "output_type": "stream",
          "name": "stdout",
          "text": [
            "100\n"
          ]
        }
      ]
    },
    {
      "cell_type": "markdown",
      "source": [
        "8. Crie uma lista de palavras. Imprima a palavra mais longa na lista."
      ],
      "metadata": {
        "id": "Uc8icnaajUKM"
      }
    },
    {
      "cell_type": "code",
      "source": [
        "lista = [\"um\",\"dois\",\"tres\",\"quatro\",\"cinco\",\"seis\",\"sete\",\"oito\",\"nove\",\"dez\",\"onze\"]\n",
        "\n",
        "maior_valor = \"\"\n",
        "for letras in lista:\n",
        "  if len(letras) > len(maior_valor):\n",
        "    maior_valor = letras\n",
        "\n",
        "print(maior_valor)"
      ],
      "metadata": {
        "id": "Lw4AmkBRjYVO",
        "outputId": "20e4d7df-0f56-475b-bc29-7c5c0959199c",
        "colab": {
          "base_uri": "https://localhost:8080/"
        }
      },
      "execution_count": 5,
      "outputs": [
        {
          "output_type": "stream",
          "name": "stdout",
          "text": [
            "quatro\n"
          ]
        }
      ]
    },
    {
      "cell_type": "markdown",
      "source": [
        "9. Peça ao usuário para inserir cinco números inteiros. Armazene esses números em uma lista e imprima a lista."
      ],
      "metadata": {
        "id": "ozI-P_cjjYnR"
      }
    },
    {
      "cell_type": "code",
      "source": [
        "# numero1 = int(input(\"insira um numero interio  \"))\n",
        "# numero2 = int(input(\"insira um numero interio  \"))\n",
        "# numero3 = int(input(\"insira um numero interio  \"))\n",
        "# numero4 = int(input(\"insira um numero interio  \"))\n",
        "# numero5 = int(input(\"insira um numero interio  \"))\n",
        "\n",
        "# lista = [numero1, numero2, numero3, numero4, numero5]\n",
        "\n",
        "# print(lista)\n",
        "\n",
        "\n",
        "########################\n",
        "\n",
        "qtd_numeros = int(input(\"Digite a quantidade de numeros desejada: \"))\n",
        "lista = []\n",
        "for i in range(qtd_numeros):\n",
        "  lista.append(int(input(f\"Insira o numero de indice {i}: \")))\n",
        "\n",
        "print(lista)\n"
      ],
      "metadata": {
        "id": "qozgc3dTjcdV",
        "outputId": "e5e4b94a-4aa8-4614-a82f-fe0cd1224b0a",
        "colab": {
          "base_uri": "https://localhost:8080/"
        }
      },
      "execution_count": 10,
      "outputs": [
        {
          "output_type": "stream",
          "name": "stdout",
          "text": [
            "Digite a quantidade de numeros desejada: 3\n",
            "Insira o numero de indice 0: 3\n",
            "Insira o numero de indice 1: 6\n",
            "Insira o numero de indice 2: 9\n",
            "[3, 6, 9]\n"
          ]
        }
      ]
    },
    {
      "cell_type": "markdown",
      "source": [
        "10. Crie uma lista de nomes. Peça ao usuário para inserir um nome. Se o nome estiver na lista, remova-o e imprima a lista atualizada; caso contrário, imprima \"Esse nome não está na lista.\""
      ],
      "metadata": {
        "id": "i3ZAgkaWjc-k"
      }
    },
    {
      "cell_type": "code",
      "source": [
        "lista = [\"Gustavo\",\"Mariana\",\"Denilson\",\"Cristiane\"]\n",
        "\n",
        "nome = (input(\"insira um nome   \"))\n",
        "\n",
        "if nome in lista:\n",
        "  lista.remove(nome)\n",
        "  print(lista)\n",
        "\n",
        "else:\n",
        "  print(\"Esse nome não está na lista.\")"
      ],
      "metadata": {
        "id": "OHpALvHEjfDg",
        "outputId": "ccfeba12-5a3e-47b9-d60c-9fed631e8c5f",
        "colab": {
          "base_uri": "https://localhost:8080/"
        }
      },
      "execution_count": 12,
      "outputs": [
        {
          "output_type": "stream",
          "name": "stdout",
          "text": [
            "insira um nome   Gustavo\n",
            "['Mariana', 'Denilson', 'Cristiane']\n"
          ]
        }
      ]
    },
    {
      "cell_type": "markdown",
      "source": [
        "### **Tuplas:**"
      ],
      "metadata": {
        "id": "9Qg7sxGijffV"
      }
    },
    {
      "cell_type": "markdown",
      "source": [
        "11. Crie uma tupla com as estações do ano. Peça ao usuário para inserir uma estação. Se a estação estiver na tupla, imprima \"Sim, essa é uma estação.\"; caso contrário, imprima \"Não, essa não é uma estação.\""
      ],
      "metadata": {
        "id": "LR2sOFB5jilW"
      }
    },
    {
      "cell_type": "code",
      "source": [
        "estaçoes = (\"inverno\",\"verão\",\"primavera\",\"outono\")\n",
        "\n",
        "insira = input(\"insira uma estaçao do ano: \")\n",
        "\n",
        "if insira in estaçoes:\n",
        "  print(\"Sim, essa é uma estação.\")\n",
        "\n",
        "else:\n",
        "  print( \"Não, essa não é uma estação.\")\n"
      ],
      "metadata": {
        "id": "tpYMnGA_jhzh",
        "colab": {
          "base_uri": "https://localhost:8080/"
        },
        "outputId": "a9bf5d52-7fd4-40bf-97ed-23c1440a0dda"
      },
      "execution_count": 14,
      "outputs": [
        {
          "output_type": "stream",
          "name": "stdout",
          "text": [
            "insira uma estaçao do ano: gustavo\n",
            "Não, essa não é uma estação.\n"
          ]
        }
      ]
    },
    {
      "cell_type": "markdown",
      "source": [
        "12. Crie uma tupla com os dias da semana. Peça ao usuário para inserir um dia. Se o dia for um final de semana (sábado ou domingo), imprima \"É final de semana.\"; caso contrário, imprima \"Não é final de semana.\""
      ],
      "metadata": {
        "id": "9X_GOZZgjqUw"
      }
    },
    {
      "cell_type": "code",
      "source": [],
      "metadata": {
        "id": "mQnLwOGNjsyj"
      },
      "execution_count": null,
      "outputs": []
    },
    {
      "cell_type": "markdown",
      "source": [
        "13. Crie uma tupla com os meses do ano. Peça ao usuário para inserir um mês. Se o mês estiver no primeiro trimestre (janeiro a março), imprima \"Está no primeiro trimestre.\"; caso contrário, imprima \"Não está no primeiro trimestre.\""
      ],
      "metadata": {
        "id": "gIXOBLRTjtHg"
      }
    },
    {
      "cell_type": "code",
      "source": [],
      "metadata": {
        "id": "sNVlnKLAjzL-"
      },
      "execution_count": null,
      "outputs": []
    },
    {
      "cell_type": "markdown",
      "source": [
        "14. Crie uma tupla com números. Imprima a soma dos números na tupla."
      ],
      "metadata": {
        "id": "WwDbG9r3jzsh"
      }
    },
    {
      "cell_type": "code",
      "source": [],
      "metadata": {
        "id": "ex9d-eYPj1Sb"
      },
      "execution_count": null,
      "outputs": []
    },
    {
      "cell_type": "markdown",
      "source": [
        "15. Peça ao usuário para inserir dois valores. Crie uma tupla com esses valores e imprima a tupla."
      ],
      "metadata": {
        "id": "cvtI3DiXj12z"
      }
    },
    {
      "cell_type": "markdown",
      "source": [
        "### **Combinando Controle de Fluxo, Listas e Tuplas:**"
      ],
      "metadata": {
        "id": "zPVoz-w3j4uH"
      }
    },
    {
      "cell_type": "markdown",
      "source": [
        "16. Crie uma lista de números. Use um loop `for` para imprimir apenas os números pares da lista."
      ],
      "metadata": {
        "id": "ahRqZe9zj7zI"
      }
    },
    {
      "cell_type": "code",
      "source": [],
      "metadata": {
        "id": "XjEhyWY8j3-J"
      },
      "execution_count": null,
      "outputs": []
    },
    {
      "cell_type": "markdown",
      "source": [
        "17. Crie uma lista de nomes. Use um loop `while` para imprimir cada nome da lista."
      ],
      "metadata": {
        "id": "bcJtXXirj-VV"
      }
    },
    {
      "cell_type": "code",
      "source": [],
      "metadata": {
        "id": "5DNca__Qj_mX"
      },
      "execution_count": null,
      "outputs": []
    },
    {
      "cell_type": "markdown",
      "source": [
        "18. Peça ao usuário para inserir cinco números. Armazene esses números em uma lista. Em seguida, crie uma tupla com esses números e imprima a tupla."
      ],
      "metadata": {
        "id": "lEiCggepkAGa"
      }
    },
    {
      "cell_type": "code",
      "source": [],
      "metadata": {
        "id": "RMfk-OJFkEPv"
      },
      "execution_count": null,
      "outputs": []
    },
    {
      "cell_type": "markdown",
      "source": [
        "19. Crie uma lista de números. Use um loop `for` para calcular a soma dos quadrados desses números."
      ],
      "metadata": {
        "id": "LDPd_E5VkDik"
      }
    },
    {
      "cell_type": "code",
      "source": [],
      "metadata": {
        "id": "W251kKUakJO1"
      },
      "execution_count": null,
      "outputs": []
    },
    {
      "cell_type": "markdown",
      "source": [
        "20. Crie uma lista de palavras. Use um loop `while` para imprimir cada palavra da lista até encontrar a palavra \"fim\"."
      ],
      "metadata": {
        "id": "s4om47O8kJlF"
      }
    },
    {
      "cell_type": "code",
      "source": [],
      "metadata": {
        "id": "3vUD7vnhkMIl"
      },
      "execution_count": null,
      "outputs": []
    },
    {
      "cell_type": "markdown",
      "source": [
        "21. Crie uma lista de números. Use um loop `for` para imprimir apenas os números ímpares da lista."
      ],
      "metadata": {
        "id": "7HmP-mzHkMhb"
      }
    },
    {
      "cell_type": "code",
      "source": [],
      "metadata": {
        "id": "ZffoEyQckOPe"
      },
      "execution_count": null,
      "outputs": []
    },
    {
      "cell_type": "markdown",
      "source": [
        "22. Peça ao usuário para inserir cinco palavras. Armazene essas palavras em uma lista. Use um loop `while` para imprimir cada palavra da lista até encontrar a palavra \"python\"."
      ],
      "metadata": {
        "id": "Epqn_cCMkOxg"
      }
    },
    {
      "cell_type": "code",
      "source": [],
      "metadata": {
        "id": "deJtpGUdkRhO"
      },
      "execution_count": null,
      "outputs": []
    },
    {
      "cell_type": "markdown",
      "source": [
        "23. Crie uma tupla com os meses do ano. Use um loop `for` para imprimir apenas os meses que começam com a letra \"J\"."
      ],
      "metadata": {
        "id": "LZfT9yR4kR-P"
      }
    },
    {
      "cell_type": "code",
      "source": [],
      "metadata": {
        "id": "b788LCE1kTMR"
      },
      "execution_count": null,
      "outputs": []
    },
    {
      "cell_type": "markdown",
      "source": [
        "24. Crie uma lista de números. Use um loop `while` para calcular a média desses números."
      ],
      "metadata": {
        "id": "pw-5VREhkTof"
      }
    },
    {
      "cell_type": "code",
      "source": [],
      "metadata": {
        "id": "KGMB9SIrkVXT"
      },
      "execution_count": null,
      "outputs": []
    },
    {
      "cell_type": "markdown",
      "source": [
        "25. Peça ao usuário para inserir números até que ele insira zero. Armazene esses números em uma lista e imprima a lista."
      ],
      "metadata": {
        "id": "Fz9trJ-ukV0H"
      }
    },
    {
      "cell_type": "code",
      "source": [],
      "metadata": {
        "id": "bpgBJ4PvkXXY"
      },
      "execution_count": null,
      "outputs": []
    },
    {
      "cell_type": "markdown",
      "source": [
        "### **Exercícios Desafiadores:**"
      ],
      "metadata": {
        "id": "IYq7FcMFkaVH"
      }
    },
    {
      "cell_type": "markdown",
      "source": [
        "26. Crie uma lista de números. Use um loop `for` para encontrar o menor número na lista."
      ],
      "metadata": {
        "id": "ZAseYKonkcUF"
      }
    },
    {
      "cell_type": "code",
      "source": [],
      "metadata": {
        "id": "z6ItmCE5kbyI"
      },
      "execution_count": null,
      "outputs": []
    },
    {
      "cell_type": "markdown",
      "source": [
        "27. Crie uma tupla com as vogais. Peça ao usuário para inserir uma letra. Se a letra for uma vogal, imprima \"É uma vogal.\"; caso contrário, imprima \"Não é uma vogal.\""
      ],
      "metadata": {
        "id": "xVlzzYR_keLL"
      }
    },
    {
      "cell_type": "code",
      "source": [],
      "metadata": {
        "id": "wQ-JLZPtkf3K"
      },
      "execution_count": null,
      "outputs": []
    },
    {
      "cell_type": "markdown",
      "source": [
        "28. Crie uma lista de nomes. Use um loop `for` para imprimir os nomes em ordem alfabética."
      ],
      "metadata": {
        "id": "5OdfbhIHkgO3"
      }
    },
    {
      "cell_type": "code",
      "source": [],
      "metadata": {
        "id": "huLKkW8gkhhq"
      },
      "execution_count": null,
      "outputs": []
    },
    {
      "cell_type": "markdown",
      "source": [
        "29. Peça ao usuário para inserir uma sequência de números separados por vírgula. Converta essa sequência em uma lista de números e imprima a soma dos quadrados desses números."
      ],
      "metadata": {
        "id": "CwqiKqurkh99"
      }
    },
    {
      "cell_type": "code",
      "source": [],
      "metadata": {
        "id": "K2YMsF7Vkj4J"
      },
      "execution_count": null,
      "outputs": []
    },
    {
      "cell_type": "markdown",
      "source": [
        "30. Crie uma tupla com os números de 1 a 10. Peça ao usuário para adivinhar um número. Se o número estiver na tupla, imprima \"Parabéns, você acertou!\"; caso contrário, imprima \"Não foi dessa vez. Tente novamente.\""
      ],
      "metadata": {
        "id": "BFVBPhUXkkRx"
      }
    },
    {
      "cell_type": "code",
      "source": [],
      "metadata": {
        "id": "cZFdXLpXkm0x"
      },
      "execution_count": null,
      "outputs": []
    }
  ]
}